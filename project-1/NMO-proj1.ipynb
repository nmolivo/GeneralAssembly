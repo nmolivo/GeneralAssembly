{
 "cells": [
  {
   "cell_type": "markdown",
   "metadata": {},
   "source": [
    "# Project 1"
   ]
  },
  {
   "cell_type": "markdown",
   "metadata": {},
   "source": [
    "## Step 1: Load the data and perform basic operations."
   ]
  },
  {
   "cell_type": "code",
   "execution_count": 1,
   "metadata": {
    "collapsed": true
   },
   "outputs": [],
   "source": [
    "import pandas as pd\n",
    "import numpy as np\n",
    "import seaborn as sns\n",
    "import matplotlib.pyplot as plt\n",
    "from statistics import mode\n",
    "from scipy.stats import stats"
   ]
  },
  {
   "cell_type": "markdown",
   "metadata": {},
   "source": [
    "##### 1. Load the data in using pandas."
   ]
  },
  {
   "cell_type": "code",
   "execution_count": 2,
   "metadata": {
    "collapsed": true
   },
   "outputs": [],
   "source": [
    "act = pd.read_csv(\"../data/act.csv\")\n",
    "sat = pd.read_csv(\"../data/sat.csv\")"
   ]
  },
  {
   "cell_type": "markdown",
   "metadata": {},
   "source": [
    "##### 2. Print the first ten rows of each dataframe."
   ]
  },
  {
   "cell_type": "code",
   "execution_count": 3,
   "metadata": {
    "collapsed": false
   },
   "outputs": [
    {
     "data": {
      "text/html": [
       "<div>\n",
       "<style>\n",
       "    .dataframe thead tr:only-child th {\n",
       "        text-align: right;\n",
       "    }\n",
       "\n",
       "    .dataframe thead th {\n",
       "        text-align: left;\n",
       "    }\n",
       "\n",
       "    .dataframe tbody tr th {\n",
       "        vertical-align: top;\n",
       "    }\n",
       "</style>\n",
       "<table border=\"1\" class=\"dataframe\">\n",
       "  <thead>\n",
       "    <tr style=\"text-align: right;\">\n",
       "      <th></th>\n",
       "      <th>Unnamed: 0</th>\n",
       "      <th>State</th>\n",
       "      <th>Participation</th>\n",
       "      <th>English</th>\n",
       "      <th>Math</th>\n",
       "      <th>Reading</th>\n",
       "      <th>Science</th>\n",
       "      <th>Composite</th>\n",
       "    </tr>\n",
       "  </thead>\n",
       "  <tbody>\n",
       "    <tr>\n",
       "      <th>0</th>\n",
       "      <td>0</td>\n",
       "      <td>National</td>\n",
       "      <td>60%</td>\n",
       "      <td>20.3</td>\n",
       "      <td>20.7</td>\n",
       "      <td>21.4</td>\n",
       "      <td>21.0</td>\n",
       "      <td>21.0</td>\n",
       "    </tr>\n",
       "    <tr>\n",
       "      <th>1</th>\n",
       "      <td>1</td>\n",
       "      <td>Alabama</td>\n",
       "      <td>100%</td>\n",
       "      <td>18.9</td>\n",
       "      <td>18.4</td>\n",
       "      <td>19.7</td>\n",
       "      <td>19.4</td>\n",
       "      <td>19.2</td>\n",
       "    </tr>\n",
       "    <tr>\n",
       "      <th>2</th>\n",
       "      <td>2</td>\n",
       "      <td>Alaska</td>\n",
       "      <td>65%</td>\n",
       "      <td>18.7</td>\n",
       "      <td>19.8</td>\n",
       "      <td>20.4</td>\n",
       "      <td>19.9</td>\n",
       "      <td>19.8</td>\n",
       "    </tr>\n",
       "    <tr>\n",
       "      <th>3</th>\n",
       "      <td>3</td>\n",
       "      <td>Arizona</td>\n",
       "      <td>62%</td>\n",
       "      <td>18.6</td>\n",
       "      <td>19.8</td>\n",
       "      <td>20.1</td>\n",
       "      <td>19.8</td>\n",
       "      <td>19.7</td>\n",
       "    </tr>\n",
       "    <tr>\n",
       "      <th>4</th>\n",
       "      <td>4</td>\n",
       "      <td>Arkansas</td>\n",
       "      <td>100%</td>\n",
       "      <td>18.9</td>\n",
       "      <td>19.0</td>\n",
       "      <td>19.7</td>\n",
       "      <td>19.5</td>\n",
       "      <td>19.4</td>\n",
       "    </tr>\n",
       "    <tr>\n",
       "      <th>5</th>\n",
       "      <td>5</td>\n",
       "      <td>California</td>\n",
       "      <td>31%</td>\n",
       "      <td>22.5</td>\n",
       "      <td>22.7</td>\n",
       "      <td>23.1</td>\n",
       "      <td>22.2</td>\n",
       "      <td>22.8</td>\n",
       "    </tr>\n",
       "    <tr>\n",
       "      <th>6</th>\n",
       "      <td>6</td>\n",
       "      <td>Colorado</td>\n",
       "      <td>100%</td>\n",
       "      <td>20.1</td>\n",
       "      <td>20.3</td>\n",
       "      <td>21.2</td>\n",
       "      <td>20.9</td>\n",
       "      <td>20.8</td>\n",
       "    </tr>\n",
       "    <tr>\n",
       "      <th>7</th>\n",
       "      <td>7</td>\n",
       "      <td>Connecticut</td>\n",
       "      <td>31%</td>\n",
       "      <td>25.5</td>\n",
       "      <td>24.6</td>\n",
       "      <td>25.6</td>\n",
       "      <td>24.6</td>\n",
       "      <td>25.2</td>\n",
       "    </tr>\n",
       "    <tr>\n",
       "      <th>8</th>\n",
       "      <td>8</td>\n",
       "      <td>Delaware</td>\n",
       "      <td>18%</td>\n",
       "      <td>24.1</td>\n",
       "      <td>23.4</td>\n",
       "      <td>24.8</td>\n",
       "      <td>23.6</td>\n",
       "      <td>24.1</td>\n",
       "    </tr>\n",
       "    <tr>\n",
       "      <th>9</th>\n",
       "      <td>9</td>\n",
       "      <td>District of Columbia</td>\n",
       "      <td>32%</td>\n",
       "      <td>24.4</td>\n",
       "      <td>23.5</td>\n",
       "      <td>24.9</td>\n",
       "      <td>23.5</td>\n",
       "      <td>24.2</td>\n",
       "    </tr>\n",
       "  </tbody>\n",
       "</table>\n",
       "</div>"
      ],
      "text/plain": [
       "   Unnamed: 0                 State Participation  English  Math  Reading  \\\n",
       "0           0              National           60%     20.3  20.7     21.4   \n",
       "1           1               Alabama          100%     18.9  18.4     19.7   \n",
       "2           2                Alaska           65%     18.7  19.8     20.4   \n",
       "3           3               Arizona           62%     18.6  19.8     20.1   \n",
       "4           4              Arkansas          100%     18.9  19.0     19.7   \n",
       "5           5            California           31%     22.5  22.7     23.1   \n",
       "6           6              Colorado          100%     20.1  20.3     21.2   \n",
       "7           7           Connecticut           31%     25.5  24.6     25.6   \n",
       "8           8              Delaware           18%     24.1  23.4     24.8   \n",
       "9           9  District of Columbia           32%     24.4  23.5     24.9   \n",
       "\n",
       "   Science  Composite  \n",
       "0     21.0       21.0  \n",
       "1     19.4       19.2  \n",
       "2     19.9       19.8  \n",
       "3     19.8       19.7  \n",
       "4     19.5       19.4  \n",
       "5     22.2       22.8  \n",
       "6     20.9       20.8  \n",
       "7     24.6       25.2  \n",
       "8     23.6       24.1  \n",
       "9     23.5       24.2  "
      ]
     },
     "execution_count": 3,
     "metadata": {},
     "output_type": "execute_result"
    }
   ],
   "source": [
    "act.head(10)"
   ]
  },
  {
   "cell_type": "code",
   "execution_count": 4,
   "metadata": {
    "collapsed": false
   },
   "outputs": [
    {
     "data": {
      "text/html": [
       "<div>\n",
       "<style>\n",
       "    .dataframe thead tr:only-child th {\n",
       "        text-align: right;\n",
       "    }\n",
       "\n",
       "    .dataframe thead th {\n",
       "        text-align: left;\n",
       "    }\n",
       "\n",
       "    .dataframe tbody tr th {\n",
       "        vertical-align: top;\n",
       "    }\n",
       "</style>\n",
       "<table border=\"1\" class=\"dataframe\">\n",
       "  <thead>\n",
       "    <tr style=\"text-align: right;\">\n",
       "      <th></th>\n",
       "      <th>Unnamed: 0</th>\n",
       "      <th>State</th>\n",
       "      <th>Participation</th>\n",
       "      <th>Evidence-Based Reading and Writing</th>\n",
       "      <th>Math</th>\n",
       "      <th>Total</th>\n",
       "    </tr>\n",
       "  </thead>\n",
       "  <tbody>\n",
       "    <tr>\n",
       "      <th>0</th>\n",
       "      <td>0</td>\n",
       "      <td>Alabama</td>\n",
       "      <td>5%</td>\n",
       "      <td>593</td>\n",
       "      <td>572</td>\n",
       "      <td>1165</td>\n",
       "    </tr>\n",
       "    <tr>\n",
       "      <th>1</th>\n",
       "      <td>1</td>\n",
       "      <td>Alaska</td>\n",
       "      <td>38%</td>\n",
       "      <td>547</td>\n",
       "      <td>533</td>\n",
       "      <td>1080</td>\n",
       "    </tr>\n",
       "    <tr>\n",
       "      <th>2</th>\n",
       "      <td>2</td>\n",
       "      <td>Arizona</td>\n",
       "      <td>30%</td>\n",
       "      <td>563</td>\n",
       "      <td>553</td>\n",
       "      <td>1116</td>\n",
       "    </tr>\n",
       "    <tr>\n",
       "      <th>3</th>\n",
       "      <td>3</td>\n",
       "      <td>Arkansas</td>\n",
       "      <td>3%</td>\n",
       "      <td>614</td>\n",
       "      <td>594</td>\n",
       "      <td>1208</td>\n",
       "    </tr>\n",
       "    <tr>\n",
       "      <th>4</th>\n",
       "      <td>4</td>\n",
       "      <td>California</td>\n",
       "      <td>53%</td>\n",
       "      <td>531</td>\n",
       "      <td>524</td>\n",
       "      <td>1055</td>\n",
       "    </tr>\n",
       "    <tr>\n",
       "      <th>5</th>\n",
       "      <td>5</td>\n",
       "      <td>Colorado</td>\n",
       "      <td>11%</td>\n",
       "      <td>606</td>\n",
       "      <td>595</td>\n",
       "      <td>1201</td>\n",
       "    </tr>\n",
       "    <tr>\n",
       "      <th>6</th>\n",
       "      <td>6</td>\n",
       "      <td>Connecticut</td>\n",
       "      <td>100%</td>\n",
       "      <td>530</td>\n",
       "      <td>512</td>\n",
       "      <td>1041</td>\n",
       "    </tr>\n",
       "    <tr>\n",
       "      <th>7</th>\n",
       "      <td>7</td>\n",
       "      <td>Delaware</td>\n",
       "      <td>100%</td>\n",
       "      <td>503</td>\n",
       "      <td>492</td>\n",
       "      <td>996</td>\n",
       "    </tr>\n",
       "    <tr>\n",
       "      <th>8</th>\n",
       "      <td>8</td>\n",
       "      <td>District of Columbia</td>\n",
       "      <td>100%</td>\n",
       "      <td>482</td>\n",
       "      <td>468</td>\n",
       "      <td>950</td>\n",
       "    </tr>\n",
       "    <tr>\n",
       "      <th>9</th>\n",
       "      <td>9</td>\n",
       "      <td>Florida</td>\n",
       "      <td>83%</td>\n",
       "      <td>520</td>\n",
       "      <td>497</td>\n",
       "      <td>1017</td>\n",
       "    </tr>\n",
       "  </tbody>\n",
       "</table>\n",
       "</div>"
      ],
      "text/plain": [
       "   Unnamed: 0                 State Participation  \\\n",
       "0           0               Alabama            5%   \n",
       "1           1                Alaska           38%   \n",
       "2           2               Arizona           30%   \n",
       "3           3              Arkansas            3%   \n",
       "4           4            California           53%   \n",
       "5           5              Colorado           11%   \n",
       "6           6           Connecticut          100%   \n",
       "7           7              Delaware          100%   \n",
       "8           8  District of Columbia          100%   \n",
       "9           9               Florida           83%   \n",
       "\n",
       "   Evidence-Based Reading and Writing  Math  Total  \n",
       "0                                 593   572   1165  \n",
       "1                                 547   533   1080  \n",
       "2                                 563   553   1116  \n",
       "3                                 614   594   1208  \n",
       "4                                 531   524   1055  \n",
       "5                                 606   595   1201  \n",
       "6                                 530   512   1041  \n",
       "7                                 503   492    996  \n",
       "8                                 482   468    950  \n",
       "9                                 520   497   1017  "
      ]
     },
     "execution_count": 4,
     "metadata": {},
     "output_type": "execute_result"
    }
   ],
   "source": [
    "sat.head(10)"
   ]
  },
  {
   "cell_type": "markdown",
   "metadata": {},
   "source": [
    "##### 3. Describe in words what each variable (column) is."
   ]
  },
  {
   "cell_type": "markdown",
   "metadata": {
    "collapsed": true
   },
   "source": [
    "We are given data about state-wide ACT and SAT scores, including the statewide participation rate.<br><br>\n",
    "<b>The columns for each are as follows:</b><br>\n",
    "- \"Unnamed:0\" - unique identifier\n",
    "- \"State\" - State name\n",
    "- \"Participation\" - what percentage of high school seniors took the exam<br>\n",
    "\n",
    "<b>ACT columns:</b><br>\n",
    "\n",
    "- \"English\" - the statewide average score on the English section of the ACT\n",
    "- \"Math\" - the statewide average score on the Math section of the ACT\n",
    "- \"Reading\" - the statewide average score on the Reading section of the ACT\n",
    "- \"Science\" the statewide average score on the Science section of the ACT\n",
    "- \"Composite\" - each exam taker's nomial ACT score is refered to as their composite. Composites are the average of the three sections on the ACT. This column represents the statewide average score on the ACT.<br>\n",
    "\n",
    "<b>SAT columns:</b><br>\n",
    "\n",
    "- \"Evidence-Based Reading and Writing\" - the statewide average score on the Reading/Writing section of the SAT\n",
    "- \"Math\" - the statewide average score on the Math section of the SAT\n",
    "- \"Total\" - each exam taker's nomial SAT score is the sum of the scores on the two sections. This column represents the statewide average score on the SAT.<br><br>\n",
    "\n",
    "<b>Limitations:</b>\n",
    "- Notice that the SAT data does not contain a row with the national averages, therefore Unique Identifiers will not align in the datasets. We will need to merge  by State if we choose to do so."
   ]
  },
  {
   "cell_type": "markdown",
   "metadata": {},
   "source": [
    "##### 4. Does the data look complete? Are there any obvious issues with the observations?"
   ]
  },
  {
   "cell_type": "markdown",
   "metadata": {},
   "source": [
    "Checks completed for ACT and SAT datasets\n",
    "- Duplicates\n",
    "- Unreasonable values\n",
    "  * Any mean values that exceed the maximum possible value\n",
    "  * Range of subject scores are not extreme for any one state \n",
    "  * Any extreme differences between the calculated Composite or Total and the one given in the data "
   ]
  },
  {
   "cell_type": "markdown",
   "metadata": {},
   "source": [
    "### ACT data"
   ]
  },
  {
   "cell_type": "code",
   "execution_count": 5,
   "metadata": {
    "collapsed": false
   },
   "outputs": [
    {
     "data": {
      "text/plain": [
       "0"
      ]
     },
     "execution_count": 5,
     "metadata": {},
     "output_type": "execute_result"
    }
   ],
   "source": [
    "sum(act.duplicated())"
   ]
  },
  {
   "cell_type": "code",
   "execution_count": 6,
   "metadata": {
    "collapsed": false
   },
   "outputs": [
    {
     "data": {
      "text/html": [
       "<div>\n",
       "<style>\n",
       "    .dataframe thead tr:only-child th {\n",
       "        text-align: right;\n",
       "    }\n",
       "\n",
       "    .dataframe thead th {\n",
       "        text-align: left;\n",
       "    }\n",
       "\n",
       "    .dataframe tbody tr th {\n",
       "        vertical-align: top;\n",
       "    }\n",
       "</style>\n",
       "<table border=\"1\" class=\"dataframe\">\n",
       "  <thead>\n",
       "    <tr style=\"text-align: right;\">\n",
       "      <th></th>\n",
       "      <th>English</th>\n",
       "      <th>Math</th>\n",
       "      <th>Reading</th>\n",
       "      <th>Science</th>\n",
       "    </tr>\n",
       "  </thead>\n",
       "  <tbody>\n",
       "    <tr>\n",
       "      <th>count</th>\n",
       "      <td>52.000000</td>\n",
       "      <td>52.000000</td>\n",
       "      <td>52.000000</td>\n",
       "      <td>52.000000</td>\n",
       "    </tr>\n",
       "    <tr>\n",
       "      <th>mean</th>\n",
       "      <td>20.919231</td>\n",
       "      <td>21.173077</td>\n",
       "      <td>22.001923</td>\n",
       "      <td>21.442308</td>\n",
       "    </tr>\n",
       "    <tr>\n",
       "      <th>std</th>\n",
       "      <td>2.332132</td>\n",
       "      <td>1.963602</td>\n",
       "      <td>2.048672</td>\n",
       "      <td>1.723351</td>\n",
       "    </tr>\n",
       "    <tr>\n",
       "      <th>min</th>\n",
       "      <td>16.300000</td>\n",
       "      <td>18.000000</td>\n",
       "      <td>18.100000</td>\n",
       "      <td>18.200000</td>\n",
       "    </tr>\n",
       "    <tr>\n",
       "      <th>25%</th>\n",
       "      <td>19.000000</td>\n",
       "      <td>19.400000</td>\n",
       "      <td>20.475000</td>\n",
       "      <td>19.975000</td>\n",
       "    </tr>\n",
       "    <tr>\n",
       "      <th>50%</th>\n",
       "      <td>20.550000</td>\n",
       "      <td>20.900000</td>\n",
       "      <td>21.700000</td>\n",
       "      <td>21.300000</td>\n",
       "    </tr>\n",
       "    <tr>\n",
       "      <th>75%</th>\n",
       "      <td>23.300000</td>\n",
       "      <td>23.100000</td>\n",
       "      <td>24.125000</td>\n",
       "      <td>23.200000</td>\n",
       "    </tr>\n",
       "    <tr>\n",
       "      <th>max</th>\n",
       "      <td>25.500000</td>\n",
       "      <td>25.300000</td>\n",
       "      <td>26.000000</td>\n",
       "      <td>24.900000</td>\n",
       "    </tr>\n",
       "  </tbody>\n",
       "</table>\n",
       "</div>"
      ],
      "text/plain": [
       "         English       Math    Reading    Science\n",
       "count  52.000000  52.000000  52.000000  52.000000\n",
       "mean   20.919231  21.173077  22.001923  21.442308\n",
       "std     2.332132   1.963602   2.048672   1.723351\n",
       "min    16.300000  18.000000  18.100000  18.200000\n",
       "25%    19.000000  19.400000  20.475000  19.975000\n",
       "50%    20.550000  20.900000  21.700000  21.300000\n",
       "75%    23.300000  23.100000  24.125000  23.200000\n",
       "max    25.500000  25.300000  26.000000  24.900000"
      ]
     },
     "execution_count": 6,
     "metadata": {},
     "output_type": "execute_result"
    }
   ],
   "source": [
    "# Here we will see the max and min of each column\n",
    "# We want to make sure no maximum exceeds 36, the maximum score on the ACT\n",
    "act[[\"English\", \"Math\", \"Reading\", \"Science\"]].describe()"
   ]
  },
  {
   "cell_type": "code",
   "execution_count": 7,
   "metadata": {
    "collapsed": true
   },
   "outputs": [],
   "source": [
    "# Here we will strip the percentage sign from the \"Participation\" column \n",
    "# So we can later sort and determine that its max and min are reasonable."
   ]
  },
  {
   "cell_type": "code",
   "execution_count": 8,
   "metadata": {
    "collapsed": false
   },
   "outputs": [],
   "source": [
    "act[\"Participation\"] = act.apply(lambda x: int(x[\"Participation\"].replace(\"%\",\"\")), axis =1)"
   ]
  },
  {
   "cell_type": "code",
   "execution_count": 9,
   "metadata": {
    "collapsed": false
   },
   "outputs": [
    {
     "data": {
      "text/plain": [
       "count     52.000000\n",
       "mean      65.153846\n",
       "std       31.832518\n",
       "min        8.000000\n",
       "25%       31.000000\n",
       "50%       68.000000\n",
       "75%      100.000000\n",
       "max      100.000000\n",
       "Name: Participation, dtype: float64"
      ]
     },
     "execution_count": 9,
     "metadata": {},
     "output_type": "execute_result"
    }
   ],
   "source": [
    "act[\"Participation\"].describe()"
   ]
  },
  {
   "cell_type": "code",
   "execution_count": 10,
   "metadata": {
    "collapsed": false
   },
   "outputs": [
    {
     "data": {
      "text/html": [
       "<div>\n",
       "<style>\n",
       "    .dataframe thead tr:only-child th {\n",
       "        text-align: right;\n",
       "    }\n",
       "\n",
       "    .dataframe thead th {\n",
       "        text-align: left;\n",
       "    }\n",
       "\n",
       "    .dataframe tbody tr th {\n",
       "        vertical-align: top;\n",
       "    }\n",
       "</style>\n",
       "<table border=\"1\" class=\"dataframe\">\n",
       "  <thead>\n",
       "    <tr style=\"text-align: right;\">\n",
       "      <th></th>\n",
       "      <th>Unnamed: 0</th>\n",
       "      <th>State</th>\n",
       "      <th>Participation</th>\n",
       "      <th>English</th>\n",
       "      <th>Math</th>\n",
       "      <th>Reading</th>\n",
       "      <th>Science</th>\n",
       "      <th>Composite</th>\n",
       "    </tr>\n",
       "  </thead>\n",
       "  <tbody>\n",
       "    <tr>\n",
       "      <th>20</th>\n",
       "      <td>20</td>\n",
       "      <td>Maine</td>\n",
       "      <td>8</td>\n",
       "      <td>24.2</td>\n",
       "      <td>24.0</td>\n",
       "      <td>24.8</td>\n",
       "      <td>23.7</td>\n",
       "      <td>24.3</td>\n",
       "    </tr>\n",
       "    <tr>\n",
       "      <th>30</th>\n",
       "      <td>30</td>\n",
       "      <td>New Hampshire</td>\n",
       "      <td>18</td>\n",
       "      <td>25.4</td>\n",
       "      <td>25.1</td>\n",
       "      <td>26.0</td>\n",
       "      <td>24.9</td>\n",
       "      <td>25.5</td>\n",
       "    </tr>\n",
       "    <tr>\n",
       "      <th>8</th>\n",
       "      <td>8</td>\n",
       "      <td>Delaware</td>\n",
       "      <td>18</td>\n",
       "      <td>24.1</td>\n",
       "      <td>23.4</td>\n",
       "      <td>24.8</td>\n",
       "      <td>23.6</td>\n",
       "      <td>24.1</td>\n",
       "    </tr>\n",
       "    <tr>\n",
       "      <th>40</th>\n",
       "      <td>40</td>\n",
       "      <td>Rhode Island</td>\n",
       "      <td>21</td>\n",
       "      <td>24.0</td>\n",
       "      <td>23.3</td>\n",
       "      <td>24.7</td>\n",
       "      <td>23.4</td>\n",
       "      <td>24.0</td>\n",
       "    </tr>\n",
       "    <tr>\n",
       "      <th>39</th>\n",
       "      <td>39</td>\n",
       "      <td>Pennsylvania</td>\n",
       "      <td>23</td>\n",
       "      <td>23.4</td>\n",
       "      <td>23.4</td>\n",
       "      <td>24.2</td>\n",
       "      <td>23.3</td>\n",
       "      <td>23.7</td>\n",
       "    </tr>\n",
       "  </tbody>\n",
       "</table>\n",
       "</div>"
      ],
      "text/plain": [
       "    Unnamed: 0          State  Participation  English  Math  Reading  Science  \\\n",
       "20          20          Maine              8     24.2  24.0     24.8     23.7   \n",
       "30          30  New Hampshire             18     25.4  25.1     26.0     24.9   \n",
       "8            8       Delaware             18     24.1  23.4     24.8     23.6   \n",
       "40          40   Rhode Island             21     24.0  23.3     24.7     23.4   \n",
       "39          39   Pennsylvania             23     23.4  23.4     24.2     23.3   \n",
       "\n",
       "    Composite  \n",
       "20       24.3  \n",
       "30       25.5  \n",
       "8        24.1  \n",
       "40       24.0  \n",
       "39       23.7  "
      ]
     },
     "execution_count": 10,
     "metadata": {},
     "output_type": "execute_result"
    }
   ],
   "source": [
    "act.sort_values(\"Participation\").head(5)"
   ]
  },
  {
   "cell_type": "code",
   "execution_count": 11,
   "metadata": {
    "collapsed": true
   },
   "outputs": [],
   "source": [
    "# As the source blog indicates, Maine has the lowest participation rate in the ACT. \n",
    "# This indicates that the SAT is the dominant exam in that part of the country."
   ]
  },
  {
   "cell_type": "code",
   "execution_count": 12,
   "metadata": {
    "collapsed": true
   },
   "outputs": [],
   "source": [
    "# Create column that calculates range of subject scores\n",
    "def a_range(alist):\n",
    "    a = max(alist)\n",
    "    b = min(alist)\n",
    "    return a-b"
   ]
  },
  {
   "cell_type": "code",
   "execution_count": 13,
   "metadata": {
    "collapsed": false
   },
   "outputs": [],
   "source": [
    "act['score_range'] = act.apply(lambda x: a_range([x[\"English\"],x[\"Math\"],x[\"Reading\"],x[\"Science\"]]), axis=1)"
   ]
  },
  {
   "cell_type": "code",
   "execution_count": 14,
   "metadata": {
    "collapsed": false
   },
   "outputs": [
    {
     "data": {
      "text/plain": [
       "1.2    6\n",
       "1.6    5\n",
       "1.3    4\n",
       "1.0    4\n",
       "1.4    4\n",
       "1.1    4\n",
       "0.8    3\n",
       "0.9    3\n",
       "1.1    3\n",
       "1.8    2\n",
       "1.4    2\n",
       "2.0    2\n",
       "1.5    2\n",
       "0.6    1\n",
       "1.9    1\n",
       "0.9    1\n",
       "0.7    1\n",
       "1.8    1\n",
       "1.7    1\n",
       "1.3    1\n",
       "1.2    1\n",
       "Name: score_range, dtype: int64"
      ]
     },
     "execution_count": 14,
     "metadata": {},
     "output_type": "execute_result"
    }
   ],
   "source": [
    "act[\"score_range\"].value_counts()"
   ]
  },
  {
   "cell_type": "code",
   "execution_count": 15,
   "metadata": {
    "collapsed": true
   },
   "outputs": [],
   "source": [
    "# There are no outrageous differences between the maximum and minimum scores per state, they are reasonable. \n",
    "# We can assume there aren't any erroneous outlier values."
   ]
  },
  {
   "cell_type": "code",
   "execution_count": 16,
   "metadata": {
    "collapsed": false
   },
   "outputs": [],
   "source": [
    "# Create column to make sure Composites are reasonable.\n",
    "act['checkcol'] = act.apply(lambda x: np.mean([x[\"English\"],x[\"Math\"], x[\"Reading\"], x[\"Science\"]]), axis=1)"
   ]
  },
  {
   "cell_type": "code",
   "execution_count": 17,
   "metadata": {
    "collapsed": false
   },
   "outputs": [],
   "source": [
    "act[\"diff_check\"] = act.apply(lambda x: x[\"Composite\"]-x[\"checkcol\"], axis =1)"
   ]
  },
  {
   "cell_type": "code",
   "execution_count": 18,
   "metadata": {
    "collapsed": false
   },
   "outputs": [
    {
     "data": {
      "text/plain": [
       "0.100    9\n",
       "0.125    9\n",
       "0.150    7\n",
       "0.100    7\n",
       "0.175    5\n",
       "0.125    4\n",
       "0.175    4\n",
       "0.075    2\n",
       "0.125    2\n",
       "0.050    1\n",
       "0.150    1\n",
       "0.075    1\n",
       "Name: diff_check, dtype: int64"
      ]
     },
     "execution_count": 18,
     "metadata": {},
     "output_type": "execute_result"
    }
   ],
   "source": [
    "act[\"diff_check\"].value_counts()"
   ]
  },
  {
   "cell_type": "code",
   "execution_count": 19,
   "metadata": {
    "collapsed": true
   },
   "outputs": [],
   "source": [
    "# Here we see that there's slight differences between the Composite and true average of the scores. \n",
    "# Perhaps there is a weighting in its calculation we do not know about. It is not provided from the source site."
   ]
  },
  {
   "cell_type": "markdown",
   "metadata": {},
   "source": [
    "### SAT data"
   ]
  },
  {
   "cell_type": "code",
   "execution_count": 20,
   "metadata": {
    "collapsed": false
   },
   "outputs": [
    {
     "data": {
      "text/html": [
       "<div>\n",
       "<style>\n",
       "    .dataframe thead tr:only-child th {\n",
       "        text-align: right;\n",
       "    }\n",
       "\n",
       "    .dataframe thead th {\n",
       "        text-align: left;\n",
       "    }\n",
       "\n",
       "    .dataframe tbody tr th {\n",
       "        vertical-align: top;\n",
       "    }\n",
       "</style>\n",
       "<table border=\"1\" class=\"dataframe\">\n",
       "  <thead>\n",
       "    <tr style=\"text-align: right;\">\n",
       "      <th></th>\n",
       "      <th>Unnamed: 0</th>\n",
       "      <th>State</th>\n",
       "      <th>Participation</th>\n",
       "      <th>Evidence-Based Reading and Writing</th>\n",
       "      <th>Math</th>\n",
       "      <th>Total</th>\n",
       "    </tr>\n",
       "  </thead>\n",
       "  <tbody>\n",
       "    <tr>\n",
       "      <th>0</th>\n",
       "      <td>0</td>\n",
       "      <td>Alabama</td>\n",
       "      <td>5%</td>\n",
       "      <td>593</td>\n",
       "      <td>572</td>\n",
       "      <td>1165</td>\n",
       "    </tr>\n",
       "    <tr>\n",
       "      <th>1</th>\n",
       "      <td>1</td>\n",
       "      <td>Alaska</td>\n",
       "      <td>38%</td>\n",
       "      <td>547</td>\n",
       "      <td>533</td>\n",
       "      <td>1080</td>\n",
       "    </tr>\n",
       "    <tr>\n",
       "      <th>2</th>\n",
       "      <td>2</td>\n",
       "      <td>Arizona</td>\n",
       "      <td>30%</td>\n",
       "      <td>563</td>\n",
       "      <td>553</td>\n",
       "      <td>1116</td>\n",
       "    </tr>\n",
       "    <tr>\n",
       "      <th>3</th>\n",
       "      <td>3</td>\n",
       "      <td>Arkansas</td>\n",
       "      <td>3%</td>\n",
       "      <td>614</td>\n",
       "      <td>594</td>\n",
       "      <td>1208</td>\n",
       "    </tr>\n",
       "    <tr>\n",
       "      <th>4</th>\n",
       "      <td>4</td>\n",
       "      <td>California</td>\n",
       "      <td>53%</td>\n",
       "      <td>531</td>\n",
       "      <td>524</td>\n",
       "      <td>1055</td>\n",
       "    </tr>\n",
       "  </tbody>\n",
       "</table>\n",
       "</div>"
      ],
      "text/plain": [
       "   Unnamed: 0       State Participation  Evidence-Based Reading and Writing  \\\n",
       "0           0     Alabama            5%                                 593   \n",
       "1           1      Alaska           38%                                 547   \n",
       "2           2     Arizona           30%                                 563   \n",
       "3           3    Arkansas            3%                                 614   \n",
       "4           4  California           53%                                 531   \n",
       "\n",
       "   Math  Total  \n",
       "0   572   1165  \n",
       "1   533   1080  \n",
       "2   553   1116  \n",
       "3   594   1208  \n",
       "4   524   1055  "
      ]
     },
     "execution_count": 20,
     "metadata": {},
     "output_type": "execute_result"
    }
   ],
   "source": [
    "sat.head()"
   ]
  },
  {
   "cell_type": "code",
   "execution_count": 21,
   "metadata": {
    "collapsed": false
   },
   "outputs": [
    {
     "data": {
      "text/plain": [
       "0"
      ]
     },
     "execution_count": 21,
     "metadata": {},
     "output_type": "execute_result"
    }
   ],
   "source": [
    "sum(sat.duplicated())"
   ]
  },
  {
   "cell_type": "code",
   "execution_count": 22,
   "metadata": {
    "collapsed": false
   },
   "outputs": [
    {
     "data": {
      "text/html": [
       "<div>\n",
       "<style>\n",
       "    .dataframe thead tr:only-child th {\n",
       "        text-align: right;\n",
       "    }\n",
       "\n",
       "    .dataframe thead th {\n",
       "        text-align: left;\n",
       "    }\n",
       "\n",
       "    .dataframe tbody tr th {\n",
       "        vertical-align: top;\n",
       "    }\n",
       "</style>\n",
       "<table border=\"1\" class=\"dataframe\">\n",
       "  <thead>\n",
       "    <tr style=\"text-align: right;\">\n",
       "      <th></th>\n",
       "      <th>Evidence-Based Reading and Writing</th>\n",
       "      <th>Math</th>\n",
       "      <th>Total</th>\n",
       "    </tr>\n",
       "  </thead>\n",
       "  <tbody>\n",
       "    <tr>\n",
       "      <th>count</th>\n",
       "      <td>51.000000</td>\n",
       "      <td>51.000000</td>\n",
       "      <td>51.000000</td>\n",
       "    </tr>\n",
       "    <tr>\n",
       "      <th>mean</th>\n",
       "      <td>569.117647</td>\n",
       "      <td>556.882353</td>\n",
       "      <td>1126.098039</td>\n",
       "    </tr>\n",
       "    <tr>\n",
       "      <th>std</th>\n",
       "      <td>45.666901</td>\n",
       "      <td>47.121395</td>\n",
       "      <td>92.494812</td>\n",
       "    </tr>\n",
       "    <tr>\n",
       "      <th>min</th>\n",
       "      <td>482.000000</td>\n",
       "      <td>468.000000</td>\n",
       "      <td>950.000000</td>\n",
       "    </tr>\n",
       "    <tr>\n",
       "      <th>25%</th>\n",
       "      <td>533.500000</td>\n",
       "      <td>523.500000</td>\n",
       "      <td>1055.500000</td>\n",
       "    </tr>\n",
       "    <tr>\n",
       "      <th>50%</th>\n",
       "      <td>559.000000</td>\n",
       "      <td>548.000000</td>\n",
       "      <td>1107.000000</td>\n",
       "    </tr>\n",
       "    <tr>\n",
       "      <th>75%</th>\n",
       "      <td>613.000000</td>\n",
       "      <td>599.000000</td>\n",
       "      <td>1212.000000</td>\n",
       "    </tr>\n",
       "    <tr>\n",
       "      <th>max</th>\n",
       "      <td>644.000000</td>\n",
       "      <td>651.000000</td>\n",
       "      <td>1295.000000</td>\n",
       "    </tr>\n",
       "  </tbody>\n",
       "</table>\n",
       "</div>"
      ],
      "text/plain": [
       "       Evidence-Based Reading and Writing        Math        Total\n",
       "count                           51.000000   51.000000    51.000000\n",
       "mean                           569.117647  556.882353  1126.098039\n",
       "std                             45.666901   47.121395    92.494812\n",
       "min                            482.000000  468.000000   950.000000\n",
       "25%                            533.500000  523.500000  1055.500000\n",
       "50%                            559.000000  548.000000  1107.000000\n",
       "75%                            613.000000  599.000000  1212.000000\n",
       "max                            644.000000  651.000000  1295.000000"
      ]
     },
     "execution_count": 22,
     "metadata": {},
     "output_type": "execute_result"
    }
   ],
   "source": [
    "# Here we will see the max and min of each column\n",
    "# We want to make sure no score maximum exceeds 800, the maximum score on a single section of the SAT\n",
    "# Also, we're going to see that no Total exceeds 1600\n",
    "sat[[\"Evidence-Based Reading and Writing\", \"Math\", \"Total\"]].describe()"
   ]
  },
  {
   "cell_type": "code",
   "execution_count": 23,
   "metadata": {
    "collapsed": true
   },
   "outputs": [],
   "source": [
    "# Nothing looks out of line, everything looks reasonable."
   ]
  },
  {
   "cell_type": "code",
   "execution_count": 24,
   "metadata": {
    "collapsed": true
   },
   "outputs": [],
   "source": [
    "# I think the \"Evidence-Based Reading and Writing\" column name is too long to type over and over. \n",
    "# We're going to change its name to \"ReadingWriting\"."
   ]
  },
  {
   "cell_type": "code",
   "execution_count": 25,
   "metadata": {
    "collapsed": true
   },
   "outputs": [],
   "source": [
    "sat = sat.rename(columns={'Evidence-Based Reading and Writing': 'ReadingWriting'})"
   ]
  },
  {
   "cell_type": "code",
   "execution_count": 26,
   "metadata": {
    "collapsed": true
   },
   "outputs": [],
   "source": [
    "# Here we will strip the percentage sign from the \"Participation\" column \n",
    "# So we can later sort and determine that its max and min are reasonable."
   ]
  },
  {
   "cell_type": "code",
   "execution_count": 27,
   "metadata": {
    "collapsed": true
   },
   "outputs": [],
   "source": [
    "sat[\"Participation\"] = sat.apply(lambda x: int(x[\"Participation\"].replace(\"%\",\"\")), axis =1)"
   ]
  },
  {
   "cell_type": "code",
   "execution_count": 28,
   "metadata": {
    "collapsed": false
   },
   "outputs": [
    {
     "data": {
      "text/plain": [
       "count     51.000000\n",
       "mean      39.803922\n",
       "std       35.276632\n",
       "min        2.000000\n",
       "25%        4.000000\n",
       "50%       38.000000\n",
       "75%       66.000000\n",
       "max      100.000000\n",
       "Name: Participation, dtype: float64"
      ]
     },
     "execution_count": 28,
     "metadata": {},
     "output_type": "execute_result"
    }
   ],
   "source": [
    "sat[\"Participation\"].describe()"
   ]
  },
  {
   "cell_type": "code",
   "execution_count": 29,
   "metadata": {
    "collapsed": false
   },
   "outputs": [
    {
     "data": {
      "text/html": [
       "<div>\n",
       "<style>\n",
       "    .dataframe thead tr:only-child th {\n",
       "        text-align: right;\n",
       "    }\n",
       "\n",
       "    .dataframe thead th {\n",
       "        text-align: left;\n",
       "    }\n",
       "\n",
       "    .dataframe tbody tr th {\n",
       "        vertical-align: top;\n",
       "    }\n",
       "</style>\n",
       "<table border=\"1\" class=\"dataframe\">\n",
       "  <thead>\n",
       "    <tr style=\"text-align: right;\">\n",
       "      <th></th>\n",
       "      <th>Unnamed: 0</th>\n",
       "      <th>State</th>\n",
       "      <th>Participation</th>\n",
       "      <th>ReadingWriting</th>\n",
       "      <th>Math</th>\n",
       "      <th>Total</th>\n",
       "    </tr>\n",
       "  </thead>\n",
       "  <tbody>\n",
       "    <tr>\n",
       "      <th>34</th>\n",
       "      <td>34</td>\n",
       "      <td>North Dakota</td>\n",
       "      <td>2</td>\n",
       "      <td>635</td>\n",
       "      <td>621</td>\n",
       "      <td>1256</td>\n",
       "    </tr>\n",
       "    <tr>\n",
       "      <th>24</th>\n",
       "      <td>24</td>\n",
       "      <td>Mississippi</td>\n",
       "      <td>2</td>\n",
       "      <td>634</td>\n",
       "      <td>607</td>\n",
       "      <td>1242</td>\n",
       "    </tr>\n",
       "    <tr>\n",
       "      <th>15</th>\n",
       "      <td>15</td>\n",
       "      <td>Iowa</td>\n",
       "      <td>2</td>\n",
       "      <td>641</td>\n",
       "      <td>635</td>\n",
       "      <td>1275</td>\n",
       "    </tr>\n",
       "    <tr>\n",
       "      <th>25</th>\n",
       "      <td>25</td>\n",
       "      <td>Missouri</td>\n",
       "      <td>3</td>\n",
       "      <td>640</td>\n",
       "      <td>631</td>\n",
       "      <td>1271</td>\n",
       "    </tr>\n",
       "    <tr>\n",
       "      <th>44</th>\n",
       "      <td>44</td>\n",
       "      <td>Utah</td>\n",
       "      <td>3</td>\n",
       "      <td>624</td>\n",
       "      <td>614</td>\n",
       "      <td>1238</td>\n",
       "    </tr>\n",
       "  </tbody>\n",
       "</table>\n",
       "</div>"
      ],
      "text/plain": [
       "    Unnamed: 0         State  Participation  ReadingWriting  Math  Total\n",
       "34          34  North Dakota              2             635   621   1256\n",
       "24          24   Mississippi              2             634   607   1242\n",
       "15          15          Iowa              2             641   635   1275\n",
       "25          25      Missouri              3             640   631   1271\n",
       "44          44          Utah              3             624   614   1238"
      ]
     },
     "execution_count": 29,
     "metadata": {},
     "output_type": "execute_result"
    }
   ],
   "source": [
    "sat.sort_values(\"Participation\").head(5)"
   ]
  },
  {
   "cell_type": "code",
   "execution_count": 30,
   "metadata": {
    "collapsed": true
   },
   "outputs": [],
   "source": [
    "# Wow, there are some very low SAT participation percentages. \n",
    "# Perhaps this means the dominant exam in those states is the ACT."
   ]
  },
  {
   "cell_type": "code",
   "execution_count": 31,
   "metadata": {
    "collapsed": false
   },
   "outputs": [],
   "source": [
    "sat['score_range'] = sat.apply(lambda x: a_range([x[\"ReadingWriting\"],x[\"Math\"]]), axis=1)"
   ]
  },
  {
   "cell_type": "code",
   "execution_count": 32,
   "metadata": {
    "collapsed": false
   },
   "outputs": [
    {
     "data": {
      "text/plain": [
       "14    6\n",
       "4     4\n",
       "7     4\n",
       "20    4\n",
       "10    4\n",
       "11    4\n",
       "9     3\n",
       "12    3\n",
       "15    2\n",
       "6     2\n",
       "3     2\n",
       "22    2\n",
       "27    1\n",
       "13    1\n",
       "16    1\n",
       "18    1\n",
       "19    1\n",
       "21    1\n",
       "8     1\n",
       "23    1\n",
       "5     1\n",
       "25    1\n",
       "30    1\n",
       "Name: score_range, dtype: int64"
      ]
     },
     "execution_count": 32,
     "metadata": {},
     "output_type": "execute_result"
    }
   ],
   "source": [
    "sat[\"score_range\"].value_counts()"
   ]
  },
  {
   "cell_type": "code",
   "execution_count": 33,
   "metadata": {
    "collapsed": true
   },
   "outputs": [],
   "source": [
    "# These are reasonable ranges between state-wide average SAT section scores. \n",
    "# We can assume there are no erroneous outlier values."
   ]
  },
  {
   "cell_type": "code",
   "execution_count": 34,
   "metadata": {
    "collapsed": true
   },
   "outputs": [],
   "source": [
    "# Create column to make sure Composites are reasonable.\n",
    "sat['checkcol'] = sat.apply(lambda x: np.sum([x[\"ReadingWriting\"],x[\"Math\"]]), axis=1)"
   ]
  },
  {
   "cell_type": "code",
   "execution_count": 35,
   "metadata": {
    "collapsed": true
   },
   "outputs": [],
   "source": [
    "sat[\"diff_check\"] = sat.apply(lambda x: x[\"Total\"]-x[\"checkcol\"], axis =1)"
   ]
  },
  {
   "cell_type": "code",
   "execution_count": 36,
   "metadata": {
    "collapsed": false
   },
   "outputs": [
    {
     "data": {
      "text/plain": [
       "0.100    9\n",
       "0.125    9\n",
       "0.150    7\n",
       "0.100    7\n",
       "0.175    5\n",
       "0.125    4\n",
       "0.175    4\n",
       "0.075    2\n",
       "0.125    2\n",
       "0.050    1\n",
       "0.150    1\n",
       "0.075    1\n",
       "Name: diff_check, dtype: int64"
      ]
     },
     "execution_count": 36,
     "metadata": {},
     "output_type": "execute_result"
    }
   ],
   "source": [
    "act[\"diff_check\"].value_counts()"
   ]
  },
  {
   "cell_type": "code",
   "execution_count": 37,
   "metadata": {
    "collapsed": true
   },
   "outputs": [],
   "source": [
    "# Here we see that there's slight differences between the Total and true sum of the scores. \n",
    "# Perhaps there is a weighting in its calculation we do not know about. It is not provided from the source site."
   ]
  },
  {
   "cell_type": "markdown",
   "metadata": {},
   "source": [
    "##### 5. Print the types of each column."
   ]
  },
  {
   "cell_type": "code",
   "execution_count": 38,
   "metadata": {
    "collapsed": false,
    "scrolled": true
   },
   "outputs": [
    {
     "name": "stdout",
     "output_type": "stream",
     "text": [
      "<class 'pandas.core.frame.DataFrame'>\n",
      "RangeIndex: 52 entries, 0 to 51\n",
      "Data columns (total 11 columns):\n",
      "Unnamed: 0       52 non-null int64\n",
      "State            52 non-null object\n",
      "Participation    52 non-null int64\n",
      "English          52 non-null float64\n",
      "Math             52 non-null float64\n",
      "Reading          52 non-null float64\n",
      "Science          52 non-null float64\n",
      "Composite        52 non-null float64\n",
      "score_range      52 non-null float64\n",
      "checkcol         52 non-null float64\n",
      "diff_check       52 non-null float64\n",
      "dtypes: float64(8), int64(2), object(1)\n",
      "memory usage: 4.5+ KB\n"
     ]
    }
   ],
   "source": [
    "act.info()"
   ]
  },
  {
   "cell_type": "code",
   "execution_count": 39,
   "metadata": {
    "collapsed": false
   },
   "outputs": [
    {
     "name": "stdout",
     "output_type": "stream",
     "text": [
      "<class 'pandas.core.frame.DataFrame'>\n",
      "RangeIndex: 51 entries, 0 to 50\n",
      "Data columns (total 9 columns):\n",
      "Unnamed: 0        51 non-null int64\n",
      "State             51 non-null object\n",
      "Participation     51 non-null int64\n",
      "ReadingWriting    51 non-null int64\n",
      "Math              51 non-null int64\n",
      "Total             51 non-null int64\n",
      "score_range       51 non-null int64\n",
      "checkcol          51 non-null int64\n",
      "diff_check        51 non-null int64\n",
      "dtypes: int64(8), object(1)\n",
      "memory usage: 3.7+ KB\n"
     ]
    }
   ],
   "source": [
    "sat.info()"
   ]
  },
  {
   "cell_type": "markdown",
   "metadata": {},
   "source": [
    "##### 6. Do any types need to be reassigned? If so, go ahead and do it."
   ]
  },
  {
   "cell_type": "code",
   "execution_count": 40,
   "metadata": {
    "collapsed": true
   },
   "outputs": [],
   "source": [
    "# Previously in my data reasonability tests I removed the percentage sign and changed \"Participation\" \n",
    "# to integer (from object) in both tables. I already had the foresight to do this."
   ]
  },
  {
   "cell_type": "markdown",
   "metadata": {},
   "source": [
    "##### 7. Create a dictionary for each column mapping the State to its respective value for that column. (For example, you should have three SAT dictionaries.)"
   ]
  },
  {
   "cell_type": "markdown",
   "metadata": {},
   "source": [
    "### ACT dictionaries"
   ]
  },
  {
   "cell_type": "code",
   "execution_count": 41,
   "metadata": {
    "collapsed": true
   },
   "outputs": [],
   "source": [
    "act_part = {}\n",
    "for i in range(len(act)):\n",
    "    act_part[act[\"State\"][i]] = act[\"Participation\"][i]"
   ]
  },
  {
   "cell_type": "code",
   "execution_count": 42,
   "metadata": {
    "collapsed": false
   },
   "outputs": [],
   "source": [
    "act_eng = {}\n",
    "for i in range(len(act)):\n",
    "    act_eng[act[\"State\"][i]] = act[\"English\"][i]"
   ]
  },
  {
   "cell_type": "code",
   "execution_count": 43,
   "metadata": {
    "collapsed": false
   },
   "outputs": [],
   "source": [
    "act_math ={}\n",
    "for i in range(len(act)):\n",
    "    act_math[act[\"State\"][i]] = act[\"Math\"][i]"
   ]
  },
  {
   "cell_type": "code",
   "execution_count": 44,
   "metadata": {
    "collapsed": true
   },
   "outputs": [],
   "source": [
    "act_read = {}\n",
    "for i in range(len(act)):\n",
    "    act_read[act[\"State\"][i]] = act[\"Reading\"][i]"
   ]
  },
  {
   "cell_type": "code",
   "execution_count": 45,
   "metadata": {
    "collapsed": true
   },
   "outputs": [],
   "source": [
    "act_sci = {}\n",
    "for i in range(len(act)):\n",
    "    act_sci[act[\"State\"][i]] = act[\"Science\"][i]"
   ]
  },
  {
   "cell_type": "markdown",
   "metadata": {},
   "source": [
    "### SAT dictionaries"
   ]
  },
  {
   "cell_type": "code",
   "execution_count": 46,
   "metadata": {
    "collapsed": false
   },
   "outputs": [],
   "source": [
    "sat_part ={}\n",
    "for i in range(len(sat)):\n",
    "    sat_part[sat[\"State\"][i]] = sat[\"Participation\"][i]"
   ]
  },
  {
   "cell_type": "code",
   "execution_count": 47,
   "metadata": {
    "collapsed": false
   },
   "outputs": [],
   "source": [
    "sat_rdwt ={}\n",
    "for i in range(len(sat)):\n",
    "    sat_rdwt[sat[\"State\"][i]] = sat[\"ReadingWriting\"][i]"
   ]
  },
  {
   "cell_type": "code",
   "execution_count": 48,
   "metadata": {
    "collapsed": true
   },
   "outputs": [],
   "source": [
    "sat_math={}\n",
    "for i in range(len(sat)):\n",
    "    sat_math[sat[\"State\"][i]] = sat[\"Math\"][i]"
   ]
  },
  {
   "cell_type": "markdown",
   "metadata": {},
   "source": [
    "##### 8. Create one dictionary where each key is the column name, and each value is an iterable (a list or a Pandas Series) of all the values in that column."
   ]
  },
  {
   "cell_type": "markdown",
   "metadata": {
    "collapsed": true
   },
   "source": [
    "### ACT dictionaries long"
   ]
  },
  {
   "cell_type": "code",
   "execution_count": 49,
   "metadata": {
    "collapsed": false
   },
   "outputs": [],
   "source": [
    "act_dict_long = {}\n",
    "cols =[\"State\", \"Participation\", \"English\", \"Math\", \"Reading\", \"Science\"]\n",
    "for j in cols:\n",
    "    a_list=[]\n",
    "    for i in range(len(act)):\n",
    "        a_list.append(act[j][i])\n",
    "        act_dict_long[j] = a_list"
   ]
  },
  {
   "cell_type": "code",
   "execution_count": 50,
   "metadata": {
    "collapsed": false
   },
   "outputs": [
    {
     "data": {
      "text/plain": [
       "{'English': [20.300000000000001,\n",
       "  18.899999999999999,\n",
       "  18.699999999999999,\n",
       "  18.600000000000001,\n",
       "  18.899999999999999,\n",
       "  22.5,\n",
       "  20.100000000000001,\n",
       "  25.5,\n",
       "  24.100000000000001,\n",
       "  24.399999999999999,\n",
       "  19.0,\n",
       "  21.0,\n",
       "  17.800000000000001,\n",
       "  21.899999999999999,\n",
       "  21.0,\n",
       "  22.0,\n",
       "  21.199999999999999,\n",
       "  21.100000000000001,\n",
       "  19.600000000000001,\n",
       "  19.399999999999999,\n",
       "  24.199999999999999,\n",
       "  23.300000000000001,\n",
       "  25.399999999999999,\n",
       "  24.100000000000001,\n",
       "  20.399999999999999,\n",
       "  18.199999999999999,\n",
       "  19.800000000000001,\n",
       "  19.0,\n",
       "  20.899999999999999,\n",
       "  16.300000000000001,\n",
       "  25.399999999999999,\n",
       "  23.800000000000001,\n",
       "  18.600000000000001,\n",
       "  23.800000000000001,\n",
       "  17.800000000000001,\n",
       "  19.0,\n",
       "  21.199999999999999,\n",
       "  18.5,\n",
       "  21.199999999999999,\n",
       "  23.399999999999999,\n",
       "  24.0,\n",
       "  17.5,\n",
       "  20.699999999999999,\n",
       "  19.5,\n",
       "  19.5,\n",
       "  19.5,\n",
       "  23.300000000000001,\n",
       "  23.5,\n",
       "  20.899999999999999,\n",
       "  20.0,\n",
       "  19.699999999999999,\n",
       "  19.399999999999999],\n",
       " 'Math': [20.699999999999999,\n",
       "  18.399999999999999,\n",
       "  19.800000000000001,\n",
       "  19.800000000000001,\n",
       "  19.0,\n",
       "  22.699999999999999,\n",
       "  20.300000000000001,\n",
       "  24.600000000000001,\n",
       "  23.399999999999999,\n",
       "  23.5,\n",
       "  19.399999999999999,\n",
       "  20.899999999999999,\n",
       "  19.199999999999999,\n",
       "  21.800000000000001,\n",
       "  21.199999999999999,\n",
       "  22.399999999999999,\n",
       "  21.300000000000001,\n",
       "  21.300000000000001,\n",
       "  19.399999999999999,\n",
       "  18.800000000000001,\n",
       "  24.0,\n",
       "  23.100000000000001,\n",
       "  25.300000000000001,\n",
       "  23.699999999999999,\n",
       "  21.5,\n",
       "  18.100000000000001,\n",
       "  19.899999999999999,\n",
       "  20.199999999999999,\n",
       "  20.899999999999999,\n",
       "  18.0,\n",
       "  25.100000000000001,\n",
       "  23.800000000000001,\n",
       "  19.399999999999999,\n",
       "  24.0,\n",
       "  19.300000000000001,\n",
       "  20.399999999999999,\n",
       "  21.600000000000001,\n",
       "  18.800000000000001,\n",
       "  21.5,\n",
       "  23.399999999999999,\n",
       "  23.300000000000001,\n",
       "  18.600000000000001,\n",
       "  21.5,\n",
       "  19.199999999999999,\n",
       "  20.699999999999999,\n",
       "  19.899999999999999,\n",
       "  23.100000000000001,\n",
       "  23.300000000000001,\n",
       "  21.899999999999999,\n",
       "  19.399999999999999,\n",
       "  20.399999999999999,\n",
       "  19.800000000000001],\n",
       " 'Participation': [60,\n",
       "  100,\n",
       "  65,\n",
       "  62,\n",
       "  100,\n",
       "  31,\n",
       "  100,\n",
       "  31,\n",
       "  18,\n",
       "  32,\n",
       "  73,\n",
       "  55,\n",
       "  90,\n",
       "  38,\n",
       "  93,\n",
       "  35,\n",
       "  67,\n",
       "  73,\n",
       "  100,\n",
       "  100,\n",
       "  8,\n",
       "  28,\n",
       "  29,\n",
       "  29,\n",
       "  100,\n",
       "  100,\n",
       "  100,\n",
       "  100,\n",
       "  84,\n",
       "  100,\n",
       "  18,\n",
       "  34,\n",
       "  66,\n",
       "  31,\n",
       "  100,\n",
       "  98,\n",
       "  75,\n",
       "  100,\n",
       "  40,\n",
       "  23,\n",
       "  21,\n",
       "  100,\n",
       "  80,\n",
       "  100,\n",
       "  45,\n",
       "  100,\n",
       "  29,\n",
       "  29,\n",
       "  29,\n",
       "  69,\n",
       "  100,\n",
       "  100],\n",
       " 'Reading': [21.399999999999999,\n",
       "  19.699999999999999,\n",
       "  20.399999999999999,\n",
       "  20.100000000000001,\n",
       "  19.699999999999999,\n",
       "  23.100000000000001,\n",
       "  21.199999999999999,\n",
       "  25.600000000000001,\n",
       "  24.800000000000001,\n",
       "  24.899999999999999,\n",
       "  21.0,\n",
       "  22.0,\n",
       "  19.199999999999999,\n",
       "  23.0,\n",
       "  21.600000000000001,\n",
       "  23.199999999999999,\n",
       "  22.600000000000001,\n",
       "  22.300000000000001,\n",
       "  20.5,\n",
       "  19.800000000000001,\n",
       "  24.800000000000001,\n",
       "  24.199999999999999,\n",
       "  25.899999999999999,\n",
       "  24.5,\n",
       "  21.800000000000001,\n",
       "  18.800000000000001,\n",
       "  20.800000000000001,\n",
       "  21.0,\n",
       "  21.899999999999999,\n",
       "  18.100000000000001,\n",
       "  26.0,\n",
       "  24.100000000000001,\n",
       "  20.399999999999999,\n",
       "  24.600000000000001,\n",
       "  19.600000000000001,\n",
       "  20.5,\n",
       "  22.5,\n",
       "  20.100000000000001,\n",
       "  22.399999999999999,\n",
       "  24.199999999999999,\n",
       "  24.699999999999999,\n",
       "  19.100000000000001,\n",
       "  22.300000000000001,\n",
       "  20.100000000000001,\n",
       "  21.100000000000001,\n",
       "  20.800000000000001,\n",
       "  24.399999999999999,\n",
       "  24.600000000000001,\n",
       "  22.100000000000001,\n",
       "  21.199999999999999,\n",
       "  20.600000000000001,\n",
       "  20.800000000000001],\n",
       " 'Science': [21.0,\n",
       "  19.399999999999999,\n",
       "  19.899999999999999,\n",
       "  19.800000000000001,\n",
       "  19.5,\n",
       "  22.199999999999999,\n",
       "  20.899999999999999,\n",
       "  24.600000000000001,\n",
       "  23.600000000000001,\n",
       "  23.5,\n",
       "  19.399999999999999,\n",
       "  21.300000000000001,\n",
       "  19.300000000000001,\n",
       "  22.100000000000001,\n",
       "  21.300000000000001,\n",
       "  22.300000000000001,\n",
       "  22.100000000000001,\n",
       "  21.699999999999999,\n",
       "  20.100000000000001,\n",
       "  19.600000000000001,\n",
       "  23.699999999999999,\n",
       "  23.199999999999999,\n",
       "  24.699999999999999,\n",
       "  23.800000000000001,\n",
       "  21.600000000000001,\n",
       "  18.800000000000001,\n",
       "  20.5,\n",
       "  20.5,\n",
       "  21.5,\n",
       "  18.199999999999999,\n",
       "  24.899999999999999,\n",
       "  23.199999999999999,\n",
       "  20.0,\n",
       "  23.899999999999999,\n",
       "  19.300000000000001,\n",
       "  20.600000000000001,\n",
       "  22.0,\n",
       "  19.600000000000001,\n",
       "  21.699999999999999,\n",
       "  23.300000000000001,\n",
       "  23.399999999999999,\n",
       "  18.899999999999999,\n",
       "  22.0,\n",
       "  19.899999999999999,\n",
       "  20.899999999999999,\n",
       "  20.600000000000001,\n",
       "  23.199999999999999,\n",
       "  23.5,\n",
       "  22.0,\n",
       "  20.5,\n",
       "  20.899999999999999,\n",
       "  20.600000000000001],\n",
       " 'State': ['National',\n",
       "  'Alabama',\n",
       "  'Alaska',\n",
       "  'Arizona',\n",
       "  'Arkansas',\n",
       "  'California',\n",
       "  'Colorado',\n",
       "  'Connecticut',\n",
       "  'Delaware',\n",
       "  'District of Columbia',\n",
       "  'Florida',\n",
       "  'Georgia',\n",
       "  'Hawaii',\n",
       "  'Idaho',\n",
       "  'Illinois',\n",
       "  'Indiana',\n",
       "  'Iowa',\n",
       "  'Kansas',\n",
       "  'Kentucky',\n",
       "  'Louisiana',\n",
       "  'Maine',\n",
       "  'Maryland',\n",
       "  'Massachusetts',\n",
       "  'Michigan',\n",
       "  'Minnesota',\n",
       "  'Mississippi',\n",
       "  'Missouri',\n",
       "  'Montana',\n",
       "  'Nebraska',\n",
       "  'Nevada',\n",
       "  'New Hampshire',\n",
       "  'New Jersey',\n",
       "  'New Mexico',\n",
       "  'New York',\n",
       "  'North Carolina',\n",
       "  'North Dakota',\n",
       "  'Ohio',\n",
       "  'Oklahoma',\n",
       "  'Oregon',\n",
       "  'Pennsylvania',\n",
       "  'Rhode Island',\n",
       "  'South Carolina',\n",
       "  'South Dakota',\n",
       "  'Tennessee',\n",
       "  'Texas',\n",
       "  'Utah',\n",
       "  'Vermont',\n",
       "  'Virginia',\n",
       "  'Washington',\n",
       "  'West Virginia',\n",
       "  'Wisconsin',\n",
       "  'Wyoming']}"
      ]
     },
     "execution_count": 50,
     "metadata": {},
     "output_type": "execute_result"
    }
   ],
   "source": [
    "act_dict_long"
   ]
  },
  {
   "cell_type": "markdown",
   "metadata": {},
   "source": [
    "### SAT dictionaries long"
   ]
  },
  {
   "cell_type": "code",
   "execution_count": 51,
   "metadata": {
    "collapsed": false
   },
   "outputs": [],
   "source": [
    "sat_dict_long = {}\n",
    "cols =[\"State\", \"Participation\", \"ReadingWriting\", \"Math\"]\n",
    "for j in cols:\n",
    "    a_list=[]\n",
    "    for i in range(len(sat)):\n",
    "        a_list.append(sat[j][i])\n",
    "        sat_dict_long[j] = a_list"
   ]
  },
  {
   "cell_type": "code",
   "execution_count": 52,
   "metadata": {
    "collapsed": false
   },
   "outputs": [
    {
     "data": {
      "text/plain": [
       "{'Math': [572,\n",
       "  533,\n",
       "  553,\n",
       "  594,\n",
       "  524,\n",
       "  595,\n",
       "  512,\n",
       "  492,\n",
       "  468,\n",
       "  497,\n",
       "  515,\n",
       "  541,\n",
       "  493,\n",
       "  556,\n",
       "  532,\n",
       "  635,\n",
       "  628,\n",
       "  616,\n",
       "  586,\n",
       "  499,\n",
       "  524,\n",
       "  551,\n",
       "  495,\n",
       "  651,\n",
       "  607,\n",
       "  631,\n",
       "  591,\n",
       "  625,\n",
       "  553,\n",
       "  520,\n",
       "  526,\n",
       "  561,\n",
       "  523,\n",
       "  535,\n",
       "  621,\n",
       "  570,\n",
       "  517,\n",
       "  548,\n",
       "  531,\n",
       "  524,\n",
       "  521,\n",
       "  603,\n",
       "  604,\n",
       "  507,\n",
       "  614,\n",
       "  551,\n",
       "  541,\n",
       "  534,\n",
       "  528,\n",
       "  649,\n",
       "  604],\n",
       " 'Participation': [5,\n",
       "  38,\n",
       "  30,\n",
       "  3,\n",
       "  53,\n",
       "  11,\n",
       "  100,\n",
       "  100,\n",
       "  100,\n",
       "  83,\n",
       "  61,\n",
       "  55,\n",
       "  93,\n",
       "  9,\n",
       "  63,\n",
       "  2,\n",
       "  4,\n",
       "  4,\n",
       "  4,\n",
       "  95,\n",
       "  69,\n",
       "  76,\n",
       "  100,\n",
       "  3,\n",
       "  2,\n",
       "  3,\n",
       "  10,\n",
       "  3,\n",
       "  26,\n",
       "  96,\n",
       "  70,\n",
       "  11,\n",
       "  67,\n",
       "  49,\n",
       "  2,\n",
       "  12,\n",
       "  7,\n",
       "  43,\n",
       "  65,\n",
       "  71,\n",
       "  50,\n",
       "  3,\n",
       "  5,\n",
       "  62,\n",
       "  3,\n",
       "  60,\n",
       "  65,\n",
       "  64,\n",
       "  14,\n",
       "  3,\n",
       "  3],\n",
       " 'ReadingWriting': [593,\n",
       "  547,\n",
       "  563,\n",
       "  614,\n",
       "  531,\n",
       "  606,\n",
       "  530,\n",
       "  503,\n",
       "  482,\n",
       "  520,\n",
       "  535,\n",
       "  544,\n",
       "  513,\n",
       "  559,\n",
       "  542,\n",
       "  641,\n",
       "  632,\n",
       "  631,\n",
       "  611,\n",
       "  513,\n",
       "  536,\n",
       "  555,\n",
       "  509,\n",
       "  644,\n",
       "  634,\n",
       "  640,\n",
       "  605,\n",
       "  629,\n",
       "  563,\n",
       "  532,\n",
       "  530,\n",
       "  577,\n",
       "  528,\n",
       "  546,\n",
       "  635,\n",
       "  578,\n",
       "  530,\n",
       "  560,\n",
       "  540,\n",
       "  539,\n",
       "  543,\n",
       "  612,\n",
       "  623,\n",
       "  513,\n",
       "  624,\n",
       "  562,\n",
       "  561,\n",
       "  541,\n",
       "  558,\n",
       "  642,\n",
       "  626],\n",
       " 'State': ['Alabama',\n",
       "  'Alaska',\n",
       "  'Arizona',\n",
       "  'Arkansas',\n",
       "  'California',\n",
       "  'Colorado',\n",
       "  'Connecticut',\n",
       "  'Delaware',\n",
       "  'District of Columbia',\n",
       "  'Florida',\n",
       "  'Georgia',\n",
       "  'Hawaii',\n",
       "  'Idaho',\n",
       "  'Illinois',\n",
       "  'Indiana',\n",
       "  'Iowa',\n",
       "  'Kansas',\n",
       "  'Kentucky',\n",
       "  'Louisiana',\n",
       "  'Maine',\n",
       "  'Maryland',\n",
       "  'Massachusetts',\n",
       "  'Michigan',\n",
       "  'Minnesota',\n",
       "  'Mississippi',\n",
       "  'Missouri',\n",
       "  'Montana',\n",
       "  'Nebraska',\n",
       "  'Nevada',\n",
       "  'New Hampshire',\n",
       "  'New Jersey',\n",
       "  'New Mexico',\n",
       "  'New York',\n",
       "  'North Carolina',\n",
       "  'North Dakota',\n",
       "  'Ohio',\n",
       "  'Oklahoma',\n",
       "  'Oregon',\n",
       "  'Pennsylvania',\n",
       "  'Rhode Island',\n",
       "  'South Carolina',\n",
       "  'South Dakota',\n",
       "  'Tennessee',\n",
       "  'Texas',\n",
       "  'Utah',\n",
       "  'Vermont',\n",
       "  'Virginia',\n",
       "  'Washington',\n",
       "  'West Virginia',\n",
       "  'Wisconsin',\n",
       "  'Wyoming']}"
      ]
     },
     "execution_count": 52,
     "metadata": {},
     "output_type": "execute_result"
    }
   ],
   "source": [
    "sat_dict_long"
   ]
  },
  {
   "cell_type": "markdown",
   "metadata": {},
   "source": [
    "##### 9. Merge the dataframes on the state column."
   ]
  },
  {
   "cell_type": "code",
   "execution_count": 53,
   "metadata": {
    "collapsed": false
   },
   "outputs": [],
   "source": [
    "#Before we merge data frames, I'm going to do some serious column renames.\n",
    "act = act.rename(columns={\"State\":\"state\",'Participation': 'partic-act', 'English':\"eng-act\", \"Math\":\"math-act\", \n",
    "                          \"Reading\":\"read-act\", \"Science\":\"sci-act\", \"Composite\":\"comp-act\", \n",
    "                          \"score_range\":\"score-range-act\",\"checkcol\":\"checkcol-act\", \"diff_check\":\"diff-check-act\"})\n",
    "sat = sat.rename(columns={\"State\":\"state\",\"Participation\":\"partic-sat\", \"ReadingWriting\":\"readwrite-sat\", \n",
    "                          \"Math\":\"math-sat\", \"Total\":\"total-sat\", \"score_range\":\"score-range-sat\", \"checkcol\":\"checkcol-sat\", \"diff_chec\":\"diff-check-sat\"})"
   ]
  },
  {
   "cell_type": "code",
   "execution_count": 54,
   "metadata": {
    "collapsed": false
   },
   "outputs": [],
   "source": [
    "sat_act = pd.merge(act, sat, on = \"state\", how = \"outer\")"
   ]
  },
  {
   "cell_type": "code",
   "execution_count": 55,
   "metadata": {
    "collapsed": false
   },
   "outputs": [
    {
     "data": {
      "text/html": [
       "<div>\n",
       "<style>\n",
       "    .dataframe thead tr:only-child th {\n",
       "        text-align: right;\n",
       "    }\n",
       "\n",
       "    .dataframe thead th {\n",
       "        text-align: left;\n",
       "    }\n",
       "\n",
       "    .dataframe tbody tr th {\n",
       "        vertical-align: top;\n",
       "    }\n",
       "</style>\n",
       "<table border=\"1\" class=\"dataframe\">\n",
       "  <thead>\n",
       "    <tr style=\"text-align: right;\">\n",
       "      <th></th>\n",
       "      <th>Unnamed: 0_x</th>\n",
       "      <th>state</th>\n",
       "      <th>partic-act</th>\n",
       "      <th>eng-act</th>\n",
       "      <th>math-act</th>\n",
       "      <th>read-act</th>\n",
       "      <th>sci-act</th>\n",
       "      <th>comp-act</th>\n",
       "      <th>score-range-act</th>\n",
       "      <th>checkcol-act</th>\n",
       "      <th>diff-check-act</th>\n",
       "      <th>Unnamed: 0_y</th>\n",
       "      <th>partic-sat</th>\n",
       "      <th>readwrite-sat</th>\n",
       "      <th>math-sat</th>\n",
       "      <th>total-sat</th>\n",
       "      <th>score-range-sat</th>\n",
       "      <th>checkcol-sat</th>\n",
       "      <th>diff_check</th>\n",
       "    </tr>\n",
       "  </thead>\n",
       "  <tbody>\n",
       "    <tr>\n",
       "      <th>0</th>\n",
       "      <td>0</td>\n",
       "      <td>National</td>\n",
       "      <td>60</td>\n",
       "      <td>20.3</td>\n",
       "      <td>20.7</td>\n",
       "      <td>21.4</td>\n",
       "      <td>21.0</td>\n",
       "      <td>21.0</td>\n",
       "      <td>1.1</td>\n",
       "      <td>20.850</td>\n",
       "      <td>0.150</td>\n",
       "      <td>NaN</td>\n",
       "      <td>NaN</td>\n",
       "      <td>NaN</td>\n",
       "      <td>NaN</td>\n",
       "      <td>NaN</td>\n",
       "      <td>NaN</td>\n",
       "      <td>NaN</td>\n",
       "      <td>NaN</td>\n",
       "    </tr>\n",
       "    <tr>\n",
       "      <th>1</th>\n",
       "      <td>1</td>\n",
       "      <td>Alabama</td>\n",
       "      <td>100</td>\n",
       "      <td>18.9</td>\n",
       "      <td>18.4</td>\n",
       "      <td>19.7</td>\n",
       "      <td>19.4</td>\n",
       "      <td>19.2</td>\n",
       "      <td>1.3</td>\n",
       "      <td>19.100</td>\n",
       "      <td>0.100</td>\n",
       "      <td>0.0</td>\n",
       "      <td>5.0</td>\n",
       "      <td>593.0</td>\n",
       "      <td>572.0</td>\n",
       "      <td>1165.0</td>\n",
       "      <td>21.0</td>\n",
       "      <td>1165.0</td>\n",
       "      <td>0.0</td>\n",
       "    </tr>\n",
       "    <tr>\n",
       "      <th>2</th>\n",
       "      <td>2</td>\n",
       "      <td>Alaska</td>\n",
       "      <td>65</td>\n",
       "      <td>18.7</td>\n",
       "      <td>19.8</td>\n",
       "      <td>20.4</td>\n",
       "      <td>19.9</td>\n",
       "      <td>19.8</td>\n",
       "      <td>1.7</td>\n",
       "      <td>19.700</td>\n",
       "      <td>0.100</td>\n",
       "      <td>1.0</td>\n",
       "      <td>38.0</td>\n",
       "      <td>547.0</td>\n",
       "      <td>533.0</td>\n",
       "      <td>1080.0</td>\n",
       "      <td>14.0</td>\n",
       "      <td>1080.0</td>\n",
       "      <td>0.0</td>\n",
       "    </tr>\n",
       "    <tr>\n",
       "      <th>3</th>\n",
       "      <td>3</td>\n",
       "      <td>Arizona</td>\n",
       "      <td>62</td>\n",
       "      <td>18.6</td>\n",
       "      <td>19.8</td>\n",
       "      <td>20.1</td>\n",
       "      <td>19.8</td>\n",
       "      <td>19.7</td>\n",
       "      <td>1.5</td>\n",
       "      <td>19.575</td>\n",
       "      <td>0.125</td>\n",
       "      <td>2.0</td>\n",
       "      <td>30.0</td>\n",
       "      <td>563.0</td>\n",
       "      <td>553.0</td>\n",
       "      <td>1116.0</td>\n",
       "      <td>10.0</td>\n",
       "      <td>1116.0</td>\n",
       "      <td>0.0</td>\n",
       "    </tr>\n",
       "    <tr>\n",
       "      <th>4</th>\n",
       "      <td>4</td>\n",
       "      <td>Arkansas</td>\n",
       "      <td>100</td>\n",
       "      <td>18.9</td>\n",
       "      <td>19.0</td>\n",
       "      <td>19.7</td>\n",
       "      <td>19.5</td>\n",
       "      <td>19.4</td>\n",
       "      <td>0.8</td>\n",
       "      <td>19.275</td>\n",
       "      <td>0.125</td>\n",
       "      <td>3.0</td>\n",
       "      <td>3.0</td>\n",
       "      <td>614.0</td>\n",
       "      <td>594.0</td>\n",
       "      <td>1208.0</td>\n",
       "      <td>20.0</td>\n",
       "      <td>1208.0</td>\n",
       "      <td>0.0</td>\n",
       "    </tr>\n",
       "  </tbody>\n",
       "</table>\n",
       "</div>"
      ],
      "text/plain": [
       "   Unnamed: 0_x     state  partic-act  eng-act  math-act  read-act  sci-act  \\\n",
       "0             0  National          60     20.3      20.7      21.4     21.0   \n",
       "1             1   Alabama         100     18.9      18.4      19.7     19.4   \n",
       "2             2    Alaska          65     18.7      19.8      20.4     19.9   \n",
       "3             3   Arizona          62     18.6      19.8      20.1     19.8   \n",
       "4             4  Arkansas         100     18.9      19.0      19.7     19.5   \n",
       "\n",
       "   comp-act  score-range-act  checkcol-act  diff-check-act  Unnamed: 0_y  \\\n",
       "0      21.0              1.1        20.850           0.150           NaN   \n",
       "1      19.2              1.3        19.100           0.100           0.0   \n",
       "2      19.8              1.7        19.700           0.100           1.0   \n",
       "3      19.7              1.5        19.575           0.125           2.0   \n",
       "4      19.4              0.8        19.275           0.125           3.0   \n",
       "\n",
       "   partic-sat  readwrite-sat  math-sat  total-sat  score-range-sat  \\\n",
       "0         NaN            NaN       NaN        NaN              NaN   \n",
       "1         5.0          593.0     572.0     1165.0             21.0   \n",
       "2        38.0          547.0     533.0     1080.0             14.0   \n",
       "3        30.0          563.0     553.0     1116.0             10.0   \n",
       "4         3.0          614.0     594.0     1208.0             20.0   \n",
       "\n",
       "   checkcol-sat  diff_check  \n",
       "0           NaN         NaN  \n",
       "1        1165.0         0.0  \n",
       "2        1080.0         0.0  \n",
       "3        1116.0         0.0  \n",
       "4        1208.0         0.0  "
      ]
     },
     "execution_count": 55,
     "metadata": {},
     "output_type": "execute_result"
    }
   ],
   "source": [
    "sat_act.head()"
   ]
  },
  {
   "cell_type": "markdown",
   "metadata": {},
   "source": [
    "##### 10. Change the names of the columns so you can distinguish between the SAT columns and the ACT columns."
   ]
  },
  {
   "cell_type": "code",
   "execution_count": 56,
   "metadata": {
    "collapsed": true
   },
   "outputs": [],
   "source": [
    "# I already had the foresight to do this."
   ]
  },
  {
   "cell_type": "markdown",
   "metadata": {},
   "source": [
    "##### 11. Print the minimum and maximum of each numeric column in the data frame."
   ]
  },
  {
   "cell_type": "code",
   "execution_count": 57,
   "metadata": {
    "collapsed": false
   },
   "outputs": [],
   "source": [
    "# I am choosing to show this in two ways in case one is visibly easier to read despite providing \n",
    "# more information than what was asked."
   ]
  },
  {
   "cell_type": "code",
   "execution_count": 58,
   "metadata": {
    "collapsed": false
   },
   "outputs": [],
   "source": [
    "num_sat_act = sat_act[[\"state\",\"partic-act\", 'eng-act', 'math-act', 'read-act','sci-act','comp-act','score-range-act', 'partic-sat',\n",
    "                              'readwrite-sat','math-sat','total-sat', 'score-range-sat']]"
   ]
  },
  {
   "cell_type": "code",
   "execution_count": 59,
   "metadata": {
    "collapsed": false
   },
   "outputs": [
    {
     "data": {
      "text/html": [
       "<div>\n",
       "<style>\n",
       "    .dataframe thead tr:only-child th {\n",
       "        text-align: right;\n",
       "    }\n",
       "\n",
       "    .dataframe thead th {\n",
       "        text-align: left;\n",
       "    }\n",
       "\n",
       "    .dataframe tbody tr th {\n",
       "        vertical-align: top;\n",
       "    }\n",
       "</style>\n",
       "<table border=\"1\" class=\"dataframe\">\n",
       "  <thead>\n",
       "    <tr style=\"text-align: right;\">\n",
       "      <th></th>\n",
       "      <th>state</th>\n",
       "      <th>partic-act</th>\n",
       "      <th>eng-act</th>\n",
       "      <th>math-act</th>\n",
       "      <th>read-act</th>\n",
       "      <th>sci-act</th>\n",
       "      <th>comp-act</th>\n",
       "      <th>score-range-act</th>\n",
       "      <th>partic-sat</th>\n",
       "      <th>readwrite-sat</th>\n",
       "      <th>math-sat</th>\n",
       "      <th>total-sat</th>\n",
       "      <th>score-range-sat</th>\n",
       "    </tr>\n",
       "  </thead>\n",
       "  <tbody>\n",
       "    <tr>\n",
       "      <th>0</th>\n",
       "      <td>National</td>\n",
       "      <td>60</td>\n",
       "      <td>20.3</td>\n",
       "      <td>20.7</td>\n",
       "      <td>21.4</td>\n",
       "      <td>21.0</td>\n",
       "      <td>21.0</td>\n",
       "      <td>1.1</td>\n",
       "      <td>NaN</td>\n",
       "      <td>NaN</td>\n",
       "      <td>NaN</td>\n",
       "      <td>NaN</td>\n",
       "      <td>NaN</td>\n",
       "    </tr>\n",
       "    <tr>\n",
       "      <th>1</th>\n",
       "      <td>Alabama</td>\n",
       "      <td>100</td>\n",
       "      <td>18.9</td>\n",
       "      <td>18.4</td>\n",
       "      <td>19.7</td>\n",
       "      <td>19.4</td>\n",
       "      <td>19.2</td>\n",
       "      <td>1.3</td>\n",
       "      <td>5.0</td>\n",
       "      <td>593.0</td>\n",
       "      <td>572.0</td>\n",
       "      <td>1165.0</td>\n",
       "      <td>21.0</td>\n",
       "    </tr>\n",
       "    <tr>\n",
       "      <th>2</th>\n",
       "      <td>Alaska</td>\n",
       "      <td>65</td>\n",
       "      <td>18.7</td>\n",
       "      <td>19.8</td>\n",
       "      <td>20.4</td>\n",
       "      <td>19.9</td>\n",
       "      <td>19.8</td>\n",
       "      <td>1.7</td>\n",
       "      <td>38.0</td>\n",
       "      <td>547.0</td>\n",
       "      <td>533.0</td>\n",
       "      <td>1080.0</td>\n",
       "      <td>14.0</td>\n",
       "    </tr>\n",
       "    <tr>\n",
       "      <th>3</th>\n",
       "      <td>Arizona</td>\n",
       "      <td>62</td>\n",
       "      <td>18.6</td>\n",
       "      <td>19.8</td>\n",
       "      <td>20.1</td>\n",
       "      <td>19.8</td>\n",
       "      <td>19.7</td>\n",
       "      <td>1.5</td>\n",
       "      <td>30.0</td>\n",
       "      <td>563.0</td>\n",
       "      <td>553.0</td>\n",
       "      <td>1116.0</td>\n",
       "      <td>10.0</td>\n",
       "    </tr>\n",
       "    <tr>\n",
       "      <th>4</th>\n",
       "      <td>Arkansas</td>\n",
       "      <td>100</td>\n",
       "      <td>18.9</td>\n",
       "      <td>19.0</td>\n",
       "      <td>19.7</td>\n",
       "      <td>19.5</td>\n",
       "      <td>19.4</td>\n",
       "      <td>0.8</td>\n",
       "      <td>3.0</td>\n",
       "      <td>614.0</td>\n",
       "      <td>594.0</td>\n",
       "      <td>1208.0</td>\n",
       "      <td>20.0</td>\n",
       "    </tr>\n",
       "  </tbody>\n",
       "</table>\n",
       "</div>"
      ],
      "text/plain": [
       "      state  partic-act  eng-act  math-act  read-act  sci-act  comp-act  \\\n",
       "0  National          60     20.3      20.7      21.4     21.0      21.0   \n",
       "1   Alabama         100     18.9      18.4      19.7     19.4      19.2   \n",
       "2    Alaska          65     18.7      19.8      20.4     19.9      19.8   \n",
       "3   Arizona          62     18.6      19.8      20.1     19.8      19.7   \n",
       "4  Arkansas         100     18.9      19.0      19.7     19.5      19.4   \n",
       "\n",
       "   score-range-act  partic-sat  readwrite-sat  math-sat  total-sat  \\\n",
       "0              1.1         NaN            NaN       NaN        NaN   \n",
       "1              1.3         5.0          593.0     572.0     1165.0   \n",
       "2              1.7        38.0          547.0     533.0     1080.0   \n",
       "3              1.5        30.0          563.0     553.0     1116.0   \n",
       "4              0.8         3.0          614.0     594.0     1208.0   \n",
       "\n",
       "   score-range-sat  \n",
       "0              NaN  \n",
       "1             21.0  \n",
       "2             14.0  \n",
       "3             10.0  \n",
       "4             20.0  "
      ]
     },
     "execution_count": 59,
     "metadata": {},
     "output_type": "execute_result"
    }
   ],
   "source": [
    "num_sat_act.head()"
   ]
  },
  {
   "cell_type": "code",
   "execution_count": 60,
   "metadata": {
    "collapsed": false
   },
   "outputs": [],
   "source": [
    "#remove national average for act, to remove null values\n",
    "num_sat_act = num_sat_act[1:]"
   ]
  },
  {
   "cell_type": "code",
   "execution_count": 61,
   "metadata": {
    "collapsed": false
   },
   "outputs": [
    {
     "data": {
      "text/plain": [
       "5"
      ]
     },
     "execution_count": 61,
     "metadata": {},
     "output_type": "execute_result"
    }
   ],
   "source": [
    "len(num_sat_act.columns[0])"
   ]
  },
  {
   "cell_type": "code",
   "execution_count": 62,
   "metadata": {
    "collapsed": false
   },
   "outputs": [
    {
     "data": {
      "text/html": [
       "<div>\n",
       "<style>\n",
       "    .dataframe thead tr:only-child th {\n",
       "        text-align: right;\n",
       "    }\n",
       "\n",
       "    .dataframe thead th {\n",
       "        text-align: left;\n",
       "    }\n",
       "\n",
       "    .dataframe tbody tr th {\n",
       "        vertical-align: top;\n",
       "    }\n",
       "</style>\n",
       "<table border=\"1\" class=\"dataframe\">\n",
       "  <thead>\n",
       "    <tr style=\"text-align: right;\">\n",
       "      <th></th>\n",
       "      <th>state</th>\n",
       "      <th>partic-act</th>\n",
       "      <th>eng-act</th>\n",
       "      <th>math-act</th>\n",
       "      <th>read-act</th>\n",
       "      <th>sci-act</th>\n",
       "      <th>comp-act</th>\n",
       "      <th>score-range-act</th>\n",
       "      <th>partic-sat</th>\n",
       "      <th>readwrite-sat</th>\n",
       "      <th>math-sat</th>\n",
       "      <th>total-sat</th>\n",
       "      <th>score-range-sat</th>\n",
       "    </tr>\n",
       "  </thead>\n",
       "  <tbody>\n",
       "    <tr>\n",
       "      <th>1</th>\n",
       "      <td>Alabama</td>\n",
       "      <td>100</td>\n",
       "      <td>18.9</td>\n",
       "      <td>18.4</td>\n",
       "      <td>19.7</td>\n",
       "      <td>19.4</td>\n",
       "      <td>19.2</td>\n",
       "      <td>1.3</td>\n",
       "      <td>5.0</td>\n",
       "      <td>593.0</td>\n",
       "      <td>572.0</td>\n",
       "      <td>1165.0</td>\n",
       "      <td>21.0</td>\n",
       "    </tr>\n",
       "    <tr>\n",
       "      <th>2</th>\n",
       "      <td>Alaska</td>\n",
       "      <td>65</td>\n",
       "      <td>18.7</td>\n",
       "      <td>19.8</td>\n",
       "      <td>20.4</td>\n",
       "      <td>19.9</td>\n",
       "      <td>19.8</td>\n",
       "      <td>1.7</td>\n",
       "      <td>38.0</td>\n",
       "      <td>547.0</td>\n",
       "      <td>533.0</td>\n",
       "      <td>1080.0</td>\n",
       "      <td>14.0</td>\n",
       "    </tr>\n",
       "    <tr>\n",
       "      <th>3</th>\n",
       "      <td>Arizona</td>\n",
       "      <td>62</td>\n",
       "      <td>18.6</td>\n",
       "      <td>19.8</td>\n",
       "      <td>20.1</td>\n",
       "      <td>19.8</td>\n",
       "      <td>19.7</td>\n",
       "      <td>1.5</td>\n",
       "      <td>30.0</td>\n",
       "      <td>563.0</td>\n",
       "      <td>553.0</td>\n",
       "      <td>1116.0</td>\n",
       "      <td>10.0</td>\n",
       "    </tr>\n",
       "    <tr>\n",
       "      <th>4</th>\n",
       "      <td>Arkansas</td>\n",
       "      <td>100</td>\n",
       "      <td>18.9</td>\n",
       "      <td>19.0</td>\n",
       "      <td>19.7</td>\n",
       "      <td>19.5</td>\n",
       "      <td>19.4</td>\n",
       "      <td>0.8</td>\n",
       "      <td>3.0</td>\n",
       "      <td>614.0</td>\n",
       "      <td>594.0</td>\n",
       "      <td>1208.0</td>\n",
       "      <td>20.0</td>\n",
       "    </tr>\n",
       "    <tr>\n",
       "      <th>5</th>\n",
       "      <td>California</td>\n",
       "      <td>31</td>\n",
       "      <td>22.5</td>\n",
       "      <td>22.7</td>\n",
       "      <td>23.1</td>\n",
       "      <td>22.2</td>\n",
       "      <td>22.8</td>\n",
       "      <td>0.9</td>\n",
       "      <td>53.0</td>\n",
       "      <td>531.0</td>\n",
       "      <td>524.0</td>\n",
       "      <td>1055.0</td>\n",
       "      <td>7.0</td>\n",
       "    </tr>\n",
       "  </tbody>\n",
       "</table>\n",
       "</div>"
      ],
      "text/plain": [
       "        state  partic-act  eng-act  math-act  read-act  sci-act  comp-act  \\\n",
       "1     Alabama         100     18.9      18.4      19.7     19.4      19.2   \n",
       "2      Alaska          65     18.7      19.8      20.4     19.9      19.8   \n",
       "3     Arizona          62     18.6      19.8      20.1     19.8      19.7   \n",
       "4    Arkansas         100     18.9      19.0      19.7     19.5      19.4   \n",
       "5  California          31     22.5      22.7      23.1     22.2      22.8   \n",
       "\n",
       "   score-range-act  partic-sat  readwrite-sat  math-sat  total-sat  \\\n",
       "1              1.3         5.0          593.0     572.0     1165.0   \n",
       "2              1.7        38.0          547.0     533.0     1080.0   \n",
       "3              1.5        30.0          563.0     553.0     1116.0   \n",
       "4              0.8         3.0          614.0     594.0     1208.0   \n",
       "5              0.9        53.0          531.0     524.0     1055.0   \n",
       "\n",
       "   score-range-sat  \n",
       "1             21.0  \n",
       "2             14.0  \n",
       "3             10.0  \n",
       "4             20.0  \n",
       "5              7.0  "
      ]
     },
     "execution_count": 62,
     "metadata": {},
     "output_type": "execute_result"
    }
   ],
   "source": [
    "num_sat_act.head()"
   ]
  },
  {
   "cell_type": "code",
   "execution_count": 63,
   "metadata": {
    "collapsed": false
   },
   "outputs": [
    {
     "data": {
      "text/plain": [
       "Index(['state', 'partic-act', 'eng-act', 'math-act', 'read-act', 'sci-act',\n",
       "       'comp-act', 'score-range-act', 'partic-sat', 'readwrite-sat',\n",
       "       'math-sat', 'total-sat', 'score-range-sat'],\n",
       "      dtype='object')"
      ]
     },
     "execution_count": 63,
     "metadata": {},
     "output_type": "execute_result"
    }
   ],
   "source": [
    "num_sat_act.columns"
   ]
  },
  {
   "cell_type": "code",
   "execution_count": 64,
   "metadata": {
    "collapsed": false
   },
   "outputs": [
    {
     "data": {
      "text/plain": [
       "51"
      ]
     },
     "execution_count": 64,
     "metadata": {},
     "output_type": "execute_result"
    }
   ],
   "source": [
    "len(num_sat_act[\"partic-act\"])"
   ]
  },
  {
   "cell_type": "code",
   "execution_count": 65,
   "metadata": {
    "collapsed": false
   },
   "outputs": [
    {
     "data": {
      "text/plain": [
       "100"
      ]
     },
     "execution_count": 65,
     "metadata": {},
     "output_type": "execute_result"
    }
   ],
   "source": [
    "num_sat_act[\"partic-act\"][1]"
   ]
  },
  {
   "cell_type": "code",
   "execution_count": 66,
   "metadata": {
    "collapsed": false
   },
   "outputs": [],
   "source": [
    "min_max ={}\n",
    "for col in num_sat_act.columns[1:]:\n",
    "    a_list=[]\n",
    "    for i in range(1, len(num_sat_act[col])): #we need to start at 1 - we've removed index 0, the national average for act scores\n",
    "        a_list.append(num_sat_act[col][i])\n",
    "        min_max[col] = \"Max: \"+str(max(a_list))+\", Min: \"+str(min(a_list))"
   ]
  },
  {
   "cell_type": "code",
   "execution_count": 67,
   "metadata": {
    "collapsed": false
   },
   "outputs": [
    {
     "data": {
      "text/plain": [
       "{'comp-act': 'Max: 25.5, Min: 17.8',\n",
       " 'eng-act': 'Max: 25.5, Min: 16.3',\n",
       " 'math-act': 'Max: 25.3, Min: 18.0',\n",
       " 'math-sat': 'Max: 651.0, Min: 468.0',\n",
       " 'partic-act': 'Max: 100, Min: 8',\n",
       " 'partic-sat': 'Max: 100.0, Min: 2.0',\n",
       " 'read-act': 'Max: 26.0, Min: 18.1',\n",
       " 'readwrite-sat': 'Max: 644.0, Min: 482.0',\n",
       " 'sci-act': 'Max: 24.9, Min: 18.2',\n",
       " 'score-range-act': 'Max: 2.0, Min: 0.6',\n",
       " 'score-range-sat': 'Max: 30.0, Min: 3.0',\n",
       " 'total-sat': 'Max: 1295.0, Min: 950.0'}"
      ]
     },
     "execution_count": 67,
     "metadata": {},
     "output_type": "execute_result"
    }
   ],
   "source": [
    "min_max"
   ]
  },
  {
   "cell_type": "code",
   "execution_count": 68,
   "metadata": {
    "collapsed": false
   },
   "outputs": [],
   "source": [
    "desc_dict = {}\n",
    "desc_dict[\"field\"] = list(num_sat_act.columns[1:])"
   ]
  },
  {
   "cell_type": "code",
   "execution_count": 69,
   "metadata": {
    "collapsed": false
   },
   "outputs": [],
   "source": [
    "min_list =[]\n",
    "max_list=[]\n",
    "for col in num_sat_act.columns[1:]:\n",
    "    b_list = []\n",
    "    for i in range(1,len(num_sat_act)):\n",
    "        b_list.append(num_sat_act[col][i])\n",
    "    minimum = min(b_list)\n",
    "    maximum = max(b_list)\n",
    "    min_list.append(minimum)\n",
    "    max_list.append(maximum)"
   ]
  },
  {
   "cell_type": "code",
   "execution_count": 70,
   "metadata": {
    "collapsed": false
   },
   "outputs": [],
   "source": [
    "desc_dict[\"min\"] = min_list\n",
    "desc_dict[\"max\"] = max_list"
   ]
  },
  {
   "cell_type": "code",
   "execution_count": 71,
   "metadata": {
    "collapsed": false
   },
   "outputs": [
    {
     "data": {
      "text/plain": [
       "{'field': ['partic-act',\n",
       "  'eng-act',\n",
       "  'math-act',\n",
       "  'read-act',\n",
       "  'sci-act',\n",
       "  'comp-act',\n",
       "  'score-range-act',\n",
       "  'partic-sat',\n",
       "  'readwrite-sat',\n",
       "  'math-sat',\n",
       "  'total-sat',\n",
       "  'score-range-sat'],\n",
       " 'max': [100,\n",
       "  25.5,\n",
       "  25.300000000000001,\n",
       "  26.0,\n",
       "  24.899999999999999,\n",
       "  25.5,\n",
       "  2.0,\n",
       "  100.0,\n",
       "  644.0,\n",
       "  651.0,\n",
       "  1295.0,\n",
       "  30.0],\n",
       " 'min': [8,\n",
       "  16.300000000000001,\n",
       "  18.0,\n",
       "  18.100000000000001,\n",
       "  18.199999999999999,\n",
       "  17.800000000000001,\n",
       "  0.60000000000000142,\n",
       "  2.0,\n",
       "  482.0,\n",
       "  468.0,\n",
       "  950.0,\n",
       "  3.0]}"
      ]
     },
     "execution_count": 71,
     "metadata": {},
     "output_type": "execute_result"
    }
   ],
   "source": [
    "desc_dict"
   ]
  },
  {
   "cell_type": "code",
   "execution_count": 72,
   "metadata": {
    "collapsed": false
   },
   "outputs": [
    {
     "data": {
      "text/html": [
       "<div>\n",
       "<style>\n",
       "    .dataframe thead tr:only-child th {\n",
       "        text-align: right;\n",
       "    }\n",
       "\n",
       "    .dataframe thead th {\n",
       "        text-align: left;\n",
       "    }\n",
       "\n",
       "    .dataframe tbody tr th {\n",
       "        vertical-align: top;\n",
       "    }\n",
       "</style>\n",
       "<table border=\"1\" class=\"dataframe\">\n",
       "  <thead>\n",
       "    <tr style=\"text-align: right;\">\n",
       "      <th></th>\n",
       "      <th>field</th>\n",
       "      <th>max</th>\n",
       "      <th>min</th>\n",
       "    </tr>\n",
       "  </thead>\n",
       "  <tbody>\n",
       "    <tr>\n",
       "      <th>0</th>\n",
       "      <td>partic-act</td>\n",
       "      <td>100.0</td>\n",
       "      <td>8.0</td>\n",
       "    </tr>\n",
       "    <tr>\n",
       "      <th>1</th>\n",
       "      <td>eng-act</td>\n",
       "      <td>25.5</td>\n",
       "      <td>16.3</td>\n",
       "    </tr>\n",
       "    <tr>\n",
       "      <th>2</th>\n",
       "      <td>math-act</td>\n",
       "      <td>25.3</td>\n",
       "      <td>18.0</td>\n",
       "    </tr>\n",
       "    <tr>\n",
       "      <th>3</th>\n",
       "      <td>read-act</td>\n",
       "      <td>26.0</td>\n",
       "      <td>18.1</td>\n",
       "    </tr>\n",
       "    <tr>\n",
       "      <th>4</th>\n",
       "      <td>sci-act</td>\n",
       "      <td>24.9</td>\n",
       "      <td>18.2</td>\n",
       "    </tr>\n",
       "    <tr>\n",
       "      <th>5</th>\n",
       "      <td>comp-act</td>\n",
       "      <td>25.5</td>\n",
       "      <td>17.8</td>\n",
       "    </tr>\n",
       "    <tr>\n",
       "      <th>6</th>\n",
       "      <td>score-range-act</td>\n",
       "      <td>2.0</td>\n",
       "      <td>0.6</td>\n",
       "    </tr>\n",
       "    <tr>\n",
       "      <th>7</th>\n",
       "      <td>partic-sat</td>\n",
       "      <td>100.0</td>\n",
       "      <td>2.0</td>\n",
       "    </tr>\n",
       "    <tr>\n",
       "      <th>8</th>\n",
       "      <td>readwrite-sat</td>\n",
       "      <td>644.0</td>\n",
       "      <td>482.0</td>\n",
       "    </tr>\n",
       "    <tr>\n",
       "      <th>9</th>\n",
       "      <td>math-sat</td>\n",
       "      <td>651.0</td>\n",
       "      <td>468.0</td>\n",
       "    </tr>\n",
       "    <tr>\n",
       "      <th>10</th>\n",
       "      <td>total-sat</td>\n",
       "      <td>1295.0</td>\n",
       "      <td>950.0</td>\n",
       "    </tr>\n",
       "    <tr>\n",
       "      <th>11</th>\n",
       "      <td>score-range-sat</td>\n",
       "      <td>30.0</td>\n",
       "      <td>3.0</td>\n",
       "    </tr>\n",
       "  </tbody>\n",
       "</table>\n",
       "</div>"
      ],
      "text/plain": [
       "              field     max    min\n",
       "0        partic-act   100.0    8.0\n",
       "1           eng-act    25.5   16.3\n",
       "2          math-act    25.3   18.0\n",
       "3          read-act    26.0   18.1\n",
       "4           sci-act    24.9   18.2\n",
       "5          comp-act    25.5   17.8\n",
       "6   score-range-act     2.0    0.6\n",
       "7        partic-sat   100.0    2.0\n",
       "8     readwrite-sat   644.0  482.0\n",
       "9          math-sat   651.0  468.0\n",
       "10        total-sat  1295.0  950.0\n",
       "11  score-range-sat    30.0    3.0"
      ]
     },
     "execution_count": 72,
     "metadata": {},
     "output_type": "execute_result"
    }
   ],
   "source": [
    "desc_df=pd.DataFrame(desc_dict)\n",
    "desc_df"
   ]
  },
  {
   "cell_type": "code",
   "execution_count": 73,
   "metadata": {
    "collapsed": false
   },
   "outputs": [
    {
     "data": {
      "text/html": [
       "<div>\n",
       "<style>\n",
       "    .dataframe thead tr:only-child th {\n",
       "        text-align: right;\n",
       "    }\n",
       "\n",
       "    .dataframe thead th {\n",
       "        text-align: left;\n",
       "    }\n",
       "\n",
       "    .dataframe tbody tr th {\n",
       "        vertical-align: top;\n",
       "    }\n",
       "</style>\n",
       "<table border=\"1\" class=\"dataframe\">\n",
       "  <thead>\n",
       "    <tr style=\"text-align: right;\">\n",
       "      <th></th>\n",
       "      <th>partic-act</th>\n",
       "      <th>eng-act</th>\n",
       "      <th>math-act</th>\n",
       "      <th>read-act</th>\n",
       "      <th>sci-act</th>\n",
       "      <th>comp-act</th>\n",
       "      <th>score-range-act</th>\n",
       "      <th>partic-sat</th>\n",
       "      <th>readwrite-sat</th>\n",
       "      <th>math-sat</th>\n",
       "      <th>total-sat</th>\n",
       "      <th>score-range-sat</th>\n",
       "    </tr>\n",
       "  </thead>\n",
       "  <tbody>\n",
       "    <tr>\n",
       "      <th>count</th>\n",
       "      <td>51.000000</td>\n",
       "      <td>51.000000</td>\n",
       "      <td>51.000000</td>\n",
       "      <td>51.000000</td>\n",
       "      <td>51.000000</td>\n",
       "      <td>51.000000</td>\n",
       "      <td>51.000000</td>\n",
       "      <td>51.000000</td>\n",
       "      <td>51.000000</td>\n",
       "      <td>51.000000</td>\n",
       "      <td>51.000000</td>\n",
       "      <td>51.000000</td>\n",
       "    </tr>\n",
       "    <tr>\n",
       "      <th>mean</th>\n",
       "      <td>65.254902</td>\n",
       "      <td>20.931373</td>\n",
       "      <td>21.182353</td>\n",
       "      <td>22.013725</td>\n",
       "      <td>21.450980</td>\n",
       "      <td>21.519608</td>\n",
       "      <td>1.278431</td>\n",
       "      <td>39.803922</td>\n",
       "      <td>569.117647</td>\n",
       "      <td>556.882353</td>\n",
       "      <td>1126.098039</td>\n",
       "      <td>12.784314</td>\n",
       "    </tr>\n",
       "    <tr>\n",
       "      <th>std</th>\n",
       "      <td>32.140842</td>\n",
       "      <td>2.353677</td>\n",
       "      <td>1.981989</td>\n",
       "      <td>2.067271</td>\n",
       "      <td>1.739353</td>\n",
       "      <td>2.020695</td>\n",
       "      <td>0.338416</td>\n",
       "      <td>35.276632</td>\n",
       "      <td>45.666901</td>\n",
       "      <td>47.121395</td>\n",
       "      <td>92.494812</td>\n",
       "      <td>6.619105</td>\n",
       "    </tr>\n",
       "    <tr>\n",
       "      <th>min</th>\n",
       "      <td>8.000000</td>\n",
       "      <td>16.300000</td>\n",
       "      <td>18.000000</td>\n",
       "      <td>18.100000</td>\n",
       "      <td>18.200000</td>\n",
       "      <td>17.800000</td>\n",
       "      <td>0.600000</td>\n",
       "      <td>2.000000</td>\n",
       "      <td>482.000000</td>\n",
       "      <td>468.000000</td>\n",
       "      <td>950.000000</td>\n",
       "      <td>3.000000</td>\n",
       "    </tr>\n",
       "    <tr>\n",
       "      <th>25%</th>\n",
       "      <td>31.000000</td>\n",
       "      <td>19.000000</td>\n",
       "      <td>19.400000</td>\n",
       "      <td>20.450000</td>\n",
       "      <td>19.950000</td>\n",
       "      <td>19.800000</td>\n",
       "      <td>1.050000</td>\n",
       "      <td>4.000000</td>\n",
       "      <td>533.500000</td>\n",
       "      <td>523.500000</td>\n",
       "      <td>1055.500000</td>\n",
       "      <td>7.500000</td>\n",
       "    </tr>\n",
       "    <tr>\n",
       "      <th>50%</th>\n",
       "      <td>69.000000</td>\n",
       "      <td>20.700000</td>\n",
       "      <td>20.900000</td>\n",
       "      <td>21.800000</td>\n",
       "      <td>21.300000</td>\n",
       "      <td>21.400000</td>\n",
       "      <td>1.200000</td>\n",
       "      <td>38.000000</td>\n",
       "      <td>559.000000</td>\n",
       "      <td>548.000000</td>\n",
       "      <td>1107.000000</td>\n",
       "      <td>12.000000</td>\n",
       "    </tr>\n",
       "    <tr>\n",
       "      <th>75%</th>\n",
       "      <td>100.000000</td>\n",
       "      <td>23.300000</td>\n",
       "      <td>23.100000</td>\n",
       "      <td>24.150000</td>\n",
       "      <td>23.200000</td>\n",
       "      <td>23.600000</td>\n",
       "      <td>1.500000</td>\n",
       "      <td>66.000000</td>\n",
       "      <td>613.000000</td>\n",
       "      <td>599.000000</td>\n",
       "      <td>1212.000000</td>\n",
       "      <td>17.000000</td>\n",
       "    </tr>\n",
       "    <tr>\n",
       "      <th>max</th>\n",
       "      <td>100.000000</td>\n",
       "      <td>25.500000</td>\n",
       "      <td>25.300000</td>\n",
       "      <td>26.000000</td>\n",
       "      <td>24.900000</td>\n",
       "      <td>25.500000</td>\n",
       "      <td>2.000000</td>\n",
       "      <td>100.000000</td>\n",
       "      <td>644.000000</td>\n",
       "      <td>651.000000</td>\n",
       "      <td>1295.000000</td>\n",
       "      <td>30.000000</td>\n",
       "    </tr>\n",
       "  </tbody>\n",
       "</table>\n",
       "</div>"
      ],
      "text/plain": [
       "       partic-act    eng-act   math-act   read-act    sci-act   comp-act  \\\n",
       "count   51.000000  51.000000  51.000000  51.000000  51.000000  51.000000   \n",
       "mean    65.254902  20.931373  21.182353  22.013725  21.450980  21.519608   \n",
       "std     32.140842   2.353677   1.981989   2.067271   1.739353   2.020695   \n",
       "min      8.000000  16.300000  18.000000  18.100000  18.200000  17.800000   \n",
       "25%     31.000000  19.000000  19.400000  20.450000  19.950000  19.800000   \n",
       "50%     69.000000  20.700000  20.900000  21.800000  21.300000  21.400000   \n",
       "75%    100.000000  23.300000  23.100000  24.150000  23.200000  23.600000   \n",
       "max    100.000000  25.500000  25.300000  26.000000  24.900000  25.500000   \n",
       "\n",
       "       score-range-act  partic-sat  readwrite-sat    math-sat    total-sat  \\\n",
       "count        51.000000   51.000000      51.000000   51.000000    51.000000   \n",
       "mean          1.278431   39.803922     569.117647  556.882353  1126.098039   \n",
       "std           0.338416   35.276632      45.666901   47.121395    92.494812   \n",
       "min           0.600000    2.000000     482.000000  468.000000   950.000000   \n",
       "25%           1.050000    4.000000     533.500000  523.500000  1055.500000   \n",
       "50%           1.200000   38.000000     559.000000  548.000000  1107.000000   \n",
       "75%           1.500000   66.000000     613.000000  599.000000  1212.000000   \n",
       "max           2.000000  100.000000     644.000000  651.000000  1295.000000   \n",
       "\n",
       "       score-range-sat  \n",
       "count        51.000000  \n",
       "mean         12.784314  \n",
       "std           6.619105  \n",
       "min           3.000000  \n",
       "25%           7.500000  \n",
       "50%          12.000000  \n",
       "75%          17.000000  \n",
       "max          30.000000  "
      ]
     },
     "execution_count": 73,
     "metadata": {},
     "output_type": "execute_result"
    }
   ],
   "source": [
    "num_sat_act.describe()"
   ]
  },
  {
   "cell_type": "markdown",
   "metadata": {},
   "source": [
    "##### 12. Write a function using only list comprehensions, no loops, to compute standard deviation. Using this function, calculate the standard deviation of each numeric column in both data sets. Add these to a list called `sd`.\n",
    "\n",
    "$$\\sigma = \\sqrt{\\frac{1}{n}\\sum_{i=1}^n(x_i - \\mu)^2}$$"
   ]
  },
  {
   "cell_type": "code",
   "execution_count": 74,
   "metadata": {
    "collapsed": false
   },
   "outputs": [],
   "source": [
    "def fsd(col, table): #used \"fsd\" for function of standard deviation\n",
    "    xmu = [(x-np.mean(table[col]))**2 for x in table[col]]\n",
    "    return ((sum(xmu)/len(xmu))**.5)"
   ]
  },
  {
   "cell_type": "code",
   "execution_count": 75,
   "metadata": {
    "collapsed": false
   },
   "outputs": [],
   "source": [
    "sd = [fsd(x, num_sat_act) for x in num_sat_act.columns[1:]]"
   ]
  },
  {
   "cell_type": "code",
   "execution_count": 76,
   "metadata": {
    "collapsed": false
   },
   "outputs": [
    {
     "data": {
      "text/plain": [
       "[31.824175751231806,\n",
       " 2.3304876369363363,\n",
       " 1.9624620273436781,\n",
       " 2.0469029314842646,\n",
       " 1.7222161451443676,\n",
       " 2.0007860815819889,\n",
       " 0.33508191886327798,\n",
       " 34.929070766645083,\n",
       " 45.216970204378661,\n",
       " 46.65713364485503,\n",
       " 91.583510567787428,\n",
       " 6.5538904042551769]"
      ]
     },
     "execution_count": 76,
     "metadata": {},
     "output_type": "execute_result"
    }
   ],
   "source": [
    "sd"
   ]
  },
  {
   "cell_type": "markdown",
   "metadata": {},
   "source": [
    "## Step 2: Manipulate the dataframe"
   ]
  },
  {
   "cell_type": "markdown",
   "metadata": {},
   "source": [
    "##### 13. Turn the list `sd` into a new observation in your dataset."
   ]
  },
  {
   "cell_type": "code",
   "execution_count": 77,
   "metadata": {
    "collapsed": true
   },
   "outputs": [],
   "source": [
    "# I already had the foresight to display this with .describe(). \n",
    "\n",
    "# The standard deviation values I calculated are slightly different than \n",
    "# the ones calculated in .describe(). .describe() must use the formula \n",
    "# for the standard deviation of a sample (versus entire population).\n",
    "\n",
    "# I will do so again, guessing at the assignment's requested methodology. "
   ]
  },
  {
   "cell_type": "code",
   "execution_count": 78,
   "metadata": {
    "collapsed": false
   },
   "outputs": [],
   "source": [
    "# We will append this observation to our Descriptive Statistics DataFrame, desc_df\n",
    "desc_dict[\"sd\"] = sd"
   ]
  },
  {
   "cell_type": "code",
   "execution_count": 79,
   "metadata": {
    "collapsed": false
   },
   "outputs": [],
   "source": [
    "desc_df=pd.DataFrame(desc_dict)"
   ]
  },
  {
   "cell_type": "code",
   "execution_count": 80,
   "metadata": {
    "collapsed": false
   },
   "outputs": [
    {
     "data": {
      "text/html": [
       "<div>\n",
       "<style>\n",
       "    .dataframe thead tr:only-child th {\n",
       "        text-align: right;\n",
       "    }\n",
       "\n",
       "    .dataframe thead th {\n",
       "        text-align: left;\n",
       "    }\n",
       "\n",
       "    .dataframe tbody tr th {\n",
       "        vertical-align: top;\n",
       "    }\n",
       "</style>\n",
       "<table border=\"1\" class=\"dataframe\">\n",
       "  <thead>\n",
       "    <tr style=\"text-align: right;\">\n",
       "      <th></th>\n",
       "      <th>field</th>\n",
       "      <th>max</th>\n",
       "      <th>min</th>\n",
       "      <th>sd</th>\n",
       "    </tr>\n",
       "  </thead>\n",
       "  <tbody>\n",
       "    <tr>\n",
       "      <th>0</th>\n",
       "      <td>partic-act</td>\n",
       "      <td>100.0</td>\n",
       "      <td>8.0</td>\n",
       "      <td>31.824176</td>\n",
       "    </tr>\n",
       "    <tr>\n",
       "      <th>1</th>\n",
       "      <td>eng-act</td>\n",
       "      <td>25.5</td>\n",
       "      <td>16.3</td>\n",
       "      <td>2.330488</td>\n",
       "    </tr>\n",
       "    <tr>\n",
       "      <th>2</th>\n",
       "      <td>math-act</td>\n",
       "      <td>25.3</td>\n",
       "      <td>18.0</td>\n",
       "      <td>1.962462</td>\n",
       "    </tr>\n",
       "    <tr>\n",
       "      <th>3</th>\n",
       "      <td>read-act</td>\n",
       "      <td>26.0</td>\n",
       "      <td>18.1</td>\n",
       "      <td>2.046903</td>\n",
       "    </tr>\n",
       "    <tr>\n",
       "      <th>4</th>\n",
       "      <td>sci-act</td>\n",
       "      <td>24.9</td>\n",
       "      <td>18.2</td>\n",
       "      <td>1.722216</td>\n",
       "    </tr>\n",
       "    <tr>\n",
       "      <th>5</th>\n",
       "      <td>comp-act</td>\n",
       "      <td>25.5</td>\n",
       "      <td>17.8</td>\n",
       "      <td>2.000786</td>\n",
       "    </tr>\n",
       "    <tr>\n",
       "      <th>6</th>\n",
       "      <td>score-range-act</td>\n",
       "      <td>2.0</td>\n",
       "      <td>0.6</td>\n",
       "      <td>0.335082</td>\n",
       "    </tr>\n",
       "    <tr>\n",
       "      <th>7</th>\n",
       "      <td>partic-sat</td>\n",
       "      <td>100.0</td>\n",
       "      <td>2.0</td>\n",
       "      <td>34.929071</td>\n",
       "    </tr>\n",
       "    <tr>\n",
       "      <th>8</th>\n",
       "      <td>readwrite-sat</td>\n",
       "      <td>644.0</td>\n",
       "      <td>482.0</td>\n",
       "      <td>45.216970</td>\n",
       "    </tr>\n",
       "    <tr>\n",
       "      <th>9</th>\n",
       "      <td>math-sat</td>\n",
       "      <td>651.0</td>\n",
       "      <td>468.0</td>\n",
       "      <td>46.657134</td>\n",
       "    </tr>\n",
       "    <tr>\n",
       "      <th>10</th>\n",
       "      <td>total-sat</td>\n",
       "      <td>1295.0</td>\n",
       "      <td>950.0</td>\n",
       "      <td>91.583511</td>\n",
       "    </tr>\n",
       "    <tr>\n",
       "      <th>11</th>\n",
       "      <td>score-range-sat</td>\n",
       "      <td>30.0</td>\n",
       "      <td>3.0</td>\n",
       "      <td>6.553890</td>\n",
       "    </tr>\n",
       "  </tbody>\n",
       "</table>\n",
       "</div>"
      ],
      "text/plain": [
       "              field     max    min         sd\n",
       "0        partic-act   100.0    8.0  31.824176\n",
       "1           eng-act    25.5   16.3   2.330488\n",
       "2          math-act    25.3   18.0   1.962462\n",
       "3          read-act    26.0   18.1   2.046903\n",
       "4           sci-act    24.9   18.2   1.722216\n",
       "5          comp-act    25.5   17.8   2.000786\n",
       "6   score-range-act     2.0    0.6   0.335082\n",
       "7        partic-sat   100.0    2.0  34.929071\n",
       "8     readwrite-sat   644.0  482.0  45.216970\n",
       "9          math-sat   651.0  468.0  46.657134\n",
       "10        total-sat  1295.0  950.0  91.583511\n",
       "11  score-range-sat    30.0    3.0   6.553890"
      ]
     },
     "execution_count": 80,
     "metadata": {},
     "output_type": "execute_result"
    }
   ],
   "source": [
    "desc_df"
   ]
  },
  {
   "cell_type": "markdown",
   "metadata": {},
   "source": [
    "##### 14. Sort the dataframe by the values in a numeric column (e.g. observations descending by SAT participation rate)"
   ]
  },
  {
   "cell_type": "code",
   "execution_count": 81,
   "metadata": {
    "collapsed": false
   },
   "outputs": [
    {
     "data": {
      "text/html": [
       "<div>\n",
       "<style>\n",
       "    .dataframe thead tr:only-child th {\n",
       "        text-align: right;\n",
       "    }\n",
       "\n",
       "    .dataframe thead th {\n",
       "        text-align: left;\n",
       "    }\n",
       "\n",
       "    .dataframe tbody tr th {\n",
       "        vertical-align: top;\n",
       "    }\n",
       "</style>\n",
       "<table border=\"1\" class=\"dataframe\">\n",
       "  <thead>\n",
       "    <tr style=\"text-align: right;\">\n",
       "      <th></th>\n",
       "      <th>state</th>\n",
       "      <th>partic-act</th>\n",
       "      <th>eng-act</th>\n",
       "      <th>math-act</th>\n",
       "      <th>read-act</th>\n",
       "      <th>sci-act</th>\n",
       "      <th>comp-act</th>\n",
       "      <th>score-range-act</th>\n",
       "      <th>partic-sat</th>\n",
       "      <th>readwrite-sat</th>\n",
       "      <th>math-sat</th>\n",
       "      <th>total-sat</th>\n",
       "      <th>score-range-sat</th>\n",
       "    </tr>\n",
       "  </thead>\n",
       "  <tbody>\n",
       "    <tr>\n",
       "      <th>1</th>\n",
       "      <td>Alabama</td>\n",
       "      <td>100</td>\n",
       "      <td>18.9</td>\n",
       "      <td>18.4</td>\n",
       "      <td>19.7</td>\n",
       "      <td>19.4</td>\n",
       "      <td>19.2</td>\n",
       "      <td>1.3</td>\n",
       "      <td>5.0</td>\n",
       "      <td>593.0</td>\n",
       "      <td>572.0</td>\n",
       "      <td>1165.0</td>\n",
       "      <td>21.0</td>\n",
       "    </tr>\n",
       "    <tr>\n",
       "      <th>18</th>\n",
       "      <td>Kentucky</td>\n",
       "      <td>100</td>\n",
       "      <td>19.6</td>\n",
       "      <td>19.4</td>\n",
       "      <td>20.5</td>\n",
       "      <td>20.1</td>\n",
       "      <td>20.0</td>\n",
       "      <td>1.1</td>\n",
       "      <td>4.0</td>\n",
       "      <td>631.0</td>\n",
       "      <td>616.0</td>\n",
       "      <td>1247.0</td>\n",
       "      <td>15.0</td>\n",
       "    </tr>\n",
       "    <tr>\n",
       "      <th>50</th>\n",
       "      <td>Wisconsin</td>\n",
       "      <td>100</td>\n",
       "      <td>19.7</td>\n",
       "      <td>20.4</td>\n",
       "      <td>20.6</td>\n",
       "      <td>20.9</td>\n",
       "      <td>20.5</td>\n",
       "      <td>1.2</td>\n",
       "      <td>3.0</td>\n",
       "      <td>642.0</td>\n",
       "      <td>649.0</td>\n",
       "      <td>1291.0</td>\n",
       "      <td>7.0</td>\n",
       "    </tr>\n",
       "    <tr>\n",
       "      <th>45</th>\n",
       "      <td>Utah</td>\n",
       "      <td>100</td>\n",
       "      <td>19.5</td>\n",
       "      <td>19.9</td>\n",
       "      <td>20.8</td>\n",
       "      <td>20.6</td>\n",
       "      <td>20.3</td>\n",
       "      <td>1.3</td>\n",
       "      <td>3.0</td>\n",
       "      <td>624.0</td>\n",
       "      <td>614.0</td>\n",
       "      <td>1238.0</td>\n",
       "      <td>10.0</td>\n",
       "    </tr>\n",
       "    <tr>\n",
       "      <th>43</th>\n",
       "      <td>Tennessee</td>\n",
       "      <td>100</td>\n",
       "      <td>19.5</td>\n",
       "      <td>19.2</td>\n",
       "      <td>20.1</td>\n",
       "      <td>19.9</td>\n",
       "      <td>19.8</td>\n",
       "      <td>0.9</td>\n",
       "      <td>5.0</td>\n",
       "      <td>623.0</td>\n",
       "      <td>604.0</td>\n",
       "      <td>1228.0</td>\n",
       "      <td>19.0</td>\n",
       "    </tr>\n",
       "    <tr>\n",
       "      <th>41</th>\n",
       "      <td>South Carolina</td>\n",
       "      <td>100</td>\n",
       "      <td>17.5</td>\n",
       "      <td>18.6</td>\n",
       "      <td>19.1</td>\n",
       "      <td>18.9</td>\n",
       "      <td>18.7</td>\n",
       "      <td>1.6</td>\n",
       "      <td>50.0</td>\n",
       "      <td>543.0</td>\n",
       "      <td>521.0</td>\n",
       "      <td>1064.0</td>\n",
       "      <td>22.0</td>\n",
       "    </tr>\n",
       "    <tr>\n",
       "      <th>37</th>\n",
       "      <td>Oklahoma</td>\n",
       "      <td>100</td>\n",
       "      <td>18.5</td>\n",
       "      <td>18.8</td>\n",
       "      <td>20.1</td>\n",
       "      <td>19.6</td>\n",
       "      <td>19.4</td>\n",
       "      <td>1.6</td>\n",
       "      <td>7.0</td>\n",
       "      <td>530.0</td>\n",
       "      <td>517.0</td>\n",
       "      <td>1047.0</td>\n",
       "      <td>13.0</td>\n",
       "    </tr>\n",
       "    <tr>\n",
       "      <th>34</th>\n",
       "      <td>North Carolina</td>\n",
       "      <td>100</td>\n",
       "      <td>17.8</td>\n",
       "      <td>19.3</td>\n",
       "      <td>19.6</td>\n",
       "      <td>19.3</td>\n",
       "      <td>19.1</td>\n",
       "      <td>1.8</td>\n",
       "      <td>49.0</td>\n",
       "      <td>546.0</td>\n",
       "      <td>535.0</td>\n",
       "      <td>1081.0</td>\n",
       "      <td>11.0</td>\n",
       "    </tr>\n",
       "    <tr>\n",
       "      <th>29</th>\n",
       "      <td>Nevada</td>\n",
       "      <td>100</td>\n",
       "      <td>16.3</td>\n",
       "      <td>18.0</td>\n",
       "      <td>18.1</td>\n",
       "      <td>18.2</td>\n",
       "      <td>17.8</td>\n",
       "      <td>1.9</td>\n",
       "      <td>26.0</td>\n",
       "      <td>563.0</td>\n",
       "      <td>553.0</td>\n",
       "      <td>1116.0</td>\n",
       "      <td>10.0</td>\n",
       "    </tr>\n",
       "    <tr>\n",
       "      <th>27</th>\n",
       "      <td>Montana</td>\n",
       "      <td>100</td>\n",
       "      <td>19.0</td>\n",
       "      <td>20.2</td>\n",
       "      <td>21.0</td>\n",
       "      <td>20.5</td>\n",
       "      <td>20.3</td>\n",
       "      <td>2.0</td>\n",
       "      <td>10.0</td>\n",
       "      <td>605.0</td>\n",
       "      <td>591.0</td>\n",
       "      <td>1196.0</td>\n",
       "      <td>14.0</td>\n",
       "    </tr>\n",
       "    <tr>\n",
       "      <th>25</th>\n",
       "      <td>Mississippi</td>\n",
       "      <td>100</td>\n",
       "      <td>18.2</td>\n",
       "      <td>18.1</td>\n",
       "      <td>18.8</td>\n",
       "      <td>18.8</td>\n",
       "      <td>18.6</td>\n",
       "      <td>0.7</td>\n",
       "      <td>2.0</td>\n",
       "      <td>634.0</td>\n",
       "      <td>607.0</td>\n",
       "      <td>1242.0</td>\n",
       "      <td>27.0</td>\n",
       "    </tr>\n",
       "    <tr>\n",
       "      <th>24</th>\n",
       "      <td>Minnesota</td>\n",
       "      <td>100</td>\n",
       "      <td>20.4</td>\n",
       "      <td>21.5</td>\n",
       "      <td>21.8</td>\n",
       "      <td>21.6</td>\n",
       "      <td>21.5</td>\n",
       "      <td>1.4</td>\n",
       "      <td>3.0</td>\n",
       "      <td>644.0</td>\n",
       "      <td>651.0</td>\n",
       "      <td>1295.0</td>\n",
       "      <td>7.0</td>\n",
       "    </tr>\n",
       "    <tr>\n",
       "      <th>19</th>\n",
       "      <td>Louisiana</td>\n",
       "      <td>100</td>\n",
       "      <td>19.4</td>\n",
       "      <td>18.8</td>\n",
       "      <td>19.8</td>\n",
       "      <td>19.6</td>\n",
       "      <td>19.5</td>\n",
       "      <td>1.0</td>\n",
       "      <td>4.0</td>\n",
       "      <td>611.0</td>\n",
       "      <td>586.0</td>\n",
       "      <td>1198.0</td>\n",
       "      <td>25.0</td>\n",
       "    </tr>\n",
       "    <tr>\n",
       "      <th>26</th>\n",
       "      <td>Missouri</td>\n",
       "      <td>100</td>\n",
       "      <td>19.8</td>\n",
       "      <td>19.9</td>\n",
       "      <td>20.8</td>\n",
       "      <td>20.5</td>\n",
       "      <td>20.4</td>\n",
       "      <td>1.0</td>\n",
       "      <td>3.0</td>\n",
       "      <td>640.0</td>\n",
       "      <td>631.0</td>\n",
       "      <td>1271.0</td>\n",
       "      <td>9.0</td>\n",
       "    </tr>\n",
       "    <tr>\n",
       "      <th>51</th>\n",
       "      <td>Wyoming</td>\n",
       "      <td>100</td>\n",
       "      <td>19.4</td>\n",
       "      <td>19.8</td>\n",
       "      <td>20.8</td>\n",
       "      <td>20.6</td>\n",
       "      <td>20.2</td>\n",
       "      <td>1.4</td>\n",
       "      <td>3.0</td>\n",
       "      <td>626.0</td>\n",
       "      <td>604.0</td>\n",
       "      <td>1230.0</td>\n",
       "      <td>22.0</td>\n",
       "    </tr>\n",
       "    <tr>\n",
       "      <th>6</th>\n",
       "      <td>Colorado</td>\n",
       "      <td>100</td>\n",
       "      <td>20.1</td>\n",
       "      <td>20.3</td>\n",
       "      <td>21.2</td>\n",
       "      <td>20.9</td>\n",
       "      <td>20.8</td>\n",
       "      <td>1.1</td>\n",
       "      <td>11.0</td>\n",
       "      <td>606.0</td>\n",
       "      <td>595.0</td>\n",
       "      <td>1201.0</td>\n",
       "      <td>11.0</td>\n",
       "    </tr>\n",
       "    <tr>\n",
       "      <th>4</th>\n",
       "      <td>Arkansas</td>\n",
       "      <td>100</td>\n",
       "      <td>18.9</td>\n",
       "      <td>19.0</td>\n",
       "      <td>19.7</td>\n",
       "      <td>19.5</td>\n",
       "      <td>19.4</td>\n",
       "      <td>0.8</td>\n",
       "      <td>3.0</td>\n",
       "      <td>614.0</td>\n",
       "      <td>594.0</td>\n",
       "      <td>1208.0</td>\n",
       "      <td>20.0</td>\n",
       "    </tr>\n",
       "    <tr>\n",
       "      <th>35</th>\n",
       "      <td>North Dakota</td>\n",
       "      <td>98</td>\n",
       "      <td>19.0</td>\n",
       "      <td>20.4</td>\n",
       "      <td>20.5</td>\n",
       "      <td>20.6</td>\n",
       "      <td>20.3</td>\n",
       "      <td>1.6</td>\n",
       "      <td>2.0</td>\n",
       "      <td>635.0</td>\n",
       "      <td>621.0</td>\n",
       "      <td>1256.0</td>\n",
       "      <td>14.0</td>\n",
       "    </tr>\n",
       "    <tr>\n",
       "      <th>14</th>\n",
       "      <td>Illinois</td>\n",
       "      <td>93</td>\n",
       "      <td>21.0</td>\n",
       "      <td>21.2</td>\n",
       "      <td>21.6</td>\n",
       "      <td>21.3</td>\n",
       "      <td>21.4</td>\n",
       "      <td>0.6</td>\n",
       "      <td>9.0</td>\n",
       "      <td>559.0</td>\n",
       "      <td>556.0</td>\n",
       "      <td>1115.0</td>\n",
       "      <td>3.0</td>\n",
       "    </tr>\n",
       "    <tr>\n",
       "      <th>12</th>\n",
       "      <td>Hawaii</td>\n",
       "      <td>90</td>\n",
       "      <td>17.8</td>\n",
       "      <td>19.2</td>\n",
       "      <td>19.2</td>\n",
       "      <td>19.3</td>\n",
       "      <td>19.0</td>\n",
       "      <td>1.5</td>\n",
       "      <td>55.0</td>\n",
       "      <td>544.0</td>\n",
       "      <td>541.0</td>\n",
       "      <td>1085.0</td>\n",
       "      <td>3.0</td>\n",
       "    </tr>\n",
       "    <tr>\n",
       "      <th>28</th>\n",
       "      <td>Nebraska</td>\n",
       "      <td>84</td>\n",
       "      <td>20.9</td>\n",
       "      <td>20.9</td>\n",
       "      <td>21.9</td>\n",
       "      <td>21.5</td>\n",
       "      <td>21.4</td>\n",
       "      <td>1.0</td>\n",
       "      <td>3.0</td>\n",
       "      <td>629.0</td>\n",
       "      <td>625.0</td>\n",
       "      <td>1253.0</td>\n",
       "      <td>4.0</td>\n",
       "    </tr>\n",
       "    <tr>\n",
       "      <th>42</th>\n",
       "      <td>South Dakota</td>\n",
       "      <td>80</td>\n",
       "      <td>20.7</td>\n",
       "      <td>21.5</td>\n",
       "      <td>22.3</td>\n",
       "      <td>22.0</td>\n",
       "      <td>21.8</td>\n",
       "      <td>1.6</td>\n",
       "      <td>3.0</td>\n",
       "      <td>612.0</td>\n",
       "      <td>603.0</td>\n",
       "      <td>1216.0</td>\n",
       "      <td>9.0</td>\n",
       "    </tr>\n",
       "    <tr>\n",
       "      <th>36</th>\n",
       "      <td>Ohio</td>\n",
       "      <td>75</td>\n",
       "      <td>21.2</td>\n",
       "      <td>21.6</td>\n",
       "      <td>22.5</td>\n",
       "      <td>22.0</td>\n",
       "      <td>22.0</td>\n",
       "      <td>1.3</td>\n",
       "      <td>12.0</td>\n",
       "      <td>578.0</td>\n",
       "      <td>570.0</td>\n",
       "      <td>1149.0</td>\n",
       "      <td>8.0</td>\n",
       "    </tr>\n",
       "    <tr>\n",
       "      <th>10</th>\n",
       "      <td>Florida</td>\n",
       "      <td>73</td>\n",
       "      <td>19.0</td>\n",
       "      <td>19.4</td>\n",
       "      <td>21.0</td>\n",
       "      <td>19.4</td>\n",
       "      <td>19.8</td>\n",
       "      <td>2.0</td>\n",
       "      <td>83.0</td>\n",
       "      <td>520.0</td>\n",
       "      <td>497.0</td>\n",
       "      <td>1017.0</td>\n",
       "      <td>23.0</td>\n",
       "    </tr>\n",
       "    <tr>\n",
       "      <th>17</th>\n",
       "      <td>Kansas</td>\n",
       "      <td>73</td>\n",
       "      <td>21.1</td>\n",
       "      <td>21.3</td>\n",
       "      <td>22.3</td>\n",
       "      <td>21.7</td>\n",
       "      <td>21.7</td>\n",
       "      <td>1.2</td>\n",
       "      <td>4.0</td>\n",
       "      <td>632.0</td>\n",
       "      <td>628.0</td>\n",
       "      <td>1260.0</td>\n",
       "      <td>4.0</td>\n",
       "    </tr>\n",
       "    <tr>\n",
       "      <th>49</th>\n",
       "      <td>West Virginia</td>\n",
       "      <td>69</td>\n",
       "      <td>20.0</td>\n",
       "      <td>19.4</td>\n",
       "      <td>21.2</td>\n",
       "      <td>20.5</td>\n",
       "      <td>20.4</td>\n",
       "      <td>1.8</td>\n",
       "      <td>14.0</td>\n",
       "      <td>558.0</td>\n",
       "      <td>528.0</td>\n",
       "      <td>1086.0</td>\n",
       "      <td>30.0</td>\n",
       "    </tr>\n",
       "    <tr>\n",
       "      <th>16</th>\n",
       "      <td>Iowa</td>\n",
       "      <td>67</td>\n",
       "      <td>21.2</td>\n",
       "      <td>21.3</td>\n",
       "      <td>22.6</td>\n",
       "      <td>22.1</td>\n",
       "      <td>21.9</td>\n",
       "      <td>1.4</td>\n",
       "      <td>2.0</td>\n",
       "      <td>641.0</td>\n",
       "      <td>635.0</td>\n",
       "      <td>1275.0</td>\n",
       "      <td>6.0</td>\n",
       "    </tr>\n",
       "    <tr>\n",
       "      <th>32</th>\n",
       "      <td>New Mexico</td>\n",
       "      <td>66</td>\n",
       "      <td>18.6</td>\n",
       "      <td>19.4</td>\n",
       "      <td>20.4</td>\n",
       "      <td>20.0</td>\n",
       "      <td>19.7</td>\n",
       "      <td>1.8</td>\n",
       "      <td>11.0</td>\n",
       "      <td>577.0</td>\n",
       "      <td>561.0</td>\n",
       "      <td>1138.0</td>\n",
       "      <td>16.0</td>\n",
       "    </tr>\n",
       "    <tr>\n",
       "      <th>2</th>\n",
       "      <td>Alaska</td>\n",
       "      <td>65</td>\n",
       "      <td>18.7</td>\n",
       "      <td>19.8</td>\n",
       "      <td>20.4</td>\n",
       "      <td>19.9</td>\n",
       "      <td>19.8</td>\n",
       "      <td>1.7</td>\n",
       "      <td>38.0</td>\n",
       "      <td>547.0</td>\n",
       "      <td>533.0</td>\n",
       "      <td>1080.0</td>\n",
       "      <td>14.0</td>\n",
       "    </tr>\n",
       "    <tr>\n",
       "      <th>3</th>\n",
       "      <td>Arizona</td>\n",
       "      <td>62</td>\n",
       "      <td>18.6</td>\n",
       "      <td>19.8</td>\n",
       "      <td>20.1</td>\n",
       "      <td>19.8</td>\n",
       "      <td>19.7</td>\n",
       "      <td>1.5</td>\n",
       "      <td>30.0</td>\n",
       "      <td>563.0</td>\n",
       "      <td>553.0</td>\n",
       "      <td>1116.0</td>\n",
       "      <td>10.0</td>\n",
       "    </tr>\n",
       "    <tr>\n",
       "      <th>11</th>\n",
       "      <td>Georgia</td>\n",
       "      <td>55</td>\n",
       "      <td>21.0</td>\n",
       "      <td>20.9</td>\n",
       "      <td>22.0</td>\n",
       "      <td>21.3</td>\n",
       "      <td>21.4</td>\n",
       "      <td>1.1</td>\n",
       "      <td>61.0</td>\n",
       "      <td>535.0</td>\n",
       "      <td>515.0</td>\n",
       "      <td>1050.0</td>\n",
       "      <td>20.0</td>\n",
       "    </tr>\n",
       "    <tr>\n",
       "      <th>44</th>\n",
       "      <td>Texas</td>\n",
       "      <td>45</td>\n",
       "      <td>19.5</td>\n",
       "      <td>20.7</td>\n",
       "      <td>21.1</td>\n",
       "      <td>20.9</td>\n",
       "      <td>20.7</td>\n",
       "      <td>1.6</td>\n",
       "      <td>62.0</td>\n",
       "      <td>513.0</td>\n",
       "      <td>507.0</td>\n",
       "      <td>1020.0</td>\n",
       "      <td>6.0</td>\n",
       "    </tr>\n",
       "    <tr>\n",
       "      <th>38</th>\n",
       "      <td>Oregon</td>\n",
       "      <td>40</td>\n",
       "      <td>21.2</td>\n",
       "      <td>21.5</td>\n",
       "      <td>22.4</td>\n",
       "      <td>21.7</td>\n",
       "      <td>21.8</td>\n",
       "      <td>1.2</td>\n",
       "      <td>43.0</td>\n",
       "      <td>560.0</td>\n",
       "      <td>548.0</td>\n",
       "      <td>1108.0</td>\n",
       "      <td>12.0</td>\n",
       "    </tr>\n",
       "    <tr>\n",
       "      <th>13</th>\n",
       "      <td>Idaho</td>\n",
       "      <td>38</td>\n",
       "      <td>21.9</td>\n",
       "      <td>21.8</td>\n",
       "      <td>23.0</td>\n",
       "      <td>22.1</td>\n",
       "      <td>22.3</td>\n",
       "      <td>1.2</td>\n",
       "      <td>93.0</td>\n",
       "      <td>513.0</td>\n",
       "      <td>493.0</td>\n",
       "      <td>1005.0</td>\n",
       "      <td>20.0</td>\n",
       "    </tr>\n",
       "    <tr>\n",
       "      <th>15</th>\n",
       "      <td>Indiana</td>\n",
       "      <td>35</td>\n",
       "      <td>22.0</td>\n",
       "      <td>22.4</td>\n",
       "      <td>23.2</td>\n",
       "      <td>22.3</td>\n",
       "      <td>22.6</td>\n",
       "      <td>1.2</td>\n",
       "      <td>63.0</td>\n",
       "      <td>542.0</td>\n",
       "      <td>532.0</td>\n",
       "      <td>1074.0</td>\n",
       "      <td>10.0</td>\n",
       "    </tr>\n",
       "    <tr>\n",
       "      <th>31</th>\n",
       "      <td>New Jersey</td>\n",
       "      <td>34</td>\n",
       "      <td>23.8</td>\n",
       "      <td>23.8</td>\n",
       "      <td>24.1</td>\n",
       "      <td>23.2</td>\n",
       "      <td>23.9</td>\n",
       "      <td>0.9</td>\n",
       "      <td>70.0</td>\n",
       "      <td>530.0</td>\n",
       "      <td>526.0</td>\n",
       "      <td>1056.0</td>\n",
       "      <td>4.0</td>\n",
       "    </tr>\n",
       "    <tr>\n",
       "      <th>9</th>\n",
       "      <td>District of Columbia</td>\n",
       "      <td>32</td>\n",
       "      <td>24.4</td>\n",
       "      <td>23.5</td>\n",
       "      <td>24.9</td>\n",
       "      <td>23.5</td>\n",
       "      <td>24.2</td>\n",
       "      <td>1.4</td>\n",
       "      <td>100.0</td>\n",
       "      <td>482.0</td>\n",
       "      <td>468.0</td>\n",
       "      <td>950.0</td>\n",
       "      <td>14.0</td>\n",
       "    </tr>\n",
       "    <tr>\n",
       "      <th>7</th>\n",
       "      <td>Connecticut</td>\n",
       "      <td>31</td>\n",
       "      <td>25.5</td>\n",
       "      <td>24.6</td>\n",
       "      <td>25.6</td>\n",
       "      <td>24.6</td>\n",
       "      <td>25.2</td>\n",
       "      <td>1.0</td>\n",
       "      <td>100.0</td>\n",
       "      <td>530.0</td>\n",
       "      <td>512.0</td>\n",
       "      <td>1041.0</td>\n",
       "      <td>18.0</td>\n",
       "    </tr>\n",
       "    <tr>\n",
       "      <th>5</th>\n",
       "      <td>California</td>\n",
       "      <td>31</td>\n",
       "      <td>22.5</td>\n",
       "      <td>22.7</td>\n",
       "      <td>23.1</td>\n",
       "      <td>22.2</td>\n",
       "      <td>22.8</td>\n",
       "      <td>0.9</td>\n",
       "      <td>53.0</td>\n",
       "      <td>531.0</td>\n",
       "      <td>524.0</td>\n",
       "      <td>1055.0</td>\n",
       "      <td>7.0</td>\n",
       "    </tr>\n",
       "    <tr>\n",
       "      <th>33</th>\n",
       "      <td>New York</td>\n",
       "      <td>31</td>\n",
       "      <td>23.8</td>\n",
       "      <td>24.0</td>\n",
       "      <td>24.6</td>\n",
       "      <td>23.9</td>\n",
       "      <td>24.2</td>\n",
       "      <td>0.8</td>\n",
       "      <td>67.0</td>\n",
       "      <td>528.0</td>\n",
       "      <td>523.0</td>\n",
       "      <td>1052.0</td>\n",
       "      <td>5.0</td>\n",
       "    </tr>\n",
       "    <tr>\n",
       "      <th>23</th>\n",
       "      <td>Michigan</td>\n",
       "      <td>29</td>\n",
       "      <td>24.1</td>\n",
       "      <td>23.7</td>\n",
       "      <td>24.5</td>\n",
       "      <td>23.8</td>\n",
       "      <td>24.1</td>\n",
       "      <td>0.8</td>\n",
       "      <td>100.0</td>\n",
       "      <td>509.0</td>\n",
       "      <td>495.0</td>\n",
       "      <td>1005.0</td>\n",
       "      <td>14.0</td>\n",
       "    </tr>\n",
       "    <tr>\n",
       "      <th>22</th>\n",
       "      <td>Massachusetts</td>\n",
       "      <td>29</td>\n",
       "      <td>25.4</td>\n",
       "      <td>25.3</td>\n",
       "      <td>25.9</td>\n",
       "      <td>24.7</td>\n",
       "      <td>25.4</td>\n",
       "      <td>1.2</td>\n",
       "      <td>76.0</td>\n",
       "      <td>555.0</td>\n",
       "      <td>551.0</td>\n",
       "      <td>1107.0</td>\n",
       "      <td>4.0</td>\n",
       "    </tr>\n",
       "    <tr>\n",
       "      <th>46</th>\n",
       "      <td>Vermont</td>\n",
       "      <td>29</td>\n",
       "      <td>23.3</td>\n",
       "      <td>23.1</td>\n",
       "      <td>24.4</td>\n",
       "      <td>23.2</td>\n",
       "      <td>23.6</td>\n",
       "      <td>1.3</td>\n",
       "      <td>60.0</td>\n",
       "      <td>562.0</td>\n",
       "      <td>551.0</td>\n",
       "      <td>1114.0</td>\n",
       "      <td>11.0</td>\n",
       "    </tr>\n",
       "    <tr>\n",
       "      <th>47</th>\n",
       "      <td>Virginia</td>\n",
       "      <td>29</td>\n",
       "      <td>23.5</td>\n",
       "      <td>23.3</td>\n",
       "      <td>24.6</td>\n",
       "      <td>23.5</td>\n",
       "      <td>23.8</td>\n",
       "      <td>1.3</td>\n",
       "      <td>65.0</td>\n",
       "      <td>561.0</td>\n",
       "      <td>541.0</td>\n",
       "      <td>1102.0</td>\n",
       "      <td>20.0</td>\n",
       "    </tr>\n",
       "    <tr>\n",
       "      <th>48</th>\n",
       "      <td>Washington</td>\n",
       "      <td>29</td>\n",
       "      <td>20.9</td>\n",
       "      <td>21.9</td>\n",
       "      <td>22.1</td>\n",
       "      <td>22.0</td>\n",
       "      <td>21.9</td>\n",
       "      <td>1.2</td>\n",
       "      <td>64.0</td>\n",
       "      <td>541.0</td>\n",
       "      <td>534.0</td>\n",
       "      <td>1075.0</td>\n",
       "      <td>7.0</td>\n",
       "    </tr>\n",
       "    <tr>\n",
       "      <th>21</th>\n",
       "      <td>Maryland</td>\n",
       "      <td>28</td>\n",
       "      <td>23.3</td>\n",
       "      <td>23.1</td>\n",
       "      <td>24.2</td>\n",
       "      <td>23.2</td>\n",
       "      <td>23.6</td>\n",
       "      <td>1.1</td>\n",
       "      <td>69.0</td>\n",
       "      <td>536.0</td>\n",
       "      <td>524.0</td>\n",
       "      <td>1060.0</td>\n",
       "      <td>12.0</td>\n",
       "    </tr>\n",
       "    <tr>\n",
       "      <th>39</th>\n",
       "      <td>Pennsylvania</td>\n",
       "      <td>23</td>\n",
       "      <td>23.4</td>\n",
       "      <td>23.4</td>\n",
       "      <td>24.2</td>\n",
       "      <td>23.3</td>\n",
       "      <td>23.7</td>\n",
       "      <td>0.9</td>\n",
       "      <td>65.0</td>\n",
       "      <td>540.0</td>\n",
       "      <td>531.0</td>\n",
       "      <td>1071.0</td>\n",
       "      <td>9.0</td>\n",
       "    </tr>\n",
       "    <tr>\n",
       "      <th>40</th>\n",
       "      <td>Rhode Island</td>\n",
       "      <td>21</td>\n",
       "      <td>24.0</td>\n",
       "      <td>23.3</td>\n",
       "      <td>24.7</td>\n",
       "      <td>23.4</td>\n",
       "      <td>24.0</td>\n",
       "      <td>1.4</td>\n",
       "      <td>71.0</td>\n",
       "      <td>539.0</td>\n",
       "      <td>524.0</td>\n",
       "      <td>1062.0</td>\n",
       "      <td>15.0</td>\n",
       "    </tr>\n",
       "    <tr>\n",
       "      <th>8</th>\n",
       "      <td>Delaware</td>\n",
       "      <td>18</td>\n",
       "      <td>24.1</td>\n",
       "      <td>23.4</td>\n",
       "      <td>24.8</td>\n",
       "      <td>23.6</td>\n",
       "      <td>24.1</td>\n",
       "      <td>1.4</td>\n",
       "      <td>100.0</td>\n",
       "      <td>503.0</td>\n",
       "      <td>492.0</td>\n",
       "      <td>996.0</td>\n",
       "      <td>11.0</td>\n",
       "    </tr>\n",
       "    <tr>\n",
       "      <th>30</th>\n",
       "      <td>New Hampshire</td>\n",
       "      <td>18</td>\n",
       "      <td>25.4</td>\n",
       "      <td>25.1</td>\n",
       "      <td>26.0</td>\n",
       "      <td>24.9</td>\n",
       "      <td>25.5</td>\n",
       "      <td>1.1</td>\n",
       "      <td>96.0</td>\n",
       "      <td>532.0</td>\n",
       "      <td>520.0</td>\n",
       "      <td>1052.0</td>\n",
       "      <td>12.0</td>\n",
       "    </tr>\n",
       "    <tr>\n",
       "      <th>20</th>\n",
       "      <td>Maine</td>\n",
       "      <td>8</td>\n",
       "      <td>24.2</td>\n",
       "      <td>24.0</td>\n",
       "      <td>24.8</td>\n",
       "      <td>23.7</td>\n",
       "      <td>24.3</td>\n",
       "      <td>1.1</td>\n",
       "      <td>95.0</td>\n",
       "      <td>513.0</td>\n",
       "      <td>499.0</td>\n",
       "      <td>1012.0</td>\n",
       "      <td>14.0</td>\n",
       "    </tr>\n",
       "  </tbody>\n",
       "</table>\n",
       "</div>"
      ],
      "text/plain": [
       "                   state  partic-act  eng-act  math-act  read-act  sci-act  \\\n",
       "1                Alabama         100     18.9      18.4      19.7     19.4   \n",
       "18              Kentucky         100     19.6      19.4      20.5     20.1   \n",
       "50             Wisconsin         100     19.7      20.4      20.6     20.9   \n",
       "45                  Utah         100     19.5      19.9      20.8     20.6   \n",
       "43             Tennessee         100     19.5      19.2      20.1     19.9   \n",
       "41        South Carolina         100     17.5      18.6      19.1     18.9   \n",
       "37              Oklahoma         100     18.5      18.8      20.1     19.6   \n",
       "34        North Carolina         100     17.8      19.3      19.6     19.3   \n",
       "29                Nevada         100     16.3      18.0      18.1     18.2   \n",
       "27               Montana         100     19.0      20.2      21.0     20.5   \n",
       "25           Mississippi         100     18.2      18.1      18.8     18.8   \n",
       "24             Minnesota         100     20.4      21.5      21.8     21.6   \n",
       "19             Louisiana         100     19.4      18.8      19.8     19.6   \n",
       "26              Missouri         100     19.8      19.9      20.8     20.5   \n",
       "51               Wyoming         100     19.4      19.8      20.8     20.6   \n",
       "6               Colorado         100     20.1      20.3      21.2     20.9   \n",
       "4               Arkansas         100     18.9      19.0      19.7     19.5   \n",
       "35          North Dakota          98     19.0      20.4      20.5     20.6   \n",
       "14              Illinois          93     21.0      21.2      21.6     21.3   \n",
       "12                Hawaii          90     17.8      19.2      19.2     19.3   \n",
       "28              Nebraska          84     20.9      20.9      21.9     21.5   \n",
       "42          South Dakota          80     20.7      21.5      22.3     22.0   \n",
       "36                  Ohio          75     21.2      21.6      22.5     22.0   \n",
       "10               Florida          73     19.0      19.4      21.0     19.4   \n",
       "17                Kansas          73     21.1      21.3      22.3     21.7   \n",
       "49         West Virginia          69     20.0      19.4      21.2     20.5   \n",
       "16                  Iowa          67     21.2      21.3      22.6     22.1   \n",
       "32            New Mexico          66     18.6      19.4      20.4     20.0   \n",
       "2                 Alaska          65     18.7      19.8      20.4     19.9   \n",
       "3                Arizona          62     18.6      19.8      20.1     19.8   \n",
       "11               Georgia          55     21.0      20.9      22.0     21.3   \n",
       "44                 Texas          45     19.5      20.7      21.1     20.9   \n",
       "38                Oregon          40     21.2      21.5      22.4     21.7   \n",
       "13                 Idaho          38     21.9      21.8      23.0     22.1   \n",
       "15               Indiana          35     22.0      22.4      23.2     22.3   \n",
       "31            New Jersey          34     23.8      23.8      24.1     23.2   \n",
       "9   District of Columbia          32     24.4      23.5      24.9     23.5   \n",
       "7            Connecticut          31     25.5      24.6      25.6     24.6   \n",
       "5             California          31     22.5      22.7      23.1     22.2   \n",
       "33              New York          31     23.8      24.0      24.6     23.9   \n",
       "23              Michigan          29     24.1      23.7      24.5     23.8   \n",
       "22         Massachusetts          29     25.4      25.3      25.9     24.7   \n",
       "46               Vermont          29     23.3      23.1      24.4     23.2   \n",
       "47              Virginia          29     23.5      23.3      24.6     23.5   \n",
       "48            Washington          29     20.9      21.9      22.1     22.0   \n",
       "21              Maryland          28     23.3      23.1      24.2     23.2   \n",
       "39          Pennsylvania          23     23.4      23.4      24.2     23.3   \n",
       "40          Rhode Island          21     24.0      23.3      24.7     23.4   \n",
       "8               Delaware          18     24.1      23.4      24.8     23.6   \n",
       "30         New Hampshire          18     25.4      25.1      26.0     24.9   \n",
       "20                 Maine           8     24.2      24.0      24.8     23.7   \n",
       "\n",
       "    comp-act  score-range-act  partic-sat  readwrite-sat  math-sat  total-sat  \\\n",
       "1       19.2              1.3         5.0          593.0     572.0     1165.0   \n",
       "18      20.0              1.1         4.0          631.0     616.0     1247.0   \n",
       "50      20.5              1.2         3.0          642.0     649.0     1291.0   \n",
       "45      20.3              1.3         3.0          624.0     614.0     1238.0   \n",
       "43      19.8              0.9         5.0          623.0     604.0     1228.0   \n",
       "41      18.7              1.6        50.0          543.0     521.0     1064.0   \n",
       "37      19.4              1.6         7.0          530.0     517.0     1047.0   \n",
       "34      19.1              1.8        49.0          546.0     535.0     1081.0   \n",
       "29      17.8              1.9        26.0          563.0     553.0     1116.0   \n",
       "27      20.3              2.0        10.0          605.0     591.0     1196.0   \n",
       "25      18.6              0.7         2.0          634.0     607.0     1242.0   \n",
       "24      21.5              1.4         3.0          644.0     651.0     1295.0   \n",
       "19      19.5              1.0         4.0          611.0     586.0     1198.0   \n",
       "26      20.4              1.0         3.0          640.0     631.0     1271.0   \n",
       "51      20.2              1.4         3.0          626.0     604.0     1230.0   \n",
       "6       20.8              1.1        11.0          606.0     595.0     1201.0   \n",
       "4       19.4              0.8         3.0          614.0     594.0     1208.0   \n",
       "35      20.3              1.6         2.0          635.0     621.0     1256.0   \n",
       "14      21.4              0.6         9.0          559.0     556.0     1115.0   \n",
       "12      19.0              1.5        55.0          544.0     541.0     1085.0   \n",
       "28      21.4              1.0         3.0          629.0     625.0     1253.0   \n",
       "42      21.8              1.6         3.0          612.0     603.0     1216.0   \n",
       "36      22.0              1.3        12.0          578.0     570.0     1149.0   \n",
       "10      19.8              2.0        83.0          520.0     497.0     1017.0   \n",
       "17      21.7              1.2         4.0          632.0     628.0     1260.0   \n",
       "49      20.4              1.8        14.0          558.0     528.0     1086.0   \n",
       "16      21.9              1.4         2.0          641.0     635.0     1275.0   \n",
       "32      19.7              1.8        11.0          577.0     561.0     1138.0   \n",
       "2       19.8              1.7        38.0          547.0     533.0     1080.0   \n",
       "3       19.7              1.5        30.0          563.0     553.0     1116.0   \n",
       "11      21.4              1.1        61.0          535.0     515.0     1050.0   \n",
       "44      20.7              1.6        62.0          513.0     507.0     1020.0   \n",
       "38      21.8              1.2        43.0          560.0     548.0     1108.0   \n",
       "13      22.3              1.2        93.0          513.0     493.0     1005.0   \n",
       "15      22.6              1.2        63.0          542.0     532.0     1074.0   \n",
       "31      23.9              0.9        70.0          530.0     526.0     1056.0   \n",
       "9       24.2              1.4       100.0          482.0     468.0      950.0   \n",
       "7       25.2              1.0       100.0          530.0     512.0     1041.0   \n",
       "5       22.8              0.9        53.0          531.0     524.0     1055.0   \n",
       "33      24.2              0.8        67.0          528.0     523.0     1052.0   \n",
       "23      24.1              0.8       100.0          509.0     495.0     1005.0   \n",
       "22      25.4              1.2        76.0          555.0     551.0     1107.0   \n",
       "46      23.6              1.3        60.0          562.0     551.0     1114.0   \n",
       "47      23.8              1.3        65.0          561.0     541.0     1102.0   \n",
       "48      21.9              1.2        64.0          541.0     534.0     1075.0   \n",
       "21      23.6              1.1        69.0          536.0     524.0     1060.0   \n",
       "39      23.7              0.9        65.0          540.0     531.0     1071.0   \n",
       "40      24.0              1.4        71.0          539.0     524.0     1062.0   \n",
       "8       24.1              1.4       100.0          503.0     492.0      996.0   \n",
       "30      25.5              1.1        96.0          532.0     520.0     1052.0   \n",
       "20      24.3              1.1        95.0          513.0     499.0     1012.0   \n",
       "\n",
       "    score-range-sat  \n",
       "1              21.0  \n",
       "18             15.0  \n",
       "50              7.0  \n",
       "45             10.0  \n",
       "43             19.0  \n",
       "41             22.0  \n",
       "37             13.0  \n",
       "34             11.0  \n",
       "29             10.0  \n",
       "27             14.0  \n",
       "25             27.0  \n",
       "24              7.0  \n",
       "19             25.0  \n",
       "26              9.0  \n",
       "51             22.0  \n",
       "6              11.0  \n",
       "4              20.0  \n",
       "35             14.0  \n",
       "14              3.0  \n",
       "12              3.0  \n",
       "28              4.0  \n",
       "42              9.0  \n",
       "36              8.0  \n",
       "10             23.0  \n",
       "17              4.0  \n",
       "49             30.0  \n",
       "16              6.0  \n",
       "32             16.0  \n",
       "2              14.0  \n",
       "3              10.0  \n",
       "11             20.0  \n",
       "44              6.0  \n",
       "38             12.0  \n",
       "13             20.0  \n",
       "15             10.0  \n",
       "31              4.0  \n",
       "9              14.0  \n",
       "7              18.0  \n",
       "5               7.0  \n",
       "33              5.0  \n",
       "23             14.0  \n",
       "22              4.0  \n",
       "46             11.0  \n",
       "47             20.0  \n",
       "48              7.0  \n",
       "21             12.0  \n",
       "39              9.0  \n",
       "40             15.0  \n",
       "8              11.0  \n",
       "30             12.0  \n",
       "20             14.0  "
      ]
     },
     "execution_count": 81,
     "metadata": {},
     "output_type": "execute_result"
    }
   ],
   "source": [
    "# The prompt appears to switch back to the dataframe containing numerical values for each state.\n",
    "num_sat_act.sort_values(\"partic-act\", ascending = False)"
   ]
  },
  {
   "cell_type": "markdown",
   "metadata": {},
   "source": [
    "##### 15. Use a boolean filter to display only observations with a score above a certain threshold (e.g. only states with a participation rate above 50%)"
   ]
  },
  {
   "cell_type": "code",
   "execution_count": 82,
   "metadata": {
    "collapsed": false,
    "scrolled": true
   },
   "outputs": [
    {
     "data": {
      "text/html": [
       "<div>\n",
       "<style>\n",
       "    .dataframe thead tr:only-child th {\n",
       "        text-align: right;\n",
       "    }\n",
       "\n",
       "    .dataframe thead th {\n",
       "        text-align: left;\n",
       "    }\n",
       "\n",
       "    .dataframe tbody tr th {\n",
       "        vertical-align: top;\n",
       "    }\n",
       "</style>\n",
       "<table border=\"1\" class=\"dataframe\">\n",
       "  <thead>\n",
       "    <tr style=\"text-align: right;\">\n",
       "      <th></th>\n",
       "      <th>state</th>\n",
       "      <th>partic-act</th>\n",
       "      <th>eng-act</th>\n",
       "      <th>math-act</th>\n",
       "      <th>read-act</th>\n",
       "      <th>sci-act</th>\n",
       "      <th>comp-act</th>\n",
       "      <th>score-range-act</th>\n",
       "      <th>partic-sat</th>\n",
       "      <th>readwrite-sat</th>\n",
       "      <th>math-sat</th>\n",
       "      <th>total-sat</th>\n",
       "      <th>score-range-sat</th>\n",
       "    </tr>\n",
       "  </thead>\n",
       "  <tbody>\n",
       "    <tr>\n",
       "      <th>5</th>\n",
       "      <td>California</td>\n",
       "      <td>31</td>\n",
       "      <td>22.5</td>\n",
       "      <td>22.7</td>\n",
       "      <td>23.1</td>\n",
       "      <td>22.2</td>\n",
       "      <td>22.8</td>\n",
       "      <td>0.9</td>\n",
       "      <td>53.0</td>\n",
       "      <td>531.0</td>\n",
       "      <td>524.0</td>\n",
       "      <td>1055.0</td>\n",
       "      <td>7.0</td>\n",
       "    </tr>\n",
       "    <tr>\n",
       "      <th>7</th>\n",
       "      <td>Connecticut</td>\n",
       "      <td>31</td>\n",
       "      <td>25.5</td>\n",
       "      <td>24.6</td>\n",
       "      <td>25.6</td>\n",
       "      <td>24.6</td>\n",
       "      <td>25.2</td>\n",
       "      <td>1.0</td>\n",
       "      <td>100.0</td>\n",
       "      <td>530.0</td>\n",
       "      <td>512.0</td>\n",
       "      <td>1041.0</td>\n",
       "      <td>18.0</td>\n",
       "    </tr>\n",
       "    <tr>\n",
       "      <th>8</th>\n",
       "      <td>Delaware</td>\n",
       "      <td>18</td>\n",
       "      <td>24.1</td>\n",
       "      <td>23.4</td>\n",
       "      <td>24.8</td>\n",
       "      <td>23.6</td>\n",
       "      <td>24.1</td>\n",
       "      <td>1.4</td>\n",
       "      <td>100.0</td>\n",
       "      <td>503.0</td>\n",
       "      <td>492.0</td>\n",
       "      <td>996.0</td>\n",
       "      <td>11.0</td>\n",
       "    </tr>\n",
       "    <tr>\n",
       "      <th>9</th>\n",
       "      <td>District of Columbia</td>\n",
       "      <td>32</td>\n",
       "      <td>24.4</td>\n",
       "      <td>23.5</td>\n",
       "      <td>24.9</td>\n",
       "      <td>23.5</td>\n",
       "      <td>24.2</td>\n",
       "      <td>1.4</td>\n",
       "      <td>100.0</td>\n",
       "      <td>482.0</td>\n",
       "      <td>468.0</td>\n",
       "      <td>950.0</td>\n",
       "      <td>14.0</td>\n",
       "    </tr>\n",
       "    <tr>\n",
       "      <th>10</th>\n",
       "      <td>Florida</td>\n",
       "      <td>73</td>\n",
       "      <td>19.0</td>\n",
       "      <td>19.4</td>\n",
       "      <td>21.0</td>\n",
       "      <td>19.4</td>\n",
       "      <td>19.8</td>\n",
       "      <td>2.0</td>\n",
       "      <td>83.0</td>\n",
       "      <td>520.0</td>\n",
       "      <td>497.0</td>\n",
       "      <td>1017.0</td>\n",
       "      <td>23.0</td>\n",
       "    </tr>\n",
       "    <tr>\n",
       "      <th>11</th>\n",
       "      <td>Georgia</td>\n",
       "      <td>55</td>\n",
       "      <td>21.0</td>\n",
       "      <td>20.9</td>\n",
       "      <td>22.0</td>\n",
       "      <td>21.3</td>\n",
       "      <td>21.4</td>\n",
       "      <td>1.1</td>\n",
       "      <td>61.0</td>\n",
       "      <td>535.0</td>\n",
       "      <td>515.0</td>\n",
       "      <td>1050.0</td>\n",
       "      <td>20.0</td>\n",
       "    </tr>\n",
       "    <tr>\n",
       "      <th>12</th>\n",
       "      <td>Hawaii</td>\n",
       "      <td>90</td>\n",
       "      <td>17.8</td>\n",
       "      <td>19.2</td>\n",
       "      <td>19.2</td>\n",
       "      <td>19.3</td>\n",
       "      <td>19.0</td>\n",
       "      <td>1.5</td>\n",
       "      <td>55.0</td>\n",
       "      <td>544.0</td>\n",
       "      <td>541.0</td>\n",
       "      <td>1085.0</td>\n",
       "      <td>3.0</td>\n",
       "    </tr>\n",
       "    <tr>\n",
       "      <th>13</th>\n",
       "      <td>Idaho</td>\n",
       "      <td>38</td>\n",
       "      <td>21.9</td>\n",
       "      <td>21.8</td>\n",
       "      <td>23.0</td>\n",
       "      <td>22.1</td>\n",
       "      <td>22.3</td>\n",
       "      <td>1.2</td>\n",
       "      <td>93.0</td>\n",
       "      <td>513.0</td>\n",
       "      <td>493.0</td>\n",
       "      <td>1005.0</td>\n",
       "      <td>20.0</td>\n",
       "    </tr>\n",
       "    <tr>\n",
       "      <th>15</th>\n",
       "      <td>Indiana</td>\n",
       "      <td>35</td>\n",
       "      <td>22.0</td>\n",
       "      <td>22.4</td>\n",
       "      <td>23.2</td>\n",
       "      <td>22.3</td>\n",
       "      <td>22.6</td>\n",
       "      <td>1.2</td>\n",
       "      <td>63.0</td>\n",
       "      <td>542.0</td>\n",
       "      <td>532.0</td>\n",
       "      <td>1074.0</td>\n",
       "      <td>10.0</td>\n",
       "    </tr>\n",
       "    <tr>\n",
       "      <th>20</th>\n",
       "      <td>Maine</td>\n",
       "      <td>8</td>\n",
       "      <td>24.2</td>\n",
       "      <td>24.0</td>\n",
       "      <td>24.8</td>\n",
       "      <td>23.7</td>\n",
       "      <td>24.3</td>\n",
       "      <td>1.1</td>\n",
       "      <td>95.0</td>\n",
       "      <td>513.0</td>\n",
       "      <td>499.0</td>\n",
       "      <td>1012.0</td>\n",
       "      <td>14.0</td>\n",
       "    </tr>\n",
       "    <tr>\n",
       "      <th>21</th>\n",
       "      <td>Maryland</td>\n",
       "      <td>28</td>\n",
       "      <td>23.3</td>\n",
       "      <td>23.1</td>\n",
       "      <td>24.2</td>\n",
       "      <td>23.2</td>\n",
       "      <td>23.6</td>\n",
       "      <td>1.1</td>\n",
       "      <td>69.0</td>\n",
       "      <td>536.0</td>\n",
       "      <td>524.0</td>\n",
       "      <td>1060.0</td>\n",
       "      <td>12.0</td>\n",
       "    </tr>\n",
       "    <tr>\n",
       "      <th>22</th>\n",
       "      <td>Massachusetts</td>\n",
       "      <td>29</td>\n",
       "      <td>25.4</td>\n",
       "      <td>25.3</td>\n",
       "      <td>25.9</td>\n",
       "      <td>24.7</td>\n",
       "      <td>25.4</td>\n",
       "      <td>1.2</td>\n",
       "      <td>76.0</td>\n",
       "      <td>555.0</td>\n",
       "      <td>551.0</td>\n",
       "      <td>1107.0</td>\n",
       "      <td>4.0</td>\n",
       "    </tr>\n",
       "    <tr>\n",
       "      <th>23</th>\n",
       "      <td>Michigan</td>\n",
       "      <td>29</td>\n",
       "      <td>24.1</td>\n",
       "      <td>23.7</td>\n",
       "      <td>24.5</td>\n",
       "      <td>23.8</td>\n",
       "      <td>24.1</td>\n",
       "      <td>0.8</td>\n",
       "      <td>100.0</td>\n",
       "      <td>509.0</td>\n",
       "      <td>495.0</td>\n",
       "      <td>1005.0</td>\n",
       "      <td>14.0</td>\n",
       "    </tr>\n",
       "    <tr>\n",
       "      <th>30</th>\n",
       "      <td>New Hampshire</td>\n",
       "      <td>18</td>\n",
       "      <td>25.4</td>\n",
       "      <td>25.1</td>\n",
       "      <td>26.0</td>\n",
       "      <td>24.9</td>\n",
       "      <td>25.5</td>\n",
       "      <td>1.1</td>\n",
       "      <td>96.0</td>\n",
       "      <td>532.0</td>\n",
       "      <td>520.0</td>\n",
       "      <td>1052.0</td>\n",
       "      <td>12.0</td>\n",
       "    </tr>\n",
       "    <tr>\n",
       "      <th>31</th>\n",
       "      <td>New Jersey</td>\n",
       "      <td>34</td>\n",
       "      <td>23.8</td>\n",
       "      <td>23.8</td>\n",
       "      <td>24.1</td>\n",
       "      <td>23.2</td>\n",
       "      <td>23.9</td>\n",
       "      <td>0.9</td>\n",
       "      <td>70.0</td>\n",
       "      <td>530.0</td>\n",
       "      <td>526.0</td>\n",
       "      <td>1056.0</td>\n",
       "      <td>4.0</td>\n",
       "    </tr>\n",
       "    <tr>\n",
       "      <th>33</th>\n",
       "      <td>New York</td>\n",
       "      <td>31</td>\n",
       "      <td>23.8</td>\n",
       "      <td>24.0</td>\n",
       "      <td>24.6</td>\n",
       "      <td>23.9</td>\n",
       "      <td>24.2</td>\n",
       "      <td>0.8</td>\n",
       "      <td>67.0</td>\n",
       "      <td>528.0</td>\n",
       "      <td>523.0</td>\n",
       "      <td>1052.0</td>\n",
       "      <td>5.0</td>\n",
       "    </tr>\n",
       "    <tr>\n",
       "      <th>39</th>\n",
       "      <td>Pennsylvania</td>\n",
       "      <td>23</td>\n",
       "      <td>23.4</td>\n",
       "      <td>23.4</td>\n",
       "      <td>24.2</td>\n",
       "      <td>23.3</td>\n",
       "      <td>23.7</td>\n",
       "      <td>0.9</td>\n",
       "      <td>65.0</td>\n",
       "      <td>540.0</td>\n",
       "      <td>531.0</td>\n",
       "      <td>1071.0</td>\n",
       "      <td>9.0</td>\n",
       "    </tr>\n",
       "    <tr>\n",
       "      <th>40</th>\n",
       "      <td>Rhode Island</td>\n",
       "      <td>21</td>\n",
       "      <td>24.0</td>\n",
       "      <td>23.3</td>\n",
       "      <td>24.7</td>\n",
       "      <td>23.4</td>\n",
       "      <td>24.0</td>\n",
       "      <td>1.4</td>\n",
       "      <td>71.0</td>\n",
       "      <td>539.0</td>\n",
       "      <td>524.0</td>\n",
       "      <td>1062.0</td>\n",
       "      <td>15.0</td>\n",
       "    </tr>\n",
       "    <tr>\n",
       "      <th>44</th>\n",
       "      <td>Texas</td>\n",
       "      <td>45</td>\n",
       "      <td>19.5</td>\n",
       "      <td>20.7</td>\n",
       "      <td>21.1</td>\n",
       "      <td>20.9</td>\n",
       "      <td>20.7</td>\n",
       "      <td>1.6</td>\n",
       "      <td>62.0</td>\n",
       "      <td>513.0</td>\n",
       "      <td>507.0</td>\n",
       "      <td>1020.0</td>\n",
       "      <td>6.0</td>\n",
       "    </tr>\n",
       "    <tr>\n",
       "      <th>46</th>\n",
       "      <td>Vermont</td>\n",
       "      <td>29</td>\n",
       "      <td>23.3</td>\n",
       "      <td>23.1</td>\n",
       "      <td>24.4</td>\n",
       "      <td>23.2</td>\n",
       "      <td>23.6</td>\n",
       "      <td>1.3</td>\n",
       "      <td>60.0</td>\n",
       "      <td>562.0</td>\n",
       "      <td>551.0</td>\n",
       "      <td>1114.0</td>\n",
       "      <td>11.0</td>\n",
       "    </tr>\n",
       "    <tr>\n",
       "      <th>47</th>\n",
       "      <td>Virginia</td>\n",
       "      <td>29</td>\n",
       "      <td>23.5</td>\n",
       "      <td>23.3</td>\n",
       "      <td>24.6</td>\n",
       "      <td>23.5</td>\n",
       "      <td>23.8</td>\n",
       "      <td>1.3</td>\n",
       "      <td>65.0</td>\n",
       "      <td>561.0</td>\n",
       "      <td>541.0</td>\n",
       "      <td>1102.0</td>\n",
       "      <td>20.0</td>\n",
       "    </tr>\n",
       "    <tr>\n",
       "      <th>48</th>\n",
       "      <td>Washington</td>\n",
       "      <td>29</td>\n",
       "      <td>20.9</td>\n",
       "      <td>21.9</td>\n",
       "      <td>22.1</td>\n",
       "      <td>22.0</td>\n",
       "      <td>21.9</td>\n",
       "      <td>1.2</td>\n",
       "      <td>64.0</td>\n",
       "      <td>541.0</td>\n",
       "      <td>534.0</td>\n",
       "      <td>1075.0</td>\n",
       "      <td>7.0</td>\n",
       "    </tr>\n",
       "  </tbody>\n",
       "</table>\n",
       "</div>"
      ],
      "text/plain": [
       "                   state  partic-act  eng-act  math-act  read-act  sci-act  \\\n",
       "5             California          31     22.5      22.7      23.1     22.2   \n",
       "7            Connecticut          31     25.5      24.6      25.6     24.6   \n",
       "8               Delaware          18     24.1      23.4      24.8     23.6   \n",
       "9   District of Columbia          32     24.4      23.5      24.9     23.5   \n",
       "10               Florida          73     19.0      19.4      21.0     19.4   \n",
       "11               Georgia          55     21.0      20.9      22.0     21.3   \n",
       "12                Hawaii          90     17.8      19.2      19.2     19.3   \n",
       "13                 Idaho          38     21.9      21.8      23.0     22.1   \n",
       "15               Indiana          35     22.0      22.4      23.2     22.3   \n",
       "20                 Maine           8     24.2      24.0      24.8     23.7   \n",
       "21              Maryland          28     23.3      23.1      24.2     23.2   \n",
       "22         Massachusetts          29     25.4      25.3      25.9     24.7   \n",
       "23              Michigan          29     24.1      23.7      24.5     23.8   \n",
       "30         New Hampshire          18     25.4      25.1      26.0     24.9   \n",
       "31            New Jersey          34     23.8      23.8      24.1     23.2   \n",
       "33              New York          31     23.8      24.0      24.6     23.9   \n",
       "39          Pennsylvania          23     23.4      23.4      24.2     23.3   \n",
       "40          Rhode Island          21     24.0      23.3      24.7     23.4   \n",
       "44                 Texas          45     19.5      20.7      21.1     20.9   \n",
       "46               Vermont          29     23.3      23.1      24.4     23.2   \n",
       "47              Virginia          29     23.5      23.3      24.6     23.5   \n",
       "48            Washington          29     20.9      21.9      22.1     22.0   \n",
       "\n",
       "    comp-act  score-range-act  partic-sat  readwrite-sat  math-sat  total-sat  \\\n",
       "5       22.8              0.9        53.0          531.0     524.0     1055.0   \n",
       "7       25.2              1.0       100.0          530.0     512.0     1041.0   \n",
       "8       24.1              1.4       100.0          503.0     492.0      996.0   \n",
       "9       24.2              1.4       100.0          482.0     468.0      950.0   \n",
       "10      19.8              2.0        83.0          520.0     497.0     1017.0   \n",
       "11      21.4              1.1        61.0          535.0     515.0     1050.0   \n",
       "12      19.0              1.5        55.0          544.0     541.0     1085.0   \n",
       "13      22.3              1.2        93.0          513.0     493.0     1005.0   \n",
       "15      22.6              1.2        63.0          542.0     532.0     1074.0   \n",
       "20      24.3              1.1        95.0          513.0     499.0     1012.0   \n",
       "21      23.6              1.1        69.0          536.0     524.0     1060.0   \n",
       "22      25.4              1.2        76.0          555.0     551.0     1107.0   \n",
       "23      24.1              0.8       100.0          509.0     495.0     1005.0   \n",
       "30      25.5              1.1        96.0          532.0     520.0     1052.0   \n",
       "31      23.9              0.9        70.0          530.0     526.0     1056.0   \n",
       "33      24.2              0.8        67.0          528.0     523.0     1052.0   \n",
       "39      23.7              0.9        65.0          540.0     531.0     1071.0   \n",
       "40      24.0              1.4        71.0          539.0     524.0     1062.0   \n",
       "44      20.7              1.6        62.0          513.0     507.0     1020.0   \n",
       "46      23.6              1.3        60.0          562.0     551.0     1114.0   \n",
       "47      23.8              1.3        65.0          561.0     541.0     1102.0   \n",
       "48      21.9              1.2        64.0          541.0     534.0     1075.0   \n",
       "\n",
       "    score-range-sat  \n",
       "5               7.0  \n",
       "7              18.0  \n",
       "8              11.0  \n",
       "9              14.0  \n",
       "10             23.0  \n",
       "11             20.0  \n",
       "12              3.0  \n",
       "13             20.0  \n",
       "15             10.0  \n",
       "20             14.0  \n",
       "21             12.0  \n",
       "22              4.0  \n",
       "23             14.0  \n",
       "30             12.0  \n",
       "31              4.0  \n",
       "33              5.0  \n",
       "39              9.0  \n",
       "40             15.0  \n",
       "44              6.0  \n",
       "46             11.0  \n",
       "47             20.0  \n",
       "48              7.0  "
      ]
     },
     "execution_count": 82,
     "metadata": {},
     "output_type": "execute_result"
    }
   ],
   "source": [
    "num_sat_act[num_sat_act[\"partic-sat\"]>50]"
   ]
  },
  {
   "cell_type": "code",
   "execution_count": 83,
   "metadata": {
    "collapsed": false
   },
   "outputs": [
    {
     "data": {
      "text/plain": [
       "4"
      ]
     },
     "execution_count": 83,
     "metadata": {},
     "output_type": "execute_result"
    }
   ],
   "source": [
    "#number of states that require the SAT\n",
    "len(num_sat_act[num_sat_act[\"partic-sat\"]==100])"
   ]
  },
  {
   "cell_type": "code",
   "execution_count": 84,
   "metadata": {
    "collapsed": false
   },
   "outputs": [
    {
     "data": {
      "text/plain": [
       "17"
      ]
     },
     "execution_count": 84,
     "metadata": {},
     "output_type": "execute_result"
    }
   ],
   "source": [
    "#number of states that require the ACT\n",
    "len(num_sat_act[num_sat_act[\"partic-act\"]==100])"
   ]
  },
  {
   "cell_type": "markdown",
   "metadata": {},
   "source": [
    "## Step 3: Visualize the data"
   ]
  },
  {
   "cell_type": "markdown",
   "metadata": {
    "collapsed": true
   },
   "source": [
    "##### 16. Using MatPlotLib and PyPlot, plot the distribution of the Rate columns for both SAT and ACT using histograms. (You should have two histograms. You might find [this link](https://matplotlib.org/users/pyplot_tutorial.html#working-with-multiple-figures-and-axes) helpful in organizing one plot above the other.) "
   ]
  },
  {
   "cell_type": "markdown",
   "metadata": {
    "collapsed": true
   },
   "source": [
    "Here we interpret distribution as the value counts for each participation percentage. Reiterated for clarity."
   ]
  },
  {
   "cell_type": "code",
   "execution_count": 85,
   "metadata": {
    "collapsed": true
   },
   "outputs": [],
   "source": [
    "sat_partic = pd.DataFrame(num_sat_act[\"partic-sat\"].value_counts())\n",
    "sat_partic.reset_index(inplace = True)"
   ]
  },
  {
   "cell_type": "code",
   "execution_count": 86,
   "metadata": {
    "collapsed": false
   },
   "outputs": [
    {
     "data": {
      "image/png": "[encoded data removed]",
      "text/plain": [
       "<matplotlib.figure.Figure at 0x10fe04ac8>"
      ]
     },
     "metadata": {},
     "output_type": "display_data"
    }
   ],
   "source": [
    "plt.hist(sat_partic[\"index\"], bins = 15)\n",
    "plt.title(\"SAT Participation Distribution\") \n",
    "plt.show()"
   ]
  },
  {
   "cell_type": "markdown",
   "metadata": {
    "collapsed": true
   },
   "source": [
    "On the SAT there are a number of states with 100% participation, indicating it is part of that state's high school graduation requirements.<br>\n",
    "\n",
    "In states where there is a particular low participation rate, it is possible that the dominant exam in that state is the ACT."
   ]
  },
  {
   "cell_type": "code",
   "execution_count": 87,
   "metadata": {
    "collapsed": false
   },
   "outputs": [],
   "source": [
    "act_partic = pd.DataFrame(num_sat_act[\"partic-act\"].value_counts())\n",
    "act_partic.reset_index(inplace = True)"
   ]
  },
  {
   "cell_type": "code",
   "execution_count": 88,
   "metadata": {
    "collapsed": false
   },
   "outputs": [
    {
     "data": {
      "image/png": "[encoded data removed]",
      "text/plain": [
       "<matplotlib.figure.Figure at 0x10fe04cf8>"
      ]
     },
     "metadata": {},
     "output_type": "display_data"
    }
   ],
   "source": [
    "plt.hist(act_partic[\"index\"], bins = 15)\n",
    "plt.title(\"ACT Participation Distribution\") \n",
    "plt.show()"
   ]
  },
  {
   "cell_type": "markdown",
   "metadata": {
    "collapsed": true
   },
   "source": [
    "On the ACT there are a number of states with 100% participation, indicating it is part of that state's high school graduation requirements.<br>\n",
    "\n",
    "In states where there is a particular low participation rate, it is possible that the dominant exam in that state is the SAT.<br>\n",
    "\n",
    "More states require the ACT for graduation than require the SAT."
   ]
  },
  {
   "cell_type": "markdown",
   "metadata": {},
   "source": [
    "##### 17. Plot the Math(s) distributions from both data sets."
   ]
  },
  {
   "cell_type": "markdown",
   "metadata": {},
   "source": [
    "#### ACT Math Scores"
   ]
  },
  {
   "cell_type": "code",
   "execution_count": 89,
   "metadata": {
    "collapsed": false
   },
   "outputs": [],
   "source": [
    "act_math = pd.DataFrame(num_sat_act[\"math-act\"].value_counts())"
   ]
  },
  {
   "cell_type": "code",
   "execution_count": 90,
   "metadata": {
    "collapsed": false
   },
   "outputs": [],
   "source": [
    "act_math.reset_index(inplace = True)"
   ]
  },
  {
   "cell_type": "code",
   "execution_count": 91,
   "metadata": {
    "collapsed": false
   },
   "outputs": [
    {
     "data": {
      "image/png": "[encoded data removed]",
      "text/plain": [
       "<matplotlib.figure.Figure at 0x1131d2898>"
      ]
     },
     "metadata": {},
     "output_type": "display_data"
    }
   ],
   "source": [
    "plt.hist(act_math[\"index\"], bins = 15)\n",
    "plt.title(\"ACT Math Score Distribution\") \n",
    "plt.show()"
   ]
  },
  {
   "cell_type": "markdown",
   "metadata": {},
   "source": [
    "#### SAT Math Scores"
   ]
  },
  {
   "cell_type": "code",
   "execution_count": 92,
   "metadata": {
    "collapsed": true
   },
   "outputs": [],
   "source": [
    "sat_math = pd.DataFrame(num_sat_act[\"math-sat\"].value_counts())"
   ]
  },
  {
   "cell_type": "code",
   "execution_count": 93,
   "metadata": {
    "collapsed": true
   },
   "outputs": [],
   "source": [
    "sat_math.reset_index(inplace = True)"
   ]
  },
  {
   "cell_type": "code",
   "execution_count": 94,
   "metadata": {
    "collapsed": false
   },
   "outputs": [
    {
     "data": {
      "image/png": "[encoded data removed]",
      "text/plain": [
       "<matplotlib.figure.Figure at 0x1131bd0f0>"
      ]
     },
     "metadata": {},
     "output_type": "display_data"
    }
   ],
   "source": [
    "plt.hist(sat_math[\"index\"], bins = 15)\n",
    "plt.title(\"SAT Math Score Distribution\")\n",
    "plt.show()"
   ]
  },
  {
   "cell_type": "code",
   "execution_count": 95,
   "metadata": {
    "collapsed": false
   },
   "outputs": [
    {
     "data": {
      "image/png": "[encoded data removed]",
      "text/plain": [
       "<matplotlib.figure.Figure at 0x11355d860>"
      ]
     },
     "metadata": {},
     "output_type": "display_data"
    }
   ],
   "source": [
    "plt.figure(1)\n",
    "plt.subplot(211)\n",
    "plt.hist(act_math[\"index\"], bins = 15)\n",
    "plt.title(\"ACT Math Score Distribution\") \n",
    "\n",
    "plt.subplot(212)\n",
    "plt.hist(sat_math[\"index\"], bins = 15)\n",
    "plt.title(\"SAT Math Score Distribution\")\n",
    "\n",
    "fig = plt.gcf()\n",
    "fig.subplots_adjust(hspace = 0.5)\n",
    "plt.show()"
   ]
  },
  {
   "cell_type": "markdown",
   "metadata": {},
   "source": [
    "##### 18. Plot the Verbal distributions from both data sets."
   ]
  },
  {
   "cell_type": "markdown",
   "metadata": {},
   "source": [
    "#### ACT Verbal"
   ]
  },
  {
   "cell_type": "code",
   "execution_count": 96,
   "metadata": {
    "collapsed": false
   },
   "outputs": [],
   "source": [
    "act_read = pd.DataFrame(num_sat_act[\"read-act\"].value_counts())\n",
    "act_read.reset_index(inplace = True)"
   ]
  },
  {
   "cell_type": "code",
   "execution_count": 97,
   "metadata": {
    "collapsed": false
   },
   "outputs": [],
   "source": [
    "act_eng = pd.DataFrame(num_sat_act[\"eng-act\"].value_counts())\n",
    "act_eng.reset_index(inplace=True)"
   ]
  },
  {
   "cell_type": "code",
   "execution_count": 98,
   "metadata": {
    "collapsed": false
   },
   "outputs": [
    {
     "data": {
      "image/png": "[encoded data removed]",
      "text/plain": [
       "<matplotlib.figure.Figure at 0x113870940>"
      ]
     },
     "metadata": {},
     "output_type": "display_data"
    }
   ],
   "source": [
    "x = act_read[\"index\"]\n",
    "y = act_eng[\"index\"]\n",
    "\n",
    "bins = 15\n",
    "\n",
    "plt.hist(x, bins, alpha=0.5, label='ACT Reading Score')\n",
    "plt.hist(y, bins, alpha=0.5, label='ACT English Score')\n",
    "plt.legend(loc='upper right')\n",
    "plt.title(\"ACT Verbal Score\")\n",
    "plt.show()"
   ]
  },
  {
   "cell_type": "markdown",
   "metadata": {
    "collapsed": true
   },
   "source": [
    "I plotted ACT Reading and ACT English over one another because I wanted to considering how similar they were to one another and dually how similar they were to the distribution of the SAT Verbal section."
   ]
  },
  {
   "cell_type": "markdown",
   "metadata": {},
   "source": [
    "#### SAT Verbal"
   ]
  },
  {
   "cell_type": "code",
   "execution_count": 99,
   "metadata": {
    "collapsed": true
   },
   "outputs": [],
   "source": [
    "sat_verb = pd.DataFrame(num_sat_act['readwrite-sat'].value_counts())\n",
    "sat_verb.reset_index(inplace=True)"
   ]
  },
  {
   "cell_type": "code",
   "execution_count": 100,
   "metadata": {
    "collapsed": false
   },
   "outputs": [
    {
     "data": {
      "image/png": "[encoded data removed]",
      "text/plain": [
       "<matplotlib.figure.Figure at 0x113576128>"
      ]
     },
     "metadata": {},
     "output_type": "display_data"
    }
   ],
   "source": [
    "plt.hist(sat_verb[\"index\"], bins = 15)\n",
    "plt.title(\"SAT Verbal Score Distribution\")\n",
    "plt.show()"
   ]
  },
  {
   "cell_type": "code",
   "execution_count": 101,
   "metadata": {
    "collapsed": false
   },
   "outputs": [
    {
     "data": {
      "image/png": "[encoded data removed]",
      "text/plain": [
       "<matplotlib.figure.Figure at 0x1135bf198>"
      ]
     },
     "metadata": {},
     "output_type": "display_data"
    }
   ],
   "source": [
    "x = act_read[\"index\"]\n",
    "y = act_eng[\"index\"]\n",
    "\n",
    "bins = 15\n",
    "\n",
    "plt.hist(x, bins, alpha=0.5, label='ACT Reading Score')\n",
    "plt.hist(y, bins, alpha=0.5, label='ACT English Score')\n",
    "plt.legend(loc='upper right')\n",
    "plt.title(\"ACT Verbal Score\")\n",
    "plt.show()"
   ]
  },
  {
   "cell_type": "markdown",
   "metadata": {},
   "source": [
    "ACT English scores show a histogram more similar to the SAT Verbal scores"
   ]
  },
  {
   "cell_type": "markdown",
   "metadata": {},
   "source": [
    "##### 19. When we make assumptions about how data are distributed, what is the most common assumption?"
   ]
  },
  {
   "cell_type": "markdown",
   "metadata": {
    "collapsed": true
   },
   "source": [
    "Many times we assume that the distribution is normally distributed. We can do so because of the Central Limit Theorem."
   ]
  },
  {
   "cell_type": "markdown",
   "metadata": {},
   "source": [
    "##### 20. Does this assumption hold true for any of our columns? Which?"
   ]
  },
  {
   "cell_type": "markdown",
   "metadata": {
    "collapsed": true
   },
   "source": [
    "Judging by the histograms, none of our columns are normally distributed."
   ]
  },
  {
   "cell_type": "markdown",
   "metadata": {},
   "source": [
    "##### 21. Plot some scatterplots examining relationships between all variables."
   ]
  },
  {
   "cell_type": "code",
   "execution_count": 102,
   "metadata": {
    "collapsed": false
   },
   "outputs": [
    {
     "data": {
      "text/plain": [
       "Index(['state', 'partic-act', 'eng-act', 'math-act', 'read-act', 'sci-act',\n",
       "       'comp-act', 'score-range-act', 'partic-sat', 'readwrite-sat',\n",
       "       'math-sat', 'total-sat', 'score-range-sat'],\n",
       "      dtype='object')"
      ]
     },
     "execution_count": 102,
     "metadata": {},
     "output_type": "execute_result"
    }
   ],
   "source": [
    "num_sat_act.columns"
   ]
  },
  {
   "cell_type": "code",
   "execution_count": 103,
   "metadata": {
    "collapsed": false
   },
   "outputs": [
    {
     "data": {
      "image/png": "[encoded data removed]",
      "text/plain": [
       "<matplotlib.figure.Figure at 0x10fcd35c0>"
      ]
     },
     "metadata": {},
     "output_type": "display_data"
    }
   ],
   "source": [
    "plt.rcParams['figure.figsize'] =(20,20)\n",
    "pd.plotting.scatter_matrix(num_sat_act[[\"partic-act\", \"comp-act\", \"partic-sat\",\"total-sat\"]], alpha = 1, diagonal ='kde')\n",
    "plt.show()"
   ]
  },
  {
   "cell_type": "markdown",
   "metadata": {},
   "source": [
    "That was a great way to see a bunch of scatters at once, but for clarity, we will look at a few of them individually."
   ]
  },
  {
   "cell_type": "code",
   "execution_count": 104,
   "metadata": {
    "collapsed": false
   },
   "outputs": [
    {
     "data": {
      "text/plain": [
       "51"
      ]
     },
     "execution_count": 104,
     "metadata": {},
     "output_type": "execute_result"
    }
   ],
   "source": [
    "len((list(enumerate(num_sat_act[\"state\"]))))"
   ]
  },
  {
   "cell_type": "code",
   "execution_count": 105,
   "metadata": {
    "collapsed": false
   },
   "outputs": [
    {
     "data": {
      "image/png": "[encoded data removed]",
      "text/plain": [
       "<matplotlib.figure.Figure at 0x114117e80>"
      ]
     },
     "metadata": {},
     "output_type": "display_data"
    }
   ],
   "source": [
    "fig, ax = plt.subplots()\n",
    "y = num_sat_act[\"partic-act\"]\n",
    "z = num_sat_act['partic-sat']\n",
    "ax.scatter(y, z)\n",
    "plt.ylabel('Participation in SAT')\n",
    "plt.xlabel('Participation in ACT')\n",
    "plt.title(\"ACT participation x SAT participation\")\n",
    "    \n",
    "plt.show()"
   ]
  },
  {
   "cell_type": "markdown",
   "metadata": {},
   "source": [
    "Here we see that exam participation rates have an inverse relationship. For example, the higher the participation in the SAT, the lower the participation in the ACT. These variables are negatively correlated. We can conclude that this confirms an either/or relationship many High School seniors have towards the ACT and SAT.\n",
    "\n",
    "Except in Florida. With a wopping 73% participation on the ACT and 83% on the SAT."
   ]
  },
  {
   "cell_type": "code",
   "execution_count": 106,
   "metadata": {
    "collapsed": false
   },
   "outputs": [
    {
     "data": {
      "image/png": "[encoded data removed]",
      "text/plain": [
       "<matplotlib.figure.Figure at 0x114ea5208>"
      ]
     },
     "metadata": {},
     "output_type": "display_data"
    }
   ],
   "source": [
    "plt.figure()\n",
    "\n",
    "plt.subplot(221) #2 rows, cols, plot\n",
    "plt.scatter(num_sat_act[\"partic-act\"], num_sat_act[\"total-sat\"])\n",
    "plt.ylabel('SAT Score')\n",
    "plt.xlabel('Participation in ACT')\n",
    "plt.title(\"ACT participation x SAT Score\")\n",
    "\n",
    "plt.subplot(222) #2 rows, col, plot\n",
    "plt.scatter(num_sat_act[\"partic-sat\"], num_sat_act[\"comp-act\"])\n",
    "plt.ylabel('ACT Score')\n",
    "plt.xlabel('Participation in SAT')\n",
    "plt.title(\"SAT participation x ACT Score\")\n",
    "\n",
    "\n",
    "plt.subplot(224) #2 rows, col, plot\n",
    "plt.scatter(num_sat_act[\"partic-sat\"], num_sat_act[\"total-sat\"])\n",
    "plt.ylabel('SAT Score')\n",
    "plt.xlabel('Participation in SAT')\n",
    "plt.title(\"SAT participation x SAT Score\")\n",
    "\n",
    "\n",
    "plt.subplot(223) #2 rows, col, plot\n",
    "plt.scatter(num_sat_act[\"partic-act\"], num_sat_act[\"comp-act\"])\n",
    "plt.ylabel('ACT Score')\n",
    "plt.xlabel('Participation in ACT')\n",
    "plt.title(\"ACT participation x ACT Score\")\n",
    "\n",
    "fig = plt.gcf()\n",
    "fig.subplots_adjust(hspace = 0.5)\n",
    "\n",
    "plt.show()"
   ]
  },
  {
   "cell_type": "markdown",
   "metadata": {},
   "source": [
    "We know the higher the participation rate for a particular exam indicates a lower total average score. \n",
    "\n",
    "Here we see that in general, ACT participation rate and SAT Score are directly related. This could be because where the ACT is required to graduate from high school, only the best exam takers will opt to take the SAT. This confirms an either/or approach taken by exam takers."
   ]
  },
  {
   "cell_type": "code",
   "execution_count": 107,
   "metadata": {
    "collapsed": false
   },
   "outputs": [
    {
     "data": {
      "image/png": "[encoded data removed]",
      "text/plain": [
       "<matplotlib.figure.Figure at 0x115695c50>"
      ]
     },
     "metadata": {},
     "output_type": "display_data"
    }
   ],
   "source": [
    "plt.scatter(num_sat_act[\"comp-act\"], num_sat_act[\"total-sat\"])\n",
    "plt.ylabel('SAT Score')\n",
    "plt.xlabel('ACT Score')\n",
    "plt.title(\"ACT Score x SAT Score\")\n",
    "plt.show()"
   ]
  },
  {
   "cell_type": "code",
   "execution_count": 108,
   "metadata": {
    "collapsed": false
   },
   "outputs": [
    {
     "data": {
      "text/plain": [
       "array([[ 1.        , -0.44502019],\n",
       "       [-0.44502019,  1.        ]])"
      ]
     },
     "execution_count": 108,
     "metadata": {},
     "output_type": "execute_result"
    }
   ],
   "source": [
    "np.corrcoef(num_sat_act[\"total-sat\"],num_sat_act[\"comp-act\"])"
   ]
  },
  {
   "cell_type": "markdown",
   "metadata": {},
   "source": [
    "Here we see that there is a loose, inverse relationship between SAT and ACT scores. This relationship is not as strong because states that require a specific exam as a highschool diploma pre-requisite are being compared to states where only college bound seniors elect to take it. The correlation between ACT and SAT scores weakens when comparing whole population scores versus self selecting samples. "
   ]
  },
  {
   "cell_type": "code",
   "execution_count": 109,
   "metadata": {
    "collapsed": false
   },
   "outputs": [
    {
     "data": {
      "image/png": "[encoded data removed]",
      "text/plain": [
       "<matplotlib.figure.Figure at 0x113e5b860>"
      ]
     },
     "metadata": {},
     "output_type": "display_data"
    }
   ],
   "source": [
    "plt.scatter(num_sat_act[\"score-range-sat\"], num_sat_act[\"score-range-act\"])\n",
    "plt.ylabel('ACT score range')\n",
    "plt.xlabel('SAT score range')\n",
    "plt.title(\"ACT and SAT section score ranges\")\n",
    "plt.show()"
   ]
  },
  {
   "cell_type": "markdown",
   "metadata": {},
   "source": [
    "This was just for fun. I wanted to observe the relationship between ACT section score range and SAT section score range. Is it more likely that exam takers will have a higher range between sections on the SAT or ACT even though they are ostensibly over similar topics? Our graph indicates not really."
   ]
  },
  {
   "cell_type": "code",
   "execution_count": 110,
   "metadata": {
    "collapsed": false
   },
   "outputs": [
    {
     "data": {
      "image/png": "[encoded data removed]",
      "text/plain": [
       "<matplotlib.figure.Figure at 0x113c6b6a0>"
      ]
     },
     "metadata": {},
     "output_type": "display_data"
    }
   ],
   "source": [
    "plt.scatter(num_sat_act[\"math-act\"], num_sat_act[\"math-sat\"])\n",
    "plt.ylabel('SAT Math')\n",
    "plt.xlabel('ACT Math')\n",
    "plt.title(\"ACT Math x SAT Math\")\n",
    "plt.show()"
   ]
  },
  {
   "cell_type": "code",
   "execution_count": 111,
   "metadata": {
    "collapsed": false
   },
   "outputs": [
    {
     "data": {
      "text/plain": [
       "array([[ 1.        , -0.42045604],\n",
       "       [-0.42045604,  1.        ]])"
      ]
     },
     "execution_count": 111,
     "metadata": {},
     "output_type": "execute_result"
    }
   ],
   "source": [
    "np.corrcoef(num_sat_act[\"math-sat\"],num_sat_act[\"math-act\"])"
   ]
  },
  {
   "cell_type": "code",
   "execution_count": 112,
   "metadata": {
    "collapsed": true
   },
   "outputs": [],
   "source": [
    "#No correlation."
   ]
  },
  {
   "cell_type": "markdown",
   "metadata": {},
   "source": [
    "##### 22. Are there any interesting relationships to note?"
   ]
  },
  {
   "cell_type": "markdown",
   "metadata": {
    "collapsed": true
   },
   "source": [
    "A lot of the relationships can be summarized by the inverse relationship between participation rate and composite score. For example, the higher the participation rate for an exam, the lower the scores for that particular exam.\n",
    "\n",
    "Exam participation rates also have an inverse relationship. For example, the higher the participation rate for one exame indicates a lower participation rate on the other.\n",
    "\n",
    "I found it interesting that the ACT composite and SAT total scores are not directly correlated. I suspect this arises from states requiring one or the other for high school graduation while the other is optional. The exam that is required will have lower overall scores and the one that is elective will have higher scores."
   ]
  },
  {
   "cell_type": "markdown",
   "metadata": {},
   "source": [
    "##### 23. Create box plots for each variable. "
   ]
  },
  {
   "cell_type": "code",
   "execution_count": 113,
   "metadata": {
    "collapsed": false
   },
   "outputs": [],
   "source": [
    "x = num_sat_act[[\"partic-act\", \"comp-act\", \"partic-sat\",\"total-sat\"]]"
   ]
  },
  {
   "cell_type": "code",
   "execution_count": 114,
   "metadata": {
    "collapsed": false
   },
   "outputs": [
    {
     "data": {
      "image/png": "[encoded data removed]",
      "text/plain": [
       "<matplotlib.figure.Figure at 0x114e9ca58>"
      ]
     },
     "metadata": {},
     "output_type": "display_data"
    }
   ],
   "source": [
    "x.plot.box()\n",
    "plt.show()"
   ]
  },
  {
   "cell_type": "markdown",
   "metadata": {},
   "source": [
    "We see that ACT composites do not vary as much as the other columns evaluated do. This is because the ACT score has a maximum of 25.5 and minimum of 17.8. This is a range of 7.7 which is miniscule when scaled next to the ranges of other variables."
   ]
  },
  {
   "cell_type": "markdown",
   "metadata": {},
   "source": [
    "##### BONUS: Using Tableau, create a heat map for each variable using a map of the US. "
   ]
  },
  {
   "cell_type": "code",
   "execution_count": 115,
   "metadata": {
    "collapsed": false
   },
   "outputs": [],
   "source": [
    "heat_map = num_sat_act.loc[:,[\"state\",\"partic-sat\",\"partic-act\"]]\n",
    "heat_map[\"dom-exam\"] = heat_map.apply(lambda x: x[\"partic-sat\"]>x['partic-act'], axis =1)\n",
    "heat_map.to_csv(\"../data/sat_act_data.csv\",index = False)"
   ]
  },
  {
   "cell_type": "code",
   "execution_count": 116,
   "metadata": {
    "collapsed": false
   },
   "outputs": [
    {
     "data": {
      "text/html": [
       "<div class='tableauPlaceholder' id='viz1507263529905' style='position: relative'><noscript><a href='#'><img alt='Exam Dominance ' src='https:&#47;&#47;public.tableau.com&#47;static&#47;images&#47;SA&#47;SATACTdominance&#47;ExamDominance&#47;1_rss.png' style='border: none' /></a></noscript><object class='tableauViz'  style='display:none;'><param name='host_url' value='https%3A%2F%2Fpublic.tableau.com%2F' /> <param name='embed_code_version' value='2' /> <param name='site_root' value='' /><param name='name' value='SATACTdominance&#47;ExamDominance' /><param name='tabs' value='no' /><param name='toolbar' value='yes' /><param name='static_image' value='https:&#47;&#47;public.tableau.com&#47;static&#47;images&#47;SA&#47;SATACTdominance&#47;ExamDominance&#47;1.png' /> <param name='animate_transition' value='yes' /><param name='display_static_image' value='yes' /><param name='display_spinner' value='yes' /><param name='display_overlay' value='yes' /><param name='display_count' value='yes' /><param name='filter' value='publish=yes' /></object></div>                <script type='text/javascript'>                    var divElement = document.getElementById('viz1507263529905');                    var vizElement = divElement.getElementsByTagName('object')[0];                    vizElement.style.width='100%';vizElement.style.height=(divElement.offsetWidth*0.75)+'px';                    var scriptElement = document.createElement('script');                    scriptElement.src = 'https://public.tableau.com/javascripts/api/viz_v1.js';                    vizElement.parentNode.insertBefore(scriptElement, vizElement);                </script>"
      ],
      "text/plain": [
       "<IPython.core.display.HTML object>"
      ]
     },
     "metadata": {},
     "output_type": "display_data"
    }
   ],
   "source": [
    "%%HTML\n",
    "<div class='tableauPlaceholder' id='viz1507263529905' style='position: relative'><noscript><a href='#'><img alt='Exam Dominance ' src='https:&#47;&#47;public.tableau.com&#47;static&#47;images&#47;SA&#47;SATACTdominance&#47;ExamDominance&#47;1_rss.png' style='border: none' /></a></noscript><object class='tableauViz'  style='display:none;'><param name='host_url' value='https%3A%2F%2Fpublic.tableau.com%2F' /> <param name='embed_code_version' value='2' /> <param name='site_root' value='' /><param name='name' value='SATACTdominance&#47;ExamDominance' /><param name='tabs' value='no' /><param name='toolbar' value='yes' /><param name='static_image' value='https:&#47;&#47;public.tableau.com&#47;static&#47;images&#47;SA&#47;SATACTdominance&#47;ExamDominance&#47;1.png' /> <param name='animate_transition' value='yes' /><param name='display_static_image' value='yes' /><param name='display_spinner' value='yes' /><param name='display_overlay' value='yes' /><param name='display_count' value='yes' /><param name='filter' value='publish=yes' /></object></div>                <script type='text/javascript'>                    var divElement = document.getElementById('viz1507263529905');                    var vizElement = divElement.getElementsByTagName('object')[0];                    vizElement.style.width='100%';vizElement.style.height=(divElement.offsetWidth*0.75)+'px';                    var scriptElement = document.createElement('script');                    scriptElement.src = 'https://public.tableau.com/javascripts/api/viz_v1.js';                    vizElement.parentNode.insertBefore(scriptElement, vizElement);                </script>"
   ]
  },
  {
   "cell_type": "markdown",
   "metadata": {},
   "source": [
    "Heatmap of the 30 open states:"
   ]
  },
  {
   "cell_type": "code",
   "execution_count": 117,
   "metadata": {
    "collapsed": true
   },
   "outputs": [],
   "source": [
    "heat_map2 = num_sat_act.loc[:,[\"state\",\"partic-sat\",\"partic-act\"]]"
   ]
  },
  {
   "cell_type": "code",
   "execution_count": 118,
   "metadata": {
    "collapsed": false
   },
   "outputs": [],
   "source": [
    "heat_map2[\"open\"] = heat_map.apply(lambda x: ((x[\"partic-sat\"]!=100)&(x['partic-act']!=100)), axis =1)\n",
    "heat_map2.to_csv(\"../data/sat_act_open_states.csv\",index = False)                                   "
   ]
  },
  {
   "cell_type": "code",
   "execution_count": 119,
   "metadata": {
    "collapsed": false
   },
   "outputs": [
    {
     "data": {
      "text/html": [
       "<div class='tableauPlaceholder' id='viz1507272906441' style='position: relative'><noscript><a href='#'><img alt='Open States ' src='https:&#47;&#47;public.tableau.com&#47;static&#47;images&#47;PN&#47;PNFSRPBXX&#47;1_rss.png' style='border: none' /></a></noscript><object class='tableauViz'  style='display:none;'><param name='host_url' value='https%3A%2F%2Fpublic.tableau.com%2F' /> <param name='embed_code_version' value='2' /> <param name='path' value='shared&#47;PNFSRPBXX' /> <param name='toolbar' value='yes' /><param name='static_image' value='https:&#47;&#47;public.tableau.com&#47;static&#47;images&#47;PN&#47;PNFSRPBXX&#47;1.png' /> <param name='animate_transition' value='yes' /><param name='display_static_image' value='yes' /><param name='display_spinner' value='yes' /><param name='display_overlay' value='yes' /><param name='display_count' value='yes' /><param name='filter' value='publish=yes' /></object></div>                <script type='text/javascript'>                    var divElement = document.getElementById('viz1507272906441');                    var vizElement = divElement.getElementsByTagName('object')[0];                    vizElement.style.width='100%';vizElement.style.height=(divElement.offsetWidth*0.75)+'px';                    var scriptElement = document.createElement('script');                    scriptElement.src = 'https://public.tableau.com/javascripts/api/viz_v1.js';                    vizElement.parentNode.insertBefore(scriptElement, vizElement);                </script>"
      ],
      "text/plain": [
       "<IPython.core.display.HTML object>"
      ]
     },
     "metadata": {},
     "output_type": "display_data"
    }
   ],
   "source": [
    "%%HTML\n",
    "<div class='tableauPlaceholder' id='viz1507272906441' style='position: relative'><noscript><a href='#'><img alt='Open States ' src='https:&#47;&#47;public.tableau.com&#47;static&#47;images&#47;PN&#47;PNFSRPBXX&#47;1_rss.png' style='border: none' /></a></noscript><object class='tableauViz'  style='display:none;'><param name='host_url' value='https%3A%2F%2Fpublic.tableau.com%2F' /> <param name='embed_code_version' value='2' /> <param name='path' value='shared&#47;PNFSRPBXX' /> <param name='toolbar' value='yes' /><param name='static_image' value='https:&#47;&#47;public.tableau.com&#47;static&#47;images&#47;PN&#47;PNFSRPBXX&#47;1.png' /> <param name='animate_transition' value='yes' /><param name='display_static_image' value='yes' /><param name='display_spinner' value='yes' /><param name='display_overlay' value='yes' /><param name='display_count' value='yes' /><param name='filter' value='publish=yes' /></object></div>                <script type='text/javascript'>                    var divElement = document.getElementById('viz1507272906441');                    var vizElement = divElement.getElementsByTagName('object')[0];                    vizElement.style.width='100%';vizElement.style.height=(divElement.offsetWidth*0.75)+'px';                    var scriptElement = document.createElement('script');                    scriptElement.src = 'https://public.tableau.com/javascripts/api/viz_v1.js';                    vizElement.parentNode.insertBefore(scriptElement, vizElement);                </script>"
   ]
  },
  {
   "cell_type": "markdown",
   "metadata": {},
   "source": [
    "## Step 4: Descriptive and Inferential Statistics"
   ]
  },
  {
   "cell_type": "markdown",
   "metadata": {},
   "source": [
    "##### 24. Summarize each distribution. As data scientists, be sure to back up these summaries with statistics. (Hint: What are the three things we care about when describing distributions?)"
   ]
  },
  {
   "cell_type": "markdown",
   "metadata": {
    "collapsed": true
   },
   "source": [
    "Data scientists care about the following things\n",
    "- <u>center:</u> mean, median, mode\n",
    "- <u>spread:</u> standard deviation, variance, range\n",
    "- <u>shape:</u> skew, symmetric <Br>\n",
    "\n",
    "I will proceed to describe the distributions of SAT score, SAT participation, ACT score and ACT participation using the aforementioned descriptors. "
   ]
  },
  {
   "cell_type": "markdown",
   "metadata": {},
   "source": [
    "### SAT Score and Participation"
   ]
  },
  {
   "cell_type": "markdown",
   "metadata": {},
   "source": [
    "As a refresher here is what distributions look like:"
   ]
  },
  {
   "cell_type": "code",
   "execution_count": 120,
   "metadata": {
    "collapsed": true
   },
   "outputs": [],
   "source": [
    "act_total = pd.DataFrame(num_sat_act[\"comp-act\"].value_counts())\n",
    "act_total.reset_index(inplace = True)\n",
    "\n",
    "sat_total = pd.DataFrame(num_sat_act[\"total-sat\"].value_counts())\n",
    "sat_total.reset_index(inplace = True)"
   ]
  },
  {
   "cell_type": "code",
   "execution_count": 121,
   "metadata": {
    "collapsed": false
   },
   "outputs": [
    {
     "data": {
      "image/png": "[encoded data removed]",
      "text/plain": [
       "<matplotlib.figure.Figure at 0x11411e208>"
      ]
     },
     "metadata": {},
     "output_type": "display_data"
    }
   ],
   "source": [
    "plt.subplot(221)\n",
    "plt.hist(act_partic[\"index\"], bins = 10)\n",
    "plt.title(\"ACT Participation Distribution\") \n",
    "\n",
    "plt.subplot(222)\n",
    "plt.hist(sat_partic[\"index\"], bins = 10)\n",
    "plt.title(\"SAT Participation Distribution\") \n",
    "\n",
    "plt.subplot(223)\n",
    "plt.hist(act_total[\"index\"], bins = 10)\n",
    "plt.title(\"ACT Composite Scores\") \n",
    "\n",
    "plt.subplot(224)\n",
    "plt.hist(sat_total[\"index\"], bins = 10)\n",
    "plt.title(\"SAT Total Scores\") \n",
    "plt.show()"
   ]
  },
  {
   "cell_type": "code",
   "execution_count": 122,
   "metadata": {
    "collapsed": false
   },
   "outputs": [],
   "source": [
    "from scipy import stats"
   ]
  },
  {
   "cell_type": "code",
   "execution_count": 123,
   "metadata": {
    "collapsed": false
   },
   "outputs": [],
   "source": [
    "def describe_dists(variable = [\"comp-act\", \"total-sat\", \"partic-act\", \"partic-sat\"]):\n",
    "    x = str(variable)\n",
    "    a_dict = {\"comp-act\":\"ACT Score\",\n",
    "             \"total-sat\": \"SAT Score\",\n",
    "             \"partic-act\": \"ACT Participation\",\n",
    "             \"partic-sat\":\"SAT Participation\"}\n",
    "    print (\"Characteristics about \"+a_dict[x]+\" CENTER:\")\n",
    "    print (\"Mean: \"+str(np.mean(num_sat_act[variable])))\n",
    "    print (\"Median: \"+str(np.median(num_sat_act[variable])))\n",
    "    try:\n",
    "        print (\"Mode: \"+str(mode(num_sat_act[variable])))\n",
    "    except:\n",
    "        pass\n",
    "    print(\" \")\n",
    "    print (\"Characteristics about \"+a_dict[x]+\" SPREAD:\")\n",
    "    print (\"Standard Deviation: \"+str(np.std(num_sat_act[variable])))\n",
    "    print (\"Variance: \"+str(np.var(num_sat_act[variable])))\n",
    "    print (\"Range: \"+str(np.ptp(num_sat_act[variable])))\n",
    "    print(\" \")\n",
    "    print (\"Characteristics about \"+a_dict[x]+\" SHAPE:\")\n",
    "    print (\"Skewness: \"+str(stats.skew(num_sat_act[variable])))"
   ]
  },
  {
   "cell_type": "code",
   "execution_count": 124,
   "metadata": {
    "collapsed": false
   },
   "outputs": [
    {
     "name": "stdout",
     "output_type": "stream",
     "text": [
      "Characteristics about ACT Score CENTER:\n",
      "Mean: 21.519607843137255\n",
      "Median: 21.4\n",
      " \n",
      "Characteristics about ACT Score SPREAD:\n",
      "Standard Deviation: 2.000786081581989\n",
      "Variance: 4.00314494425221\n",
      "Range: 7.7\n",
      " \n",
      "Characteristics about ACT Score SHAPE:\n",
      "Skewness: 0.3103255637098951\n"
     ]
    }
   ],
   "source": [
    "describe_dists(\"comp-act\")"
   ]
  },
  {
   "cell_type": "code",
   "execution_count": 125,
   "metadata": {
    "collapsed": false
   },
   "outputs": [
    {
     "name": "stdout",
     "output_type": "stream",
     "text": [
      "Characteristics about SAT Score CENTER:\n",
      "Mean: 1126.0980392156862\n",
      "Median: 1107.0\n",
      " \n",
      "Characteristics about SAT Score SPREAD:\n",
      "Standard Deviation: 91.58351056778743\n",
      "Variance: 8387.53940792003\n",
      "Range: 345.0\n",
      " \n",
      "Characteristics about SAT Score SHAPE:\n",
      "Skewness: 0.30168334986069095\n"
     ]
    }
   ],
   "source": [
    "describe_dists(\"total-sat\")"
   ]
  },
  {
   "cell_type": "code",
   "execution_count": 126,
   "metadata": {
    "collapsed": false
   },
   "outputs": [
    {
     "name": "stdout",
     "output_type": "stream",
     "text": [
      "Characteristics about ACT Participation CENTER:\n",
      "Mean: 65.25490196078431\n",
      "Median: 69.0\n",
      "Mode: 100\n",
      " \n",
      "Characteristics about ACT Participation SPREAD:\n",
      "Standard Deviation: 31.824175751231806\n",
      "Variance: 1012.7781622452906\n",
      "Range: 92\n",
      " \n",
      "Characteristics about ACT Participation SHAPE:\n",
      "Skewness: -0.19211796242279808\n"
     ]
    }
   ],
   "source": [
    "describe_dists(\"partic-act\")"
   ]
  },
  {
   "cell_type": "code",
   "execution_count": 127,
   "metadata": {
    "collapsed": false
   },
   "outputs": [
    {
     "name": "stdout",
     "output_type": "stream",
     "text": [
      "Characteristics about SAT Participation CENTER:\n",
      "Mean: 39.80392156862745\n",
      "Median: 38.0\n",
      "Mode: 3.0\n",
      " \n",
      "Characteristics about SAT Participation SPREAD:\n",
      "Standard Deviation: 34.92907076664508\n",
      "Variance: 1220.0399846213\n",
      "Range: 98.0\n",
      " \n",
      "Characteristics about SAT Participation SHAPE:\n",
      "Skewness: 0.33617543925343646\n"
     ]
    }
   ],
   "source": [
    "describe_dists(\"partic-sat\")"
   ]
  },
  {
   "cell_type": "markdown",
   "metadata": {},
   "source": [
    "##### 25. Summarize each relationship. Be sure to back up these summaries with statistics."
   ]
  },
  {
   "cell_type": "markdown",
   "metadata": {
    "collapsed": true
   },
   "source": [
    "This is done above after each of the scatter plots."
   ]
  },
  {
   "cell_type": "markdown",
   "metadata": {},
   "source": [
    "##### 26. Execute a hypothesis test comparing the SAT and ACT participation rates. Use $\\alpha = 0.05$. Be sure to interpret your results."
   ]
  },
  {
   "cell_type": "markdown",
   "metadata": {
    "collapsed": true
   },
   "source": [
    "$H_0$ = there is no difference in the participation in exam A and the participation in exam B<br>\n",
    "$H_A$ = there is a difference in participation in exam A and exam B"
   ]
  },
  {
   "cell_type": "code",
   "execution_count": 128,
   "metadata": {
    "collapsed": false
   },
   "outputs": [
    {
     "data": {
      "text/plain": [
       "Ttest_indResult(statistic=3.808577890817054, pvalue=0.00024238408285306908)"
      ]
     },
     "execution_count": 128,
     "metadata": {},
     "output_type": "execute_result"
    }
   ],
   "source": [
    "# First we must find a p value.\n",
    "stats.ttest_ind(num_sat_act[\"partic-act\"], num_sat_act['partic-sat'], equal_var = False)"
   ]
  },
  {
   "cell_type": "markdown",
   "metadata": {},
   "source": [
    "Based on the $p$ value, .0002, we can reject the null hypothesis. Since our t-statistic is positive, it suggests that participation in the ACT is higher than in the SAT."
   ]
  },
  {
   "cell_type": "markdown",
   "metadata": {},
   "source": [
    "##### I will also execute a hypothesis test comparing SAT and ACT participation rates in the 30 states that do not require either for high school graduation."
   ]
  },
  {
   "cell_type": "markdown",
   "metadata": {},
   "source": [
    "$H_0^2$ = there is no difference in the participation in exam A and the participation in exam B<br>\n",
    "$H_A^2$ = there is a difference in participation in exam A and exam B"
   ]
  },
  {
   "cell_type": "code",
   "execution_count": 129,
   "metadata": {
    "collapsed": true
   },
   "outputs": [],
   "source": [
    "num_sat_act2 = num_sat_act[(num_sat_act[\"partic-act\"] != 100) & (num_sat_act[\"partic-sat\"] != 100)]"
   ]
  },
  {
   "cell_type": "code",
   "execution_count": 130,
   "metadata": {
    "collapsed": false
   },
   "outputs": [
    {
     "data": {
      "text/plain": [
       "Ttest_indResult(statistic=0.35876324889533168, pvalue=0.72112443997199516)"
      ]
     },
     "execution_count": 130,
     "metadata": {},
     "output_type": "execute_result"
    }
   ],
   "source": [
    "stats.ttest_ind(num_sat_act2[\"partic-act\"], num_sat_act2[\"partic-sat\"], equal_var=False)"
   ]
  },
  {
   "cell_type": "markdown",
   "metadata": {},
   "source": [
    "Based on the $p$ value, .7211244399, we fail to reject the null hypothesis. SAT still has the chance to win marketshare in the 30 open states!"
   ]
  },
  {
   "cell_type": "markdown",
   "metadata": {},
   "source": [
    "##### 27. Generate and interpret 95% confidence intervals for SAT and ACT participation rates."
   ]
  },
  {
   "cell_type": "code",
   "execution_count": 131,
   "metadata": {
    "collapsed": false
   },
   "outputs": [],
   "source": [
    "conf_level = 0.95\n",
    "mean = np.mean(num_sat_act[\"partic-sat\"])\n",
    "sigma = np.std(num_sat_act[\"partic-sat\"])\n",
    "n = len(num_sat_act[\"partic-sat\"])"
   ]
  },
  {
   "cell_type": "code",
   "execution_count": 132,
   "metadata": {
    "collapsed": false
   },
   "outputs": [
    {
     "data": {
      "text/plain": [
       "(30.217643220943465, 49.390199916311438)"
      ]
     },
     "execution_count": 132,
     "metadata": {},
     "output_type": "execute_result"
    }
   ],
   "source": [
    "stats.norm.interval(conf_level, loc=mean, scale=sigma/(n ** 0.5)) ## n > 1"
   ]
  },
  {
   "cell_type": "markdown",
   "metadata": {},
   "source": [
    "With 95% confidence, the average state participation rate in the SAT will be between 30.217 and 49.390."
   ]
  },
  {
   "cell_type": "code",
   "execution_count": 133,
   "metadata": {
    "collapsed": true
   },
   "outputs": [],
   "source": [
    "conf_level = 0.95\n",
    "mean = np.mean(num_sat_act[\"partic-act\"])\n",
    "sigma = np.std(num_sat_act[\"partic-act\"])\n",
    "n = len(num_sat_act[\"partic-act\"])"
   ]
  },
  {
   "cell_type": "code",
   "execution_count": 134,
   "metadata": {
    "collapsed": false
   },
   "outputs": [
    {
     "data": {
      "text/plain": [
       "(56.520761594581103, 73.989042326987516)"
      ]
     },
     "execution_count": 134,
     "metadata": {},
     "output_type": "execute_result"
    }
   ],
   "source": [
    "stats.norm.interval(conf_level, loc=mean, scale=sigma/(n ** 0.5)) ## n > 1"
   ]
  },
  {
   "cell_type": "markdown",
   "metadata": {},
   "source": [
    "With 95% confidence, the average state participation rate in the ACT will be between 56.5208 and 73.989."
   ]
  },
  {
   "cell_type": "markdown",
   "metadata": {},
   "source": [
    "##### 28. Given your answer to 26, was your answer to 27 surprising? Why?"
   ]
  },
  {
   "cell_type": "markdown",
   "metadata": {},
   "source": [
    "My answer to 27 was indicated by my answer to 26. I was not surprised."
   ]
  },
  {
   "cell_type": "markdown",
   "metadata": {
    "collapsed": true
   },
   "source": [
    "##### 29. Is it appropriate to generate correlation between SAT and ACT math scores? Why?"
   ]
  },
  {
   "cell_type": "code",
   "execution_count": 135,
   "metadata": {
    "collapsed": false
   },
   "outputs": [
    {
     "data": {
      "image/png": "[encoded data removed]",
      "text/plain": [
       "<matplotlib.figure.Figure at 0x11411acc0>"
      ]
     },
     "metadata": {},
     "output_type": "display_data"
    }
   ],
   "source": [
    "#recreated from above\n",
    "plt.scatter(num_sat_act[\"math-act\"], num_sat_act[\"math-sat\"])\n",
    "plt.ylabel('SAT Math')\n",
    "plt.xlabel('ACT Math')\n",
    "plt.title(\"ACT Math x SAT Math\")\n",
    "plt.show()"
   ]
  },
  {
   "cell_type": "code",
   "execution_count": 136,
   "metadata": {
    "collapsed": false
   },
   "outputs": [
    {
     "data": {
      "text/plain": [
       "array([[ 1.        , -0.42045604],\n",
       "       [-0.42045604,  1.        ]])"
      ]
     },
     "execution_count": 136,
     "metadata": {},
     "output_type": "execute_result"
    }
   ],
   "source": [
    "np.corrcoef(num_sat_act[\"math-sat\"],num_sat_act[\"math-act\"])"
   ]
  },
  {
   "cell_type": "markdown",
   "metadata": {},
   "source": [
    "With correlation coefficient $-.5<|\\rho| <.5$, it is not appropriate to generate correlation between math scores. This is in part because the effect participation rates have on average total score. Since we are comparing the ACT which is required in 17 states, and the SAT which is only required in 4 states, finding correlation between section scores is impossible."
   ]
  },
  {
   "cell_type": "markdown",
   "metadata": {},
   "source": [
    "##### 30. Suppose we only seek to understand the relationship between SAT and ACT data in 2017. Does it make sense to conduct statistical inference given the data we have? Why?"
   ]
  },
  {
   "cell_type": "markdown",
   "metadata": {
    "collapsed": true
   },
   "source": [
    "If we only seek to understand the relationship between the SAT and ACT data for 2017, it makes sense to conduct statistical inference given the data we have because we can assume by the Central Limit Theorem that each sample in a whole population will reflect the whole and converge means and standard deviation statistics. <br><br>\n",
    "This isn't to say that additional context wouldn't be helpful in understanding the data from 2017. In addition to statistical inference, it would be beneficial to observe the trends of exam participation leading up to 2017 so we can fully understand how the 2017 SAT test changes affected participation in their first year."
   ]
  },
  {
   "cell_type": "markdown",
   "metadata": {},
   "source": [
    "##### NMO additional analysis: t test between SAT dominant states and ACT dominant states.\n",
    "##### Given exam A is the dominant exam, is exam B still taken? Which exam (ACT or SAT) performs better as exam B?"
   ]
  },
  {
   "cell_type": "code",
   "execution_count": 137,
   "metadata": {
    "collapsed": false
   },
   "outputs": [
    {
     "data": {
      "text/html": [
       "<div>\n",
       "<style>\n",
       "    .dataframe thead tr:only-child th {\n",
       "        text-align: right;\n",
       "    }\n",
       "\n",
       "    .dataframe thead th {\n",
       "        text-align: left;\n",
       "    }\n",
       "\n",
       "    .dataframe tbody tr th {\n",
       "        vertical-align: top;\n",
       "    }\n",
       "</style>\n",
       "<table border=\"1\" class=\"dataframe\">\n",
       "  <thead>\n",
       "    <tr style=\"text-align: right;\">\n",
       "      <th></th>\n",
       "      <th>state</th>\n",
       "      <th>partic-sat</th>\n",
       "      <th>partic-act</th>\n",
       "      <th>dom-exam</th>\n",
       "    </tr>\n",
       "  </thead>\n",
       "  <tbody>\n",
       "    <tr>\n",
       "      <th>1</th>\n",
       "      <td>Alabama</td>\n",
       "      <td>5.0</td>\n",
       "      <td>100</td>\n",
       "      <td>False</td>\n",
       "    </tr>\n",
       "    <tr>\n",
       "      <th>2</th>\n",
       "      <td>Alaska</td>\n",
       "      <td>38.0</td>\n",
       "      <td>65</td>\n",
       "      <td>False</td>\n",
       "    </tr>\n",
       "    <tr>\n",
       "      <th>3</th>\n",
       "      <td>Arizona</td>\n",
       "      <td>30.0</td>\n",
       "      <td>62</td>\n",
       "      <td>False</td>\n",
       "    </tr>\n",
       "    <tr>\n",
       "      <th>4</th>\n",
       "      <td>Arkansas</td>\n",
       "      <td>3.0</td>\n",
       "      <td>100</td>\n",
       "      <td>False</td>\n",
       "    </tr>\n",
       "    <tr>\n",
       "      <th>5</th>\n",
       "      <td>California</td>\n",
       "      <td>53.0</td>\n",
       "      <td>31</td>\n",
       "      <td>True</td>\n",
       "    </tr>\n",
       "  </tbody>\n",
       "</table>\n",
       "</div>"
      ],
      "text/plain": [
       "        state  partic-sat  partic-act  dom-exam\n",
       "1     Alabama         5.0         100     False\n",
       "2      Alaska        38.0          65     False\n",
       "3     Arizona        30.0          62     False\n",
       "4    Arkansas         3.0         100     False\n",
       "5  California        53.0          31      True"
      ]
     },
     "execution_count": 137,
     "metadata": {},
     "output_type": "execute_result"
    }
   ],
   "source": [
    "heat_map.head()"
   ]
  },
  {
   "cell_type": "code",
   "execution_count": 138,
   "metadata": {
    "collapsed": false
   },
   "outputs": [],
   "source": [
    "satdom = heat_map[heat_map[\"dom-exam\"]==True]"
   ]
  },
  {
   "cell_type": "code",
   "execution_count": 139,
   "metadata": {
    "collapsed": true
   },
   "outputs": [],
   "source": [
    "actdom = heat_map[heat_map[\"dom-exam\"]==False]"
   ]
  },
  {
   "cell_type": "code",
   "execution_count": 140,
   "metadata": {
    "collapsed": false
   },
   "outputs": [
    {
     "name": "stderr",
     "output_type": "stream",
     "text": [
      "/Users/nmolivo/anaconda/lib/python3.5/site-packages/ipykernel/__main__.py:1: SettingWithCopyWarning: \n",
      "A value is trying to be set on a copy of a slice from a DataFrame.\n",
      "Try using .loc[row_indexer,col_indexer] = value instead\n",
      "\n",
      "See the caveats in the documentation: http://pandas.pydata.org/pandas-docs/stable/indexing.html#indexing-view-versus-copy\n",
      "  if __name__ == '__main__':\n"
     ]
    }
   ],
   "source": [
    "satdom[\"diff\"] = satdom.apply(lambda x: (x[\"partic-sat\"]-x[\"partic-act\"]), axis =1)"
   ]
  },
  {
   "cell_type": "code",
   "execution_count": 141,
   "metadata": {
    "collapsed": false
   },
   "outputs": [
    {
     "data": {
      "text/html": [
       "<div>\n",
       "<style>\n",
       "    .dataframe thead tr:only-child th {\n",
       "        text-align: right;\n",
       "    }\n",
       "\n",
       "    .dataframe thead th {\n",
       "        text-align: left;\n",
       "    }\n",
       "\n",
       "    .dataframe tbody tr th {\n",
       "        vertical-align: top;\n",
       "    }\n",
       "</style>\n",
       "<table border=\"1\" class=\"dataframe\">\n",
       "  <thead>\n",
       "    <tr style=\"text-align: right;\">\n",
       "      <th></th>\n",
       "      <th>state</th>\n",
       "      <th>partic-sat</th>\n",
       "      <th>partic-act</th>\n",
       "      <th>dom-exam</th>\n",
       "      <th>diff</th>\n",
       "    </tr>\n",
       "  </thead>\n",
       "  <tbody>\n",
       "    <tr>\n",
       "      <th>5</th>\n",
       "      <td>California</td>\n",
       "      <td>53.0</td>\n",
       "      <td>31</td>\n",
       "      <td>True</td>\n",
       "      <td>22.0</td>\n",
       "    </tr>\n",
       "    <tr>\n",
       "      <th>7</th>\n",
       "      <td>Connecticut</td>\n",
       "      <td>100.0</td>\n",
       "      <td>31</td>\n",
       "      <td>True</td>\n",
       "      <td>69.0</td>\n",
       "    </tr>\n",
       "    <tr>\n",
       "      <th>8</th>\n",
       "      <td>Delaware</td>\n",
       "      <td>100.0</td>\n",
       "      <td>18</td>\n",
       "      <td>True</td>\n",
       "      <td>82.0</td>\n",
       "    </tr>\n",
       "    <tr>\n",
       "      <th>9</th>\n",
       "      <td>District of Columbia</td>\n",
       "      <td>100.0</td>\n",
       "      <td>32</td>\n",
       "      <td>True</td>\n",
       "      <td>68.0</td>\n",
       "    </tr>\n",
       "    <tr>\n",
       "      <th>10</th>\n",
       "      <td>Florida</td>\n",
       "      <td>83.0</td>\n",
       "      <td>73</td>\n",
       "      <td>True</td>\n",
       "      <td>10.0</td>\n",
       "    </tr>\n",
       "  </tbody>\n",
       "</table>\n",
       "</div>"
      ],
      "text/plain": [
       "                   state  partic-sat  partic-act  dom-exam  diff\n",
       "5             California        53.0          31      True  22.0\n",
       "7            Connecticut       100.0          31      True  69.0\n",
       "8               Delaware       100.0          18      True  82.0\n",
       "9   District of Columbia       100.0          32      True  68.0\n",
       "10               Florida        83.0          73      True  10.0"
      ]
     },
     "execution_count": 141,
     "metadata": {},
     "output_type": "execute_result"
    }
   ],
   "source": [
    "satdom.head()"
   ]
  },
  {
   "cell_type": "code",
   "execution_count": 142,
   "metadata": {
    "collapsed": false
   },
   "outputs": [
    {
     "name": "stderr",
     "output_type": "stream",
     "text": [
      "/Users/nmolivo/anaconda/lib/python3.5/site-packages/ipykernel/__main__.py:1: SettingWithCopyWarning: \n",
      "A value is trying to be set on a copy of a slice from a DataFrame.\n",
      "Try using .loc[row_indexer,col_indexer] = value instead\n",
      "\n",
      "See the caveats in the documentation: http://pandas.pydata.org/pandas-docs/stable/indexing.html#indexing-view-versus-copy\n",
      "  if __name__ == '__main__':\n"
     ]
    }
   ],
   "source": [
    "actdom[\"diff\"] = actdom.apply(lambda x: (x[\"partic-act\"]-x[\"partic-sat\"]), axis = 1)"
   ]
  },
  {
   "cell_type": "code",
   "execution_count": 143,
   "metadata": {
    "collapsed": false
   },
   "outputs": [
    {
     "data": {
      "text/html": [
       "<div>\n",
       "<style>\n",
       "    .dataframe thead tr:only-child th {\n",
       "        text-align: right;\n",
       "    }\n",
       "\n",
       "    .dataframe thead th {\n",
       "        text-align: left;\n",
       "    }\n",
       "\n",
       "    .dataframe tbody tr th {\n",
       "        vertical-align: top;\n",
       "    }\n",
       "</style>\n",
       "<table border=\"1\" class=\"dataframe\">\n",
       "  <thead>\n",
       "    <tr style=\"text-align: right;\">\n",
       "      <th></th>\n",
       "      <th>state</th>\n",
       "      <th>partic-sat</th>\n",
       "      <th>partic-act</th>\n",
       "      <th>dom-exam</th>\n",
       "      <th>diff</th>\n",
       "    </tr>\n",
       "  </thead>\n",
       "  <tbody>\n",
       "    <tr>\n",
       "      <th>1</th>\n",
       "      <td>Alabama</td>\n",
       "      <td>5.0</td>\n",
       "      <td>100</td>\n",
       "      <td>False</td>\n",
       "      <td>95.0</td>\n",
       "    </tr>\n",
       "    <tr>\n",
       "      <th>2</th>\n",
       "      <td>Alaska</td>\n",
       "      <td>38.0</td>\n",
       "      <td>65</td>\n",
       "      <td>False</td>\n",
       "      <td>27.0</td>\n",
       "    </tr>\n",
       "    <tr>\n",
       "      <th>3</th>\n",
       "      <td>Arizona</td>\n",
       "      <td>30.0</td>\n",
       "      <td>62</td>\n",
       "      <td>False</td>\n",
       "      <td>32.0</td>\n",
       "    </tr>\n",
       "    <tr>\n",
       "      <th>4</th>\n",
       "      <td>Arkansas</td>\n",
       "      <td>3.0</td>\n",
       "      <td>100</td>\n",
       "      <td>False</td>\n",
       "      <td>97.0</td>\n",
       "    </tr>\n",
       "    <tr>\n",
       "      <th>6</th>\n",
       "      <td>Colorado</td>\n",
       "      <td>11.0</td>\n",
       "      <td>100</td>\n",
       "      <td>False</td>\n",
       "      <td>89.0</td>\n",
       "    </tr>\n",
       "  </tbody>\n",
       "</table>\n",
       "</div>"
      ],
      "text/plain": [
       "      state  partic-sat  partic-act  dom-exam  diff\n",
       "1   Alabama         5.0         100     False  95.0\n",
       "2    Alaska        38.0          65     False  27.0\n",
       "3   Arizona        30.0          62     False  32.0\n",
       "4  Arkansas         3.0         100     False  97.0\n",
       "6  Colorado        11.0         100     False  89.0"
      ]
     },
     "execution_count": 143,
     "metadata": {},
     "output_type": "execute_result"
    }
   ],
   "source": [
    "actdom.head()"
   ]
  },
  {
   "cell_type": "code",
   "execution_count": 144,
   "metadata": {
    "collapsed": false
   },
   "outputs": [
    {
     "data": {
      "image/png": "[encoded data removed]",
      "text/plain": [
       "<matplotlib.figure.Figure at 0x1137de7f0>"
      ]
     },
     "metadata": {},
     "output_type": "display_data"
    }
   ],
   "source": [
    "X1 = actdom[\"partic-act\"]\n",
    "Y1 = actdom[\"diff\"]\n",
    "\n",
    "X2 = satdom[\"partic-sat\"]\n",
    "Y2 = satdom[\"diff\"]\n",
    "\n",
    "plt.figure(figsize=(7,7))\n",
    "plt.scatter(X1,Y1,color='red')\n",
    "plt.scatter(X2,Y2,color='blue')\n",
    "plt.legend([\"ACT dominant\", \"SAT dominant\"])\n",
    "plt.title(\"How frequently do students take the non-dominant exam in their state?\")\n",
    "plt.xlabel(\"Participation Rate in dominant exam\")\n",
    "plt.ylabel(\"Difference between Participation Rate in dominant exam and non-dominant exam\")\n",
    "plt.show()"
   ]
  },
  {
   "cell_type": "markdown",
   "metadata": {},
   "source": [
    "Above we see that in general, where the ACT is dominant, there are larger spreads between ACT and SAT participation rates."
   ]
  },
  {
   "cell_type": "markdown",
   "metadata": {},
   "source": [
    "Doing the t-test of means<Br>\n",
    "$H_0$ = there is no difference in the difference between participation in the dominant and non-dominant exams. That is regardless of which exam is dominant, relative to the dominant exam, there are similar participation rates in the non-dominant exam.<br>\n",
    "$H_A$ = there is a difference in the difference between participation rates in the dominant and non-dominant exams. That is relative to the dominant exam, the non-dominant exam for one exam type, the non-dominant exam maintains a higher participation rate than the other.<br><Br>\n",
    "For example, we might find where the SAT is dominant, students still take the ACT in high numbers, however where the ACT is dominant, very few people take the SAT."
   ]
  },
  {
   "cell_type": "code",
   "execution_count": 145,
   "metadata": {
    "collapsed": false
   },
   "outputs": [
    {
     "data": {
      "text/plain": [
       "Ttest_indResult(statistic=5.1102862720100513, pvalue=6.9896778335714098e-06)"
      ]
     },
     "execution_count": 145,
     "metadata": {},
     "output_type": "execute_result"
    }
   ],
   "source": [
    "# First we must find a p value.\n",
    "stats.ttest_ind(actdom[\"diff\"], satdom['diff'], equal_var = False)"
   ]
  },
  {
   "cell_type": "markdown",
   "metadata": {},
   "source": [
    "Based on the $p$ value, .0000006989677, we can reject the null hypothesis. Since our t-statistic is positive, it suggests that even when the SAT is the dominant exam in the market, substantial numbers still take the ACT. The opposite does not hold true."
   ]
  }
 ],
 "metadata": {
  "anaconda-cloud": {},
  "kernelspec": {
   "display_name": "Python [default]",
   "language": "python",
   "name": "python3"
  },
  "language_info": {
   "codemirror_mode": {
    "name": "ipython",
    "version": 3
   },
   "file_extension": ".py",
   "mimetype": "text/x-python",
   "name": "python",
   "nbconvert_exporter": "python",
   "pygments_lexer": "ipython3",
   "version": "3.5.2"
  }
 },
 "nbformat": 4,
 "nbformat_minor": 1
}
